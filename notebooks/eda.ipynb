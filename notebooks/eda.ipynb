{
 "cells": [
  {
   "cell_type": "markdown",
   "id": "d534f415-d117-4ff0-a35d-125b82f62e6b",
   "metadata": {},
   "source": [
    "# Exploraty Data Analysis"
   ]
  },
  {
   "cell_type": "code",
   "execution_count": null,
   "id": "609e307a",
   "metadata": {},
   "outputs": [],
   "source": [
    "import pandas as pd\n",
    "import matplotlib.pyplot as plt\n",
    "\n",
    "df_accounts = pd.read_csv(\"../data/raw/crm-sales-opportunities/accounts.csv\")\n",
    "df_products = pd.read_csv(\"../data/raw/crm-sales-opportunities/products.csv\")\n",
    "df_teams = pd.read_csv(\"../data/raw/crm-sales-opportunities/sales_teams.csv\")\n",
    "df_sales = pd.read_csv(\n",
    "    \"../data/raw/crm-sales-opportunities/sales_pipeline.csv\")\n"
   ]
  },
  {
   "cell_type": "markdown",
   "id": "efd0a7ad",
   "metadata": {},
   "source": [
    "## Sales pipeline"
   ]
  },
  {
   "cell_type": "markdown",
   "id": "fcd987aa",
   "metadata": {},
   "source": [
    "### Cleaning"
   ]
  },
  {
   "cell_type": "code",
   "execution_count": null,
   "id": "8556be79",
   "metadata": {},
   "outputs": [
    {
     "data": {
      "text/html": [
       "<div>\n",
       "<style scoped>\n",
       "    .dataframe tbody tr th:only-of-type {\n",
       "        vertical-align: middle;\n",
       "    }\n",
       "\n",
       "    .dataframe tbody tr th {\n",
       "        vertical-align: top;\n",
       "    }\n",
       "\n",
       "    .dataframe thead th {\n",
       "        text-align: right;\n",
       "    }\n",
       "</style>\n",
       "<table border=\"1\" class=\"dataframe\">\n",
       "  <thead>\n",
       "    <tr style=\"text-align: right;\">\n",
       "      <th></th>\n",
       "      <th>opportunity_id</th>\n",
       "      <th>sales_agent</th>\n",
       "      <th>product</th>\n",
       "      <th>account</th>\n",
       "      <th>deal_stage</th>\n",
       "      <th>engage_date</th>\n",
       "      <th>close_date</th>\n",
       "      <th>close_value</th>\n",
       "    </tr>\n",
       "  </thead>\n",
       "  <tbody>\n",
       "    <tr>\n",
       "      <th>0</th>\n",
       "      <td>1C1I7A6R</td>\n",
       "      <td>Moses Frase</td>\n",
       "      <td>GTX Plus Basic</td>\n",
       "      <td>Cancity</td>\n",
       "      <td>Won</td>\n",
       "      <td>2016-10-20</td>\n",
       "      <td>2017-03-01</td>\n",
       "      <td>1054.0</td>\n",
       "    </tr>\n",
       "    <tr>\n",
       "      <th>1</th>\n",
       "      <td>Z063OYW0</td>\n",
       "      <td>Darcel Schlecht</td>\n",
       "      <td>GTXPro</td>\n",
       "      <td>Isdom</td>\n",
       "      <td>Won</td>\n",
       "      <td>2016-10-25</td>\n",
       "      <td>2017-03-11</td>\n",
       "      <td>4514.0</td>\n",
       "    </tr>\n",
       "    <tr>\n",
       "      <th>2</th>\n",
       "      <td>EC4QE1BX</td>\n",
       "      <td>Darcel Schlecht</td>\n",
       "      <td>MG Special</td>\n",
       "      <td>Cancity</td>\n",
       "      <td>Won</td>\n",
       "      <td>2016-10-25</td>\n",
       "      <td>2017-03-07</td>\n",
       "      <td>50.0</td>\n",
       "    </tr>\n",
       "    <tr>\n",
       "      <th>3</th>\n",
       "      <td>MV1LWRNH</td>\n",
       "      <td>Moses Frase</td>\n",
       "      <td>GTX Basic</td>\n",
       "      <td>Codehow</td>\n",
       "      <td>Won</td>\n",
       "      <td>2016-10-25</td>\n",
       "      <td>2017-03-09</td>\n",
       "      <td>588.0</td>\n",
       "    </tr>\n",
       "    <tr>\n",
       "      <th>4</th>\n",
       "      <td>PE84CX4O</td>\n",
       "      <td>Zane Levy</td>\n",
       "      <td>GTX Basic</td>\n",
       "      <td>Hatfan</td>\n",
       "      <td>Won</td>\n",
       "      <td>2016-10-25</td>\n",
       "      <td>2017-03-02</td>\n",
       "      <td>517.0</td>\n",
       "    </tr>\n",
       "    <tr>\n",
       "      <th>5</th>\n",
       "      <td>ZNBS69V1</td>\n",
       "      <td>Anna Snelling</td>\n",
       "      <td>MG Special</td>\n",
       "      <td>Ron-tech</td>\n",
       "      <td>Won</td>\n",
       "      <td>2016-10-29</td>\n",
       "      <td>2017-03-01</td>\n",
       "      <td>49.0</td>\n",
       "    </tr>\n",
       "    <tr>\n",
       "      <th>6</th>\n",
       "      <td>9ME3374G</td>\n",
       "      <td>Vicki Laflamme</td>\n",
       "      <td>MG Special</td>\n",
       "      <td>J-Texon</td>\n",
       "      <td>Won</td>\n",
       "      <td>2016-10-30</td>\n",
       "      <td>2017-03-02</td>\n",
       "      <td>57.0</td>\n",
       "    </tr>\n",
       "    <tr>\n",
       "      <th>7</th>\n",
       "      <td>7GN8Q4LL</td>\n",
       "      <td>Markita Hansen</td>\n",
       "      <td>GTX Basic</td>\n",
       "      <td>Cheers</td>\n",
       "      <td>Won</td>\n",
       "      <td>2016-11-01</td>\n",
       "      <td>2017-03-07</td>\n",
       "      <td>601.0</td>\n",
       "    </tr>\n",
       "    <tr>\n",
       "      <th>8</th>\n",
       "      <td>OLK9LKZB</td>\n",
       "      <td>Niesha Huffines</td>\n",
       "      <td>GTX Plus Basic</td>\n",
       "      <td>Zumgoity</td>\n",
       "      <td>Won</td>\n",
       "      <td>2016-11-01</td>\n",
       "      <td>2017-03-03</td>\n",
       "      <td>1026.0</td>\n",
       "    </tr>\n",
       "    <tr>\n",
       "      <th>9</th>\n",
       "      <td>HAXMC4IX</td>\n",
       "      <td>James Ascencio</td>\n",
       "      <td>MG Advanced</td>\n",
       "      <td>NaN</td>\n",
       "      <td>Engaging</td>\n",
       "      <td>2016-11-03</td>\n",
       "      <td>NaN</td>\n",
       "      <td>NaN</td>\n",
       "    </tr>\n",
       "  </tbody>\n",
       "</table>\n",
       "</div>"
      ],
      "text/plain": [
       "  opportunity_id      sales_agent         product   account deal_stage  \\\n",
       "0       1C1I7A6R      Moses Frase  GTX Plus Basic   Cancity        Won   \n",
       "1       Z063OYW0  Darcel Schlecht          GTXPro     Isdom        Won   \n",
       "2       EC4QE1BX  Darcel Schlecht      MG Special   Cancity        Won   \n",
       "3       MV1LWRNH      Moses Frase       GTX Basic   Codehow        Won   \n",
       "4       PE84CX4O        Zane Levy       GTX Basic    Hatfan        Won   \n",
       "5       ZNBS69V1    Anna Snelling      MG Special  Ron-tech        Won   \n",
       "6       9ME3374G   Vicki Laflamme      MG Special   J-Texon        Won   \n",
       "7       7GN8Q4LL   Markita Hansen       GTX Basic    Cheers        Won   \n",
       "8       OLK9LKZB  Niesha Huffines  GTX Plus Basic  Zumgoity        Won   \n",
       "9       HAXMC4IX   James Ascencio     MG Advanced       NaN   Engaging   \n",
       "\n",
       "  engage_date  close_date  close_value  \n",
       "0  2016-10-20  2017-03-01       1054.0  \n",
       "1  2016-10-25  2017-03-11       4514.0  \n",
       "2  2016-10-25  2017-03-07         50.0  \n",
       "3  2016-10-25  2017-03-09        588.0  \n",
       "4  2016-10-25  2017-03-02        517.0  \n",
       "5  2016-10-29  2017-03-01         49.0  \n",
       "6  2016-10-30  2017-03-02         57.0  \n",
       "7  2016-11-01  2017-03-07        601.0  \n",
       "8  2016-11-01  2017-03-03       1026.0  \n",
       "9  2016-11-03         NaN          NaN  "
      ]
     },
     "execution_count": 2,
     "metadata": {},
     "output_type": "execute_result"
    }
   ],
   "source": [
    "df_sales.head(10)\n"
   ]
  },
  {
   "cell_type": "markdown",
   "id": "687c3647",
   "metadata": {},
   "source": [
    "Remove non relevant rows where the deal is still in progress:"
   ]
  },
  {
   "cell_type": "code",
   "execution_count": null,
   "id": "e35db8ca",
   "metadata": {},
   "outputs": [
    {
     "name": "stdout",
     "output_type": "stream",
     "text": [
      "8800 sales in total\n",
      "6711 actual sales\n",
      "2089 still prospecting\n"
     ]
    }
   ],
   "source": [
    "df_sales_clean = df_sales.copy().dropna(subset=['close_value'])\n",
    "total_sales = df_sales.shape[0]\n",
    "actual_sales = df_sales_clean.shape[0]\n",
    "print(f\"{total_sales} sales in total\")\n",
    "print(f\"{actual_sales} actual sales\")\n",
    "print(f\"{total_sales - actual_sales} still prospecting\")\n"
   ]
  },
  {
   "cell_type": "markdown",
   "id": "245ac451",
   "metadata": {},
   "source": [
    "There are only two type of sale status: `Won` or `Lost`:"
   ]
  },
  {
   "cell_type": "code",
   "execution_count": null,
   "id": "3ab78821",
   "metadata": {},
   "outputs": [
    {
     "data": {
      "text/plain": [
       "array(['Won', 'Lost'], dtype=object)"
      ]
     },
     "execution_count": 4,
     "metadata": {},
     "output_type": "execute_result"
    }
   ],
   "source": [
    "df_sales_clean['deal_stage'].unique()\n"
   ]
  },
  {
   "cell_type": "markdown",
   "id": "a0f1ad40",
   "metadata": {},
   "source": [
    "Transform this into a binary column:"
   ]
  },
  {
   "cell_type": "code",
   "execution_count": null,
   "id": "ce620da1",
   "metadata": {},
   "outputs": [
    {
     "data": {
      "text/plain": [
       "deal_stage\n",
       "1    4238\n",
       "0    2473\n",
       "Name: count, dtype: int64"
      ]
     },
     "execution_count": 5,
     "metadata": {},
     "output_type": "execute_result"
    }
   ],
   "source": [
    "df_sales_clean['deal_stage'] = df_sales_clean['deal_stage'].apply(\n",
    "    lambda x: 1 if x.lower() == 'won' else 0)\n",
    "df_sales_clean['deal_stage'].value_counts()\n"
   ]
  },
  {
   "cell_type": "markdown",
   "id": "4d80f659",
   "metadata": {},
   "source": [
    "Transform dates and integers columns:"
   ]
  },
  {
   "cell_type": "code",
   "execution_count": null,
   "id": "297568cc",
   "metadata": {},
   "outputs": [],
   "source": [
    "df_sales_clean['engage_date'] = pd.to_datetime(df_sales_clean['engage_date'])\n",
    "df_sales_clean['close_date'] = pd.to_datetime(df_sales_clean['close_date'])\n",
    "df_sales_clean['close_value'] = pd.to_numeric(\n",
    "    df_sales_clean['close_value'], downcast='integer')\n"
   ]
  },
  {
   "cell_type": "markdown",
   "id": "6e653dce",
   "metadata": {},
   "source": [
    "The rest of the columns are strings:"
   ]
  },
  {
   "cell_type": "code",
   "execution_count": null,
   "id": "b44dae43",
   "metadata": {},
   "outputs": [],
   "source": [
    "for col in ['opportunity_id', 'sales_agent', 'product', 'account']:\n",
    "    df_sales_clean[col] = df_sales_clean[col].astype('string')\n"
   ]
  },
  {
   "cell_type": "code",
   "execution_count": null,
   "id": "2391d1e8",
   "metadata": {},
   "outputs": [
    {
     "data": {
      "text/plain": [
       "opportunity_id    string[python]\n",
       "sales_agent       string[python]\n",
       "product           string[python]\n",
       "account           string[python]\n",
       "deal_stage                 int64\n",
       "engage_date       datetime64[ns]\n",
       "close_date        datetime64[ns]\n",
       "close_value                int16\n",
       "dtype: object"
      ]
     },
     "execution_count": 8,
     "metadata": {},
     "output_type": "execute_result"
    }
   ],
   "source": [
    "df_sales_clean.dtypes\n"
   ]
  },
  {
   "cell_type": "markdown",
   "id": "cd48b9e3",
   "metadata": {},
   "source": [
    "### Preprocessing"
   ]
  },
  {
   "cell_type": "code",
   "execution_count": null,
   "id": "77e29707",
   "metadata": {},
   "outputs": [
    {
     "data": {
      "text/html": [
       "<div>\n",
       "<style scoped>\n",
       "    .dataframe tbody tr th:only-of-type {\n",
       "        vertical-align: middle;\n",
       "    }\n",
       "\n",
       "    .dataframe tbody tr th {\n",
       "        vertical-align: top;\n",
       "    }\n",
       "\n",
       "    .dataframe thead th {\n",
       "        text-align: right;\n",
       "    }\n",
       "</style>\n",
       "<table border=\"1\" class=\"dataframe\">\n",
       "  <thead>\n",
       "    <tr style=\"text-align: right;\">\n",
       "      <th></th>\n",
       "      <th>opportunity_id</th>\n",
       "      <th>sales_agent</th>\n",
       "      <th>product</th>\n",
       "      <th>account</th>\n",
       "      <th>deal_stage</th>\n",
       "      <th>engage_date</th>\n",
       "      <th>close_date</th>\n",
       "      <th>close_value</th>\n",
       "    </tr>\n",
       "  </thead>\n",
       "  <tbody>\n",
       "    <tr>\n",
       "      <th>0</th>\n",
       "      <td>1C1I7A6R</td>\n",
       "      <td>Moses Frase</td>\n",
       "      <td>GTX Plus Basic</td>\n",
       "      <td>Cancity</td>\n",
       "      <td>1</td>\n",
       "      <td>2016-10-20</td>\n",
       "      <td>2017-03-01</td>\n",
       "      <td>1054</td>\n",
       "    </tr>\n",
       "    <tr>\n",
       "      <th>1</th>\n",
       "      <td>Z063OYW0</td>\n",
       "      <td>Darcel Schlecht</td>\n",
       "      <td>GTXPro</td>\n",
       "      <td>Isdom</td>\n",
       "      <td>1</td>\n",
       "      <td>2016-10-25</td>\n",
       "      <td>2017-03-11</td>\n",
       "      <td>4514</td>\n",
       "    </tr>\n",
       "    <tr>\n",
       "      <th>2</th>\n",
       "      <td>EC4QE1BX</td>\n",
       "      <td>Darcel Schlecht</td>\n",
       "      <td>MG Special</td>\n",
       "      <td>Cancity</td>\n",
       "      <td>1</td>\n",
       "      <td>2016-10-25</td>\n",
       "      <td>2017-03-07</td>\n",
       "      <td>50</td>\n",
       "    </tr>\n",
       "    <tr>\n",
       "      <th>3</th>\n",
       "      <td>MV1LWRNH</td>\n",
       "      <td>Moses Frase</td>\n",
       "      <td>GTX Basic</td>\n",
       "      <td>Codehow</td>\n",
       "      <td>1</td>\n",
       "      <td>2016-10-25</td>\n",
       "      <td>2017-03-09</td>\n",
       "      <td>588</td>\n",
       "    </tr>\n",
       "    <tr>\n",
       "      <th>4</th>\n",
       "      <td>PE84CX4O</td>\n",
       "      <td>Zane Levy</td>\n",
       "      <td>GTX Basic</td>\n",
       "      <td>Hatfan</td>\n",
       "      <td>1</td>\n",
       "      <td>2016-10-25</td>\n",
       "      <td>2017-03-02</td>\n",
       "      <td>517</td>\n",
       "    </tr>\n",
       "    <tr>\n",
       "      <th>...</th>\n",
       "      <td>...</td>\n",
       "      <td>...</td>\n",
       "      <td>...</td>\n",
       "      <td>...</td>\n",
       "      <td>...</td>\n",
       "      <td>...</td>\n",
       "      <td>...</td>\n",
       "      <td>...</td>\n",
       "    </tr>\n",
       "    <tr>\n",
       "      <th>8295</th>\n",
       "      <td>2EBLR9N8</td>\n",
       "      <td>Lajuana Vencill</td>\n",
       "      <td>GTX Basic</td>\n",
       "      <td>Conecom</td>\n",
       "      <td>1</td>\n",
       "      <td>2017-12-24</td>\n",
       "      <td>2017-12-26</td>\n",
       "      <td>622</td>\n",
       "    </tr>\n",
       "    <tr>\n",
       "      <th>8296</th>\n",
       "      <td>VDGA4KXA</td>\n",
       "      <td>Violet Mclelland</td>\n",
       "      <td>GTX Plus Basic</td>\n",
       "      <td>Bluth Company</td>\n",
       "      <td>1</td>\n",
       "      <td>2017-12-24</td>\n",
       "      <td>2017-12-30</td>\n",
       "      <td>1093</td>\n",
       "    </tr>\n",
       "    <tr>\n",
       "      <th>8297</th>\n",
       "      <td>6WCNNK5J</td>\n",
       "      <td>Maureen Marcano</td>\n",
       "      <td>GTXPro</td>\n",
       "      <td>Hottechi</td>\n",
       "      <td>1</td>\n",
       "      <td>2017-12-26</td>\n",
       "      <td>2017-12-29</td>\n",
       "      <td>4433</td>\n",
       "    </tr>\n",
       "    <tr>\n",
       "      <th>8298</th>\n",
       "      <td>YJTQSZ9D</td>\n",
       "      <td>Gladys Colclough</td>\n",
       "      <td>GTX Plus Basic</td>\n",
       "      <td>Inity</td>\n",
       "      <td>1</td>\n",
       "      <td>2017-12-27</td>\n",
       "      <td>2017-12-30</td>\n",
       "      <td>1052</td>\n",
       "    </tr>\n",
       "    <tr>\n",
       "      <th>8299</th>\n",
       "      <td>RB8GDYFY</td>\n",
       "      <td>Gladys Colclough</td>\n",
       "      <td>MG Special</td>\n",
       "      <td>Betatech</td>\n",
       "      <td>1</td>\n",
       "      <td>2017-12-27</td>\n",
       "      <td>2017-12-29</td>\n",
       "      <td>67</td>\n",
       "    </tr>\n",
       "  </tbody>\n",
       "</table>\n",
       "<p>6711 rows × 8 columns</p>\n",
       "</div>"
      ],
      "text/plain": [
       "     opportunity_id       sales_agent         product        account  \\\n",
       "0          1C1I7A6R       Moses Frase  GTX Plus Basic        Cancity   \n",
       "1          Z063OYW0   Darcel Schlecht          GTXPro          Isdom   \n",
       "2          EC4QE1BX   Darcel Schlecht      MG Special        Cancity   \n",
       "3          MV1LWRNH       Moses Frase       GTX Basic        Codehow   \n",
       "4          PE84CX4O         Zane Levy       GTX Basic         Hatfan   \n",
       "...             ...               ...             ...            ...   \n",
       "8295       2EBLR9N8   Lajuana Vencill       GTX Basic        Conecom   \n",
       "8296       VDGA4KXA  Violet Mclelland  GTX Plus Basic  Bluth Company   \n",
       "8297       6WCNNK5J   Maureen Marcano          GTXPro       Hottechi   \n",
       "8298       YJTQSZ9D  Gladys Colclough  GTX Plus Basic          Inity   \n",
       "8299       RB8GDYFY  Gladys Colclough      MG Special       Betatech   \n",
       "\n",
       "      deal_stage engage_date close_date  close_value  \n",
       "0              1  2016-10-20 2017-03-01         1054  \n",
       "1              1  2016-10-25 2017-03-11         4514  \n",
       "2              1  2016-10-25 2017-03-07           50  \n",
       "3              1  2016-10-25 2017-03-09          588  \n",
       "4              1  2016-10-25 2017-03-02          517  \n",
       "...          ...         ...        ...          ...  \n",
       "8295           1  2017-12-24 2017-12-26          622  \n",
       "8296           1  2017-12-24 2017-12-30         1093  \n",
       "8297           1  2017-12-26 2017-12-29         4433  \n",
       "8298           1  2017-12-27 2017-12-30         1052  \n",
       "8299           1  2017-12-27 2017-12-29           67  \n",
       "\n",
       "[6711 rows x 8 columns]"
      ]
     },
     "execution_count": 9,
     "metadata": {},
     "output_type": "execute_result"
    }
   ],
   "source": [
    "df_sales_clean\n"
   ]
  },
  {
   "cell_type": "code",
   "execution_count": null,
   "id": "bc6c55e4",
   "metadata": {},
   "outputs": [],
   "source": [
    "df_sales_clean['duration_days'] = df_sales_clean['close_date'] - \\\n",
    "    df_sales_clean['engage_date']\n",
    "duration_counts = pd.Series(\n",
    "    df_sales_clean['duration_days'].value_counts()).reset_index()\n",
    "duration_counts['duration'] = duration_counts['duration_days'].dt.days\n",
    "duration_counts_sorted = duration_counts.sort_values(\n",
    "    by='duration', ascending=True)\n",
    "duration_counts_sorted.drop(columns=['duration_days'], inplace=True)\n"
   ]
  },
  {
   "cell_type": "code",
   "execution_count": null,
   "id": "f1b6b786",
   "metadata": {},
   "outputs": [
    {
     "data": {
      "image/png": "[encoded data removed]",
      "text/plain": [
       "<Figure size 1200x600 with 1 Axes>"
      ]
     },
     "metadata": {},
     "output_type": "display_data"
    }
   ],
   "source": [
    "plt.figure(figsize=(12, 6))  # Adjust figure size for better readability\n",
    "plt.bar(height=duration_counts_sorted['count'],\n",
    "        x=duration_counts_sorted['duration'])\n",
    "plt.title('Count of Deals by Duration (Bar Chart)')\n",
    "plt.xlabel('Duration (Days)')\n",
    "plt.ylabel('Number of Deals')\n",
    "plt.xticks(rotation=90)  # Rotate x-axis labels if they overlap\n",
    "plt.tight_layout()  # Adjust layout to prevent labels from being cut off\n",
    "plt.show()\n"
   ]
  }
 ],
 "metadata": {
  "kernelspec": {
   "display_name": "aisrm-env",
   "language": "python",
   "name": "python3"
  },
  "language_info": {
   "codemirror_mode": {
    "name": "ipython",
    "version": 3
   },
   "file_extension": ".py",
   "mimetype": "text/x-python",
   "name": "python",
   "nbconvert_exporter": "python",
   "pygments_lexer": "ipython3",
   "version": "3.10.6"
  }
 },
 "nbformat": 4,
 "nbformat_minor": 5
}
