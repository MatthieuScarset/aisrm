{
 "cells": [
  {
   "cell_type": "markdown",
   "id": "ff383c9b-3311-4b10-bf02-b6749564a3e2",
   "metadata": {},
   "source": [
    "# Data preprocessing pipeline"
   ]
  },
  {
   "cell_type": "markdown",
   "id": "20c0b594",
   "metadata": {},
   "source": [
    "This notebook explain our preprocess operations to generate the processed dataset.\n",
    "\n",
    "We agree on the following `X`s and `y`: \n",
    "\n",
    "* X : `account`, `sector`, `revenue`, `office_location`, `sales_agent`, `product`, `deal_stage`, `duration`\n",
    "* y: `close_value`"
   ]
  },
  {
   "cell_type": "code",
   "execution_count": 85,
   "id": "a4156539",
   "metadata": {},
   "outputs": [
    {
     "name": "stdout",
     "output_type": "stream",
     "text": [
      "  % Total    % Received % Xferd  Average Speed   Time    Time     Time  Current\n",
      "                                 Dload  Upload   Total   Spent    Left  Speed\n",
      "  0     0    0     0    0     0      0      0 --:--:-- --:--:-- --:--:--     0\n",
      "100  142k  100  142k    0     0   147k      0 --:--:-- --:--:-- --:--:--  147k\n",
      "Archive:  data/raw/crm-sales-opportunities.zip\n"
     ]
    }
   ],
   "source": [
    "!cd ../ && make data_extract\n"
   ]
  },
  {
   "cell_type": "code",
   "execution_count": null,
   "id": "a113c4b3",
   "metadata": {},
   "outputs": [
    {
     "data": {
      "text/html": [
       "<div>\n",
       "<style scoped>\n",
       "    .dataframe tbody tr th:only-of-type {\n",
       "        vertical-align: middle;\n",
       "    }\n",
       "\n",
       "    .dataframe tbody tr th {\n",
       "        vertical-align: top;\n",
       "    }\n",
       "\n",
       "    .dataframe thead th {\n",
       "        text-align: right;\n",
       "    }\n",
       "</style>\n",
       "<table border=\"1\" class=\"dataframe\">\n",
       "  <thead>\n",
       "    <tr style=\"text-align: right;\">\n",
       "      <th></th>\n",
       "      <th>opportunity_id</th>\n",
       "      <th>sales_agent</th>\n",
       "      <th>product</th>\n",
       "      <th>account</th>\n",
       "      <th>deal_stage</th>\n",
       "      <th>engage_date</th>\n",
       "      <th>close_date</th>\n",
       "      <th>close_value</th>\n",
       "    </tr>\n",
       "  </thead>\n",
       "  <tbody>\n",
       "    <tr>\n",
       "      <th>1685</th>\n",
       "      <td>ZW7N89K3</td>\n",
       "      <td>Rosalina Dieter</td>\n",
       "      <td>GTXPro</td>\n",
       "      <td>Faxquote</td>\n",
       "      <td>Lost</td>\n",
       "      <td>2017-03-20</td>\n",
       "      <td>2017-05-18</td>\n",
       "      <td>0.0</td>\n",
       "    </tr>\n",
       "    <tr>\n",
       "      <th>7632</th>\n",
       "      <td>RVUJPYY8</td>\n",
       "      <td>Rosalina Dieter</td>\n",
       "      <td>MG Special</td>\n",
       "      <td>NaN</td>\n",
       "      <td>Engaging</td>\n",
       "      <td>2017-10-18</td>\n",
       "      <td>NaN</td>\n",
       "      <td>NaN</td>\n",
       "    </tr>\n",
       "    <tr>\n",
       "      <th>7220</th>\n",
       "      <td>MYD4PBM9</td>\n",
       "      <td>Kary Hendrixson</td>\n",
       "      <td>GTX Basic</td>\n",
       "      <td>NaN</td>\n",
       "      <td>Engaging</td>\n",
       "      <td>2017-10-03</td>\n",
       "      <td>NaN</td>\n",
       "      <td>NaN</td>\n",
       "    </tr>\n",
       "    <tr>\n",
       "      <th>4686</th>\n",
       "      <td>0T9KUEQ2</td>\n",
       "      <td>Cassey Cress</td>\n",
       "      <td>GTX Plus Pro</td>\n",
       "      <td>NaN</td>\n",
       "      <td>Engaging</td>\n",
       "      <td>2017-07-11</td>\n",
       "      <td>NaN</td>\n",
       "      <td>NaN</td>\n",
       "    </tr>\n",
       "    <tr>\n",
       "      <th>3198</th>\n",
       "      <td>SFCT64YG</td>\n",
       "      <td>Niesha Huffines</td>\n",
       "      <td>GTX Basic</td>\n",
       "      <td>Inity</td>\n",
       "      <td>Won</td>\n",
       "      <td>2017-05-15</td>\n",
       "      <td>2017-09-05</td>\n",
       "      <td>545.0</td>\n",
       "    </tr>\n",
       "    <tr>\n",
       "      <th>8777</th>\n",
       "      <td>WAT7H38N</td>\n",
       "      <td>Versie Hillebrand</td>\n",
       "      <td>MG Special</td>\n",
       "      <td>NaN</td>\n",
       "      <td>Prospecting</td>\n",
       "      <td>NaN</td>\n",
       "      <td>NaN</td>\n",
       "      <td>NaN</td>\n",
       "    </tr>\n",
       "    <tr>\n",
       "      <th>4061</th>\n",
       "      <td>2FGEGLVU</td>\n",
       "      <td>Vicki Laflamme</td>\n",
       "      <td>MG Special</td>\n",
       "      <td>Doncon</td>\n",
       "      <td>Lost</td>\n",
       "      <td>2017-06-20</td>\n",
       "      <td>2017-06-23</td>\n",
       "      <td>0.0</td>\n",
       "    </tr>\n",
       "    <tr>\n",
       "      <th>3238</th>\n",
       "      <td>3SEMPUU1</td>\n",
       "      <td>Markita Hansen</td>\n",
       "      <td>GTXPro</td>\n",
       "      <td>Labdrill</td>\n",
       "      <td>Engaging</td>\n",
       "      <td>2017-05-17</td>\n",
       "      <td>NaN</td>\n",
       "      <td>NaN</td>\n",
       "    </tr>\n",
       "    <tr>\n",
       "      <th>882</th>\n",
       "      <td>N6H58J55</td>\n",
       "      <td>Anna Snelling</td>\n",
       "      <td>GTX Basic</td>\n",
       "      <td>Streethex</td>\n",
       "      <td>Lost</td>\n",
       "      <td>2017-02-15</td>\n",
       "      <td>2017-05-13</td>\n",
       "      <td>0.0</td>\n",
       "    </tr>\n",
       "    <tr>\n",
       "      <th>4544</th>\n",
       "      <td>DOVNGYN4</td>\n",
       "      <td>Kami Bicknell</td>\n",
       "      <td>GTX Basic</td>\n",
       "      <td>Green-Plus</td>\n",
       "      <td>Lost</td>\n",
       "      <td>2017-07-06</td>\n",
       "      <td>2017-07-12</td>\n",
       "      <td>0.0</td>\n",
       "    </tr>\n",
       "  </tbody>\n",
       "</table>\n",
       "</div>"
      ],
      "text/plain": [
       "     opportunity_id        sales_agent       product     account   deal_stage  \\\n",
       "1685       ZW7N89K3    Rosalina Dieter        GTXPro    Faxquote         Lost   \n",
       "7632       RVUJPYY8    Rosalina Dieter    MG Special         NaN     Engaging   \n",
       "7220       MYD4PBM9    Kary Hendrixson     GTX Basic         NaN     Engaging   \n",
       "4686       0T9KUEQ2       Cassey Cress  GTX Plus Pro         NaN     Engaging   \n",
       "3198       SFCT64YG    Niesha Huffines     GTX Basic       Inity          Won   \n",
       "8777       WAT7H38N  Versie Hillebrand    MG Special         NaN  Prospecting   \n",
       "4061       2FGEGLVU     Vicki Laflamme    MG Special      Doncon         Lost   \n",
       "3238       3SEMPUU1     Markita Hansen        GTXPro    Labdrill     Engaging   \n",
       "882        N6H58J55      Anna Snelling     GTX Basic   Streethex         Lost   \n",
       "4544       DOVNGYN4      Kami Bicknell     GTX Basic  Green-Plus         Lost   \n",
       "\n",
       "     engage_date  close_date  close_value  \n",
       "1685  2017-03-20  2017-05-18          0.0  \n",
       "7632  2017-10-18         NaN          NaN  \n",
       "7220  2017-10-03         NaN          NaN  \n",
       "4686  2017-07-11         NaN          NaN  \n",
       "3198  2017-05-15  2017-09-05        545.0  \n",
       "8777         NaN         NaN          NaN  \n",
       "4061  2017-06-20  2017-06-23          0.0  \n",
       "3238  2017-05-17         NaN          NaN  \n",
       "882   2017-02-15  2017-05-13          0.0  \n",
       "4544  2017-07-06  2017-07-12          0.0  "
      ]
     },
     "execution_count": 86,
     "metadata": {},
     "output_type": "execute_result"
    }
   ],
   "source": [
    "import pandas as pd\n",
    "\n",
    "DATA_PATH = \"../data/raw/\"\n",
    "\n",
    "df_accounts = pd.read_csv(DATA_PATH + \"accounts.csv\")\n",
    "df_products = pd.read_csv(DATA_PATH + \"products.csv\")\n",
    "df_teams = pd.read_csv(DATA_PATH + \"sales_teams.csv\")\n",
    "df_sales = pd.read_csv(DATA_PATH + \"sales_pipeline.csv\")\n",
    "\n",
    "df = df_sales.copy()\n",
    "df.sample(10)\n"
   ]
  },
  {
   "cell_type": "code",
   "execution_count": null,
   "id": "6ae5e3ee",
   "metadata": {},
   "outputs": [
    {
     "name": "stdout",
     "output_type": "stream",
     "text": [
      "8800 sales in total\n",
      "6711 actual sales\n",
      "2089 still prospecting\n"
     ]
    }
   ],
   "source": [
    "# Remove rows without a `y` (i.e. `close_value` is NaN):\n",
    "df.dropna(subset=['close_value'], inplace=True)\n",
    "total_sales = df_sales.shape[0]\n",
    "actual_sales = df.shape[0]\n",
    "print(f\"{total_sales} sales in total\")\n",
    "print(f\"{actual_sales} actual sales\")\n",
    "print(f\"{total_sales - actual_sales} still prospecting\")\n"
   ]
  },
  {
   "cell_type": "code",
   "execution_count": null,
   "id": "7dd8cbde",
   "metadata": {},
   "outputs": [
    {
     "data": {
      "text/plain": [
       "won\n",
       "1    4238\n",
       "0    2473\n",
       "Name: count, dtype: int64"
      ]
     },
     "execution_count": 88,
     "metadata": {},
     "output_type": "execute_result"
    }
   ],
   "source": [
    "# Transform sales status into a binary column (`Won` = 1, otherwise 0)\n",
    "def deal_stage_binary(value):\n",
    "    return int(1 if value.lower() == 'won' else 0)\n",
    "\n",
    "\n",
    "df['won'] = df['deal_stage'].apply(deal_stage_binary)\n",
    "df['won'] = pd.to_numeric(df['won'], downcast='integer')\n",
    "df['won'].value_counts()\n"
   ]
  },
  {
   "cell_type": "code",
   "execution_count": null,
   "id": "e3c3012e",
   "metadata": {},
   "outputs": [
    {
     "data": {
      "text/plain": [
       "<Axes: xlabel='Duration (in days)', ylabel='Count of sales'>"
      ]
     },
     "execution_count": 89,
     "metadata": {},
     "output_type": "execute_result"
    },
    {
     "data": {
      "image/png": "[encoded data removed]",
      "text/plain": [
       "<Figure size 640x480 with 1 Axes>"
      ]
     },
     "metadata": {},
     "output_type": "display_data"
    }
   ],
   "source": [
    "# Get the duration\n",
    "df['engage_date'] = pd.to_datetime(df['engage_date'])\n",
    "df['close_date'] = pd.to_datetime(df['close_date'])\n",
    "df['duration'] = (df['close_date'] - df['engage_date']).dt.days\n",
    "df['duration'] = pd.to_numeric(df['duration'], downcast='integer')\n",
    "df['duration'].value_counts().plot(\n",
    "    kind=\"barh\", xlabel='Duration (in days)', ylabel=\"Count of sales\")\n"
   ]
  },
  {
   "cell_type": "code",
   "execution_count": null,
   "id": "a4b89254",
   "metadata": {},
   "outputs": [
    {
     "data": {
      "text/plain": [
       "regional_office\n",
       "Central    2604\n",
       "West       2249\n",
       "East       1858\n",
       "Name: count, dtype: int64"
      ]
     },
     "execution_count": 90,
     "metadata": {},
     "output_type": "execute_result"
    }
   ],
   "source": [
    "# Merge information about Sale agent.\n",
    "columns = ['sales_agent', 'manager', 'regional_office']\n",
    "if 'manager' not in df.columns:\n",
    "    df = pd.merge(\n",
    "        df, df_teams[columns], on='sales_agent', how='left')\n",
    "\n",
    "df['regional_office'].value_counts()\n"
   ]
  },
  {
   "cell_type": "code",
   "execution_count": null,
   "id": "4470ab91",
   "metadata": {},
   "outputs": [
    {
     "data": {
      "text/plain": [
       "sector\n",
       "retail                1267\n",
       "technolgy             1058\n",
       "medical                950\n",
       "software               704\n",
       "marketing              623\n",
       "finance                613\n",
       "telecommunications     456\n",
       "entertainment          402\n",
       "services               352\n",
       "employment             286\n",
       "Name: count, dtype: int64"
      ]
     },
     "execution_count": 91,
     "metadata": {},
     "output_type": "execute_result"
    }
   ],
   "source": [
    "# Merge information about Account (i.e. clients).\n",
    "columns = ['account', 'sector', 'revenue', 'office_location']\n",
    "if 'sector' not in df.columns:\n",
    "    df = pd.merge(\n",
    "        df, df_accounts[columns], on='account', how='left')\n",
    "\n",
    "df['sector'].value_counts()\n"
   ]
  },
  {
   "cell_type": "code",
   "execution_count": null,
   "id": "988e5db5",
   "metadata": {},
   "outputs": [
    {
     "data": {
      "text/plain": [
       "series\n",
       "GTX    3232\n",
       "MG     2307\n",
       "GTK      25\n",
       "Name: count, dtype: int64"
      ]
     },
     "execution_count": 92,
     "metadata": {},
     "output_type": "execute_result"
    }
   ],
   "source": [
    "# Merge information about Product (i.e. catalog).\n",
    "columns = ['product', 'series', 'sales_price']\n",
    "if 'series' not in df.columns:\n",
    "    df = pd.merge(\n",
    "        df, df_products[columns], on='product', how='left')\n",
    "\n",
    "df['series'].value_counts()\n"
   ]
  },
  {
   "cell_type": "code",
   "execution_count": null,
   "id": "622d1fc5",
   "metadata": {},
   "outputs": [],
   "source": [
    "# Reorder columns.\n",
    "cols = list(df.columns)\n",
    "cols.remove('product')\n",
    "cols.remove('series')\n",
    "cols.remove('sales_price')\n",
    "cols.remove('duration')\n",
    "cols.remove('won')\n",
    "cols.remove('close_value')\n",
    "\n",
    "cols.append('product')\n",
    "cols.append('series')\n",
    "cols.append('sales_price')\n",
    "cols.append('duration')\n",
    "cols.append('won')\n",
    "cols.append('close_value')\n",
    "df = df[cols]\n"
   ]
  },
  {
   "cell_type": "code",
   "execution_count": null,
   "id": "f3dd86af",
   "metadata": {},
   "outputs": [],
   "source": [
    "# Remove useless columns.\n",
    "for col in ['opportunity_id', 'engage_date', 'close_date', 'deal_stage']:\n",
    "    if col in df.columns:\n",
    "        df.drop(columns=[col], inplace=True)\n"
   ]
  },
  {
   "cell_type": "code",
   "execution_count": null,
   "id": "c8bfc13d",
   "metadata": {},
   "outputs": [],
   "source": [
    "# All object columns are just text.\n",
    "for col in (df.select_dtypes(include=['object'])).columns:\n",
    "    df[col] = df[col].astype('string')\n"
   ]
  },
  {
   "cell_type": "code",
   "execution_count": null,
   "id": "35070790",
   "metadata": {},
   "outputs": [],
   "source": [
    "# Our target is a number.\n",
    "df['close_value'] = pd.to_numeric(df['close_value'], downcast='integer')\n"
   ]
  },
  {
   "cell_type": "code",
   "execution_count": null,
   "id": "7e32c6ec",
   "metadata": {},
   "outputs": [
    {
     "data": {
      "text/plain": [
       "sales_agent        string[python]\n",
       "account            string[python]\n",
       "manager            string[python]\n",
       "regional_office    string[python]\n",
       "sector             string[python]\n",
       "revenue                   float64\n",
       "office_location    string[python]\n",
       "product            string[python]\n",
       "series             string[python]\n",
       "sales_price               float64\n",
       "duration                    int16\n",
       "won                          int8\n",
       "close_value                 int16\n",
       "dtype: object"
      ]
     },
     "execution_count": 97,
     "metadata": {},
     "output_type": "execute_result"
    }
   ],
   "source": [
    "df.dtypes\n"
   ]
  },
  {
   "cell_type": "code",
   "execution_count": null,
   "id": "85a2b2de",
   "metadata": {},
   "outputs": [],
   "source": [
    "df.to_csv('../data/processed/dataset.csv')\n"
   ]
  }
 ],
 "metadata": {
  "kernelspec": {
   "display_name": "aisrm-env",
   "language": "python",
   "name": "python3"
  },
  "language_info": {
   "codemirror_mode": {
    "name": "ipython",
    "version": 3
   },
   "file_extension": ".py",
   "mimetype": "text/x-python",
   "name": "python",
   "nbconvert_exporter": "python",
   "pygments_lexer": "ipython3",
   "version": "3.10.6"
  }
 },
 "nbformat": 4,
 "nbformat_minor": 5
}
