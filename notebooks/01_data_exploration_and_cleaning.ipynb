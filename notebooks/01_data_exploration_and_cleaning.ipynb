{
 "cells": [
  {
   "cell_type": "markdown",
   "id": "adeb1a79-3fb0-403a-a69d-cc5b484f4705",
   "metadata": {},
   "source": [
    "# Data Exploration\n"
   ]
  },
  {
   "cell_type": "code",
   "execution_count": null,
   "id": "394e9500-bb83-4944-aad4-b5595666f0e5",
   "metadata": {},
   "outputs": [],
   "source": [
    "import pandas as pd\n",
    "import numpy as np\n",
    "import matplotlib.pyplot as plt\n"
   ]
  },
  {
   "cell_type": "markdown",
   "id": "ddb926d5-c881-470d-a4bb-13a241af79bc",
   "metadata": {},
   "source": [
    "## Load data and Initial Exploration\n"
   ]
  },
  {
   "cell_type": "markdown",
   "id": "fe2be6ba",
   "metadata": {},
   "source": [
    "### Accounts\n",
    "\n"
   ]
  },
  {
   "cell_type": "markdown",
   "id": "cb2711a3",
   "metadata": {},
   "source": [
    "The accounts table contains company-level information about potential or existing clients. Each row represents a company, including attributes such as sector, year of establishment, estimated annual revenue, number of employees, office location, and any parent company affiliation. This data provides demographic and firmographic context useful for understanding customer profiles and segmenting the market."
   ]
  },
  {
   "cell_type": "code",
   "execution_count": null,
   "id": "a63e3bb2-f8dc-440d-8a54-0b716eb6b938",
   "metadata": {
    "scrolled": true
   },
   "outputs": [
    {
     "data": {
      "text/html": [
       "<div>\n",
       "<style scoped>\n",
       "    .dataframe tbody tr th:only-of-type {\n",
       "        vertical-align: middle;\n",
       "    }\n",
       "\n",
       "    .dataframe tbody tr th {\n",
       "        vertical-align: top;\n",
       "    }\n",
       "\n",
       "    .dataframe thead th {\n",
       "        text-align: right;\n",
       "    }\n",
       "</style>\n",
       "<table border=\"1\" class=\"dataframe\">\n",
       "  <thead>\n",
       "    <tr style=\"text-align: right;\">\n",
       "      <th></th>\n",
       "      <th>account</th>\n",
       "      <th>sector</th>\n",
       "      <th>year_established</th>\n",
       "      <th>revenue</th>\n",
       "      <th>employees</th>\n",
       "      <th>office_location</th>\n",
       "      <th>subsidiary_of</th>\n",
       "    </tr>\n",
       "  </thead>\n",
       "  <tbody>\n",
       "    <tr>\n",
       "      <th>0</th>\n",
       "      <td>Acme Corporation</td>\n",
       "      <td>technolgy</td>\n",
       "      <td>1996</td>\n",
       "      <td>1100.04</td>\n",
       "      <td>2822</td>\n",
       "      <td>United States</td>\n",
       "      <td>NaN</td>\n",
       "    </tr>\n",
       "    <tr>\n",
       "      <th>1</th>\n",
       "      <td>Betasoloin</td>\n",
       "      <td>medical</td>\n",
       "      <td>1999</td>\n",
       "      <td>251.41</td>\n",
       "      <td>495</td>\n",
       "      <td>United States</td>\n",
       "      <td>NaN</td>\n",
       "    </tr>\n",
       "    <tr>\n",
       "      <th>2</th>\n",
       "      <td>Betatech</td>\n",
       "      <td>medical</td>\n",
       "      <td>1986</td>\n",
       "      <td>647.18</td>\n",
       "      <td>1185</td>\n",
       "      <td>Kenya</td>\n",
       "      <td>NaN</td>\n",
       "    </tr>\n",
       "    <tr>\n",
       "      <th>3</th>\n",
       "      <td>Bioholding</td>\n",
       "      <td>medical</td>\n",
       "      <td>2012</td>\n",
       "      <td>587.34</td>\n",
       "      <td>1356</td>\n",
       "      <td>Philipines</td>\n",
       "      <td>NaN</td>\n",
       "    </tr>\n",
       "    <tr>\n",
       "      <th>4</th>\n",
       "      <td>Bioplex</td>\n",
       "      <td>medical</td>\n",
       "      <td>1991</td>\n",
       "      <td>326.82</td>\n",
       "      <td>1016</td>\n",
       "      <td>United States</td>\n",
       "      <td>NaN</td>\n",
       "    </tr>\n",
       "  </tbody>\n",
       "</table>\n",
       "</div>"
      ],
      "text/plain": [
       "            account     sector  year_established  revenue  employees  \\\n",
       "0  Acme Corporation  technolgy              1996  1100.04       2822   \n",
       "1        Betasoloin    medical              1999   251.41        495   \n",
       "2          Betatech    medical              1986   647.18       1185   \n",
       "3        Bioholding    medical              2012   587.34       1356   \n",
       "4           Bioplex    medical              1991   326.82       1016   \n",
       "\n",
       "  office_location subsidiary_of  \n",
       "0   United States           NaN  \n",
       "1   United States           NaN  \n",
       "2           Kenya           NaN  \n",
       "3      Philipines           NaN  \n",
       "4   United States           NaN  "
      ]
     },
     "execution_count": 58,
     "metadata": {},
     "output_type": "execute_result"
    }
   ],
   "source": [
    "data_accounts = pd.read_csv('../data/raw/accounts.csv').copy()\n",
    "data_accounts.head()\n"
   ]
  },
  {
   "cell_type": "code",
   "execution_count": null,
   "id": "dfbd1687",
   "metadata": {
    "scrolled": false
   },
   "outputs": [
    {
     "name": "stdout",
     "output_type": "stream",
     "text": [
      "INFO\n",
      "<class 'pandas.core.frame.DataFrame'>\n",
      "RangeIndex: 85 entries, 0 to 84\n",
      "Data columns (total 7 columns):\n",
      " #   Column            Non-Null Count  Dtype  \n",
      "---  ------            --------------  -----  \n",
      " 0   account           85 non-null     object \n",
      " 1   sector            85 non-null     object \n",
      " 2   year_established  85 non-null     int64  \n",
      " 3   revenue           85 non-null     float64\n",
      " 4   employees         85 non-null     int64  \n",
      " 5   office_location   85 non-null     object \n",
      " 6   subsidiary_of     15 non-null     object \n",
      "dtypes: float64(1), int64(2), object(4)\n",
      "memory usage: 4.8+ KB\n"
     ]
    }
   ],
   "source": [
    "print('INFO')\n",
    "data_accounts.info()\n"
   ]
  },
  {
   "cell_type": "code",
   "execution_count": null,
   "id": "4123464c",
   "metadata": {},
   "outputs": [
    {
     "name": "stdout",
     "output_type": "stream",
     "text": [
      "\n",
      "Missing Values\n"
     ]
    },
    {
     "data": {
      "text/plain": [
       "account              0\n",
       "sector               0\n",
       "year_established     0\n",
       "revenue              0\n",
       "employees            0\n",
       "office_location      0\n",
       "subsidiary_of       70\n",
       "dtype: int64"
      ]
     },
     "execution_count": 60,
     "metadata": {},
     "output_type": "execute_result"
    }
   ],
   "source": [
    "print('\\nMissing Values')\n",
    "data_accounts.isna().sum()\n"
   ]
  },
  {
   "cell_type": "code",
   "execution_count": null,
   "id": "7c9b3327",
   "metadata": {},
   "outputs": [
    {
     "name": "stdout",
     "output_type": "stream",
     "text": [
      "\n",
      "Unique Values\n"
     ]
    },
    {
     "data": {
      "text/plain": [
       "account             85\n",
       "sector              10\n",
       "year_established    35\n",
       "revenue             85\n",
       "employees           85\n",
       "office_location     15\n",
       "subsidiary_of        7\n",
       "dtype: int64"
      ]
     },
     "execution_count": 61,
     "metadata": {},
     "output_type": "execute_result"
    }
   ],
   "source": [
    "print('\\nUnique Values')\n",
    "data_accounts.nunique()\n"
   ]
  },
  {
   "cell_type": "markdown",
   "id": "401e797e",
   "metadata": {},
   "source": [
    "**Observations on data_accounts**\n",
    "\n",
    "    No critical missing values: only the subsidiary_of column has 70 missing values → this can be interpreted as \"not a subsidiary of another company.\"\n",
    "\n",
    "    Each account is unique → likely a primary identifier.\n",
    "\n",
    "    sector contains 10 distinct categories → a potentially useful categorical variable for segmentation.\n",
    "\n",
    "    revenue and employees appear to be continuous numerical variables, unique per company.\n",
    "\n",
    "    year_established has 35 unique values → could be grouped into ranges for age-related analysis.\n",
    "\n",
    "    office_location has 15 unique values → could be mapped by region or country if grouping is needed.\n",
    "\n",
    "    subsidiary_of has only 7 unique values → likely names of parent companies. This could be used to identify business groups.\n"
   ]
  },
  {
   "cell_type": "markdown",
   "id": "6aabaea0",
   "metadata": {},
   "source": [
    "### Data Dictionary"
   ]
  },
  {
   "cell_type": "markdown",
   "id": "865b7bd1",
   "metadata": {},
   "source": [
    "The data_dictionary table provides metadata for the entire dataset. It includes the name of each table, the fields within them, and a brief description of each field’s meaning or purpose. This reference is useful to understand the role of each variable and ensure consistent interpretation during data exploration, preprocessing, and modeling."
   ]
  },
  {
   "cell_type": "code",
   "execution_count": null,
   "id": "f921356e",
   "metadata": {},
   "outputs": [
    {
     "data": {
      "text/html": [
       "<div>\n",
       "<style scoped>\n",
       "    .dataframe tbody tr th:only-of-type {\n",
       "        vertical-align: middle;\n",
       "    }\n",
       "\n",
       "    .dataframe tbody tr th {\n",
       "        vertical-align: top;\n",
       "    }\n",
       "\n",
       "    .dataframe thead th {\n",
       "        text-align: right;\n",
       "    }\n",
       "</style>\n",
       "<table border=\"1\" class=\"dataframe\">\n",
       "  <thead>\n",
       "    <tr style=\"text-align: right;\">\n",
       "      <th></th>\n",
       "      <th>Table</th>\n",
       "      <th>Field</th>\n",
       "      <th>Description</th>\n",
       "    </tr>\n",
       "  </thead>\n",
       "  <tbody>\n",
       "    <tr>\n",
       "      <th>0</th>\n",
       "      <td>accounts</td>\n",
       "      <td>account</td>\n",
       "      <td>Company name</td>\n",
       "    </tr>\n",
       "    <tr>\n",
       "      <th>1</th>\n",
       "      <td>accounts</td>\n",
       "      <td>sector</td>\n",
       "      <td>Industry</td>\n",
       "    </tr>\n",
       "    <tr>\n",
       "      <th>2</th>\n",
       "      <td>accounts</td>\n",
       "      <td>year_established</td>\n",
       "      <td>Year Established</td>\n",
       "    </tr>\n",
       "    <tr>\n",
       "      <th>3</th>\n",
       "      <td>accounts</td>\n",
       "      <td>revenue</td>\n",
       "      <td>Annual revenue (in millions of USD)</td>\n",
       "    </tr>\n",
       "    <tr>\n",
       "      <th>4</th>\n",
       "      <td>accounts</td>\n",
       "      <td>employees</td>\n",
       "      <td>Number of employees</td>\n",
       "    </tr>\n",
       "  </tbody>\n",
       "</table>\n",
       "</div>"
      ],
      "text/plain": [
       "      Table             Field                          Description\n",
       "0  accounts           account                         Company name\n",
       "1  accounts            sector                             Industry\n",
       "2  accounts  year_established                     Year Established\n",
       "3  accounts           revenue  Annual revenue (in millions of USD)\n",
       "4  accounts         employees                  Number of employees"
      ]
     },
     "execution_count": 62,
     "metadata": {},
     "output_type": "execute_result"
    }
   ],
   "source": [
    "data_dictionary = pd.read_csv('../data/raw/data_dictionary.csv').copy()\n",
    "data_dictionary.head()\n"
   ]
  },
  {
   "cell_type": "code",
   "execution_count": null,
   "id": "02011f23",
   "metadata": {},
   "outputs": [
    {
     "name": "stdout",
     "output_type": "stream",
     "text": [
      "INFO\n",
      "<class 'pandas.core.frame.DataFrame'>\n",
      "RangeIndex: 21 entries, 0 to 20\n",
      "Data columns (total 3 columns):\n",
      " #   Column       Non-Null Count  Dtype \n",
      "---  ------       --------------  ----- \n",
      " 0   Table        21 non-null     object\n",
      " 1   Field        21 non-null     object\n",
      " 2   Description  21 non-null     object\n",
      "dtypes: object(3)\n",
      "memory usage: 632.0+ bytes\n"
     ]
    }
   ],
   "source": [
    "print('INFO')\n",
    "data_dictionary.info()\n"
   ]
  },
  {
   "cell_type": "code",
   "execution_count": null,
   "id": "bcbef066",
   "metadata": {},
   "outputs": [
    {
     "name": "stdout",
     "output_type": "stream",
     "text": [
      "\n",
      "Missing Values\n"
     ]
    },
    {
     "data": {
      "text/plain": [
       "Table          0\n",
       "Field          0\n",
       "Description    0\n",
       "dtype: int64"
      ]
     },
     "execution_count": 64,
     "metadata": {},
     "output_type": "execute_result"
    }
   ],
   "source": [
    "print('\\nMissing Values')\n",
    "data_dictionary.isna().sum()\n"
   ]
  },
  {
   "cell_type": "code",
   "execution_count": null,
   "id": "cb5780f2",
   "metadata": {},
   "outputs": [
    {
     "name": "stdout",
     "output_type": "stream",
     "text": [
      "\n",
      "Unique Values\n"
     ]
    },
    {
     "data": {
      "text/plain": [
       "Table           4\n",
       "Field          18\n",
       "Description    19\n",
       "dtype: int64"
      ]
     },
     "execution_count": 65,
     "metadata": {},
     "output_type": "execute_result"
    }
   ],
   "source": [
    "print('\\nUnique Values')\n",
    "data_dictionary.nunique()\n"
   ]
  },
  {
   "cell_type": "markdown",
   "id": "70232072",
   "metadata": {},
   "source": [
    "**Observations on data_dictionary**\n",
    "\n",
    "    No missing values → the table is complete.\n",
    "    Contains 21 rows, each describing a field in a table.\n",
    "    Table has 4 unique values → 4 documented tables.\n",
    "    Field has 18 unique values → total number of documented fields.\n",
    "    Description has 19 unique entries → some may be repeated or closely related.\n",
    "    This table is purely for reference, not used directly for modeling, but essential for:\n",
    "       - Understanding the meaning of each dataset column.\n",
    "       - Generating automatic documentation if needed.\n"
   ]
  },
  {
   "cell_type": "markdown",
   "id": "1a8a2285",
   "metadata": {},
   "source": [
    "### Products"
   ]
  },
  {
   "cell_type": "markdown",
   "id": "e3da770a",
   "metadata": {},
   "source": [
    "The products table contains information about the company’s product catalog. Each row represents a unique product, including its name, product series (e.g., GTX, MG), and the corresponding sales price. This data can be used to analyze pricing strategies, evaluate deal values, and link product types to sales performance."
   ]
  },
  {
   "cell_type": "code",
   "execution_count": null,
   "id": "02c9dd1f",
   "metadata": {},
   "outputs": [
    {
     "data": {
      "text/html": [
       "<div>\n",
       "<style scoped>\n",
       "    .dataframe tbody tr th:only-of-type {\n",
       "        vertical-align: middle;\n",
       "    }\n",
       "\n",
       "    .dataframe tbody tr th {\n",
       "        vertical-align: top;\n",
       "    }\n",
       "\n",
       "    .dataframe thead th {\n",
       "        text-align: right;\n",
       "    }\n",
       "</style>\n",
       "<table border=\"1\" class=\"dataframe\">\n",
       "  <thead>\n",
       "    <tr style=\"text-align: right;\">\n",
       "      <th></th>\n",
       "      <th>product</th>\n",
       "      <th>series</th>\n",
       "      <th>sales_price</th>\n",
       "    </tr>\n",
       "  </thead>\n",
       "  <tbody>\n",
       "    <tr>\n",
       "      <th>0</th>\n",
       "      <td>GTX Basic</td>\n",
       "      <td>GTX</td>\n",
       "      <td>550</td>\n",
       "    </tr>\n",
       "    <tr>\n",
       "      <th>1</th>\n",
       "      <td>GTX Pro</td>\n",
       "      <td>GTX</td>\n",
       "      <td>4821</td>\n",
       "    </tr>\n",
       "    <tr>\n",
       "      <th>2</th>\n",
       "      <td>MG Special</td>\n",
       "      <td>MG</td>\n",
       "      <td>55</td>\n",
       "    </tr>\n",
       "    <tr>\n",
       "      <th>3</th>\n",
       "      <td>MG Advanced</td>\n",
       "      <td>MG</td>\n",
       "      <td>3393</td>\n",
       "    </tr>\n",
       "    <tr>\n",
       "      <th>4</th>\n",
       "      <td>GTX Plus Pro</td>\n",
       "      <td>GTX</td>\n",
       "      <td>5482</td>\n",
       "    </tr>\n",
       "  </tbody>\n",
       "</table>\n",
       "</div>"
      ],
      "text/plain": [
       "        product series  sales_price\n",
       "0     GTX Basic    GTX          550\n",
       "1       GTX Pro    GTX         4821\n",
       "2    MG Special     MG           55\n",
       "3   MG Advanced     MG         3393\n",
       "4  GTX Plus Pro    GTX         5482"
      ]
     },
     "execution_count": 66,
     "metadata": {},
     "output_type": "execute_result"
    }
   ],
   "source": [
    "data_products = pd.read_csv('../data/raw/products.csv').copy()\n",
    "data_products.head()\n"
   ]
  },
  {
   "cell_type": "code",
   "execution_count": null,
   "id": "c8ef37ec",
   "metadata": {},
   "outputs": [
    {
     "name": "stdout",
     "output_type": "stream",
     "text": [
      "INFO\n",
      "<class 'pandas.core.frame.DataFrame'>\n",
      "RangeIndex: 7 entries, 0 to 6\n",
      "Data columns (total 3 columns):\n",
      " #   Column       Non-Null Count  Dtype \n",
      "---  ------       --------------  ----- \n",
      " 0   product      7 non-null      object\n",
      " 1   series       7 non-null      object\n",
      " 2   sales_price  7 non-null      int64 \n",
      "dtypes: int64(1), object(2)\n",
      "memory usage: 296.0+ bytes\n"
     ]
    }
   ],
   "source": [
    "print('INFO')\n",
    "data_products.info()\n"
   ]
  },
  {
   "cell_type": "code",
   "execution_count": null,
   "id": "36618ffd",
   "metadata": {},
   "outputs": [
    {
     "name": "stdout",
     "output_type": "stream",
     "text": [
      "\n",
      "Missing Values\n"
     ]
    },
    {
     "data": {
      "text/plain": [
       "product        0\n",
       "series         0\n",
       "sales_price    0\n",
       "dtype: int64"
      ]
     },
     "execution_count": 68,
     "metadata": {},
     "output_type": "execute_result"
    }
   ],
   "source": [
    "print('\\nMissing Values')\n",
    "data_products.isna().sum()\n"
   ]
  },
  {
   "cell_type": "code",
   "execution_count": null,
   "id": "423944a7",
   "metadata": {},
   "outputs": [
    {
     "name": "stdout",
     "output_type": "stream",
     "text": [
      "\n",
      "Unique Values\n"
     ]
    },
    {
     "data": {
      "text/plain": [
       "product        7\n",
       "series         3\n",
       "sales_price    7\n",
       "dtype: int64"
      ]
     },
     "execution_count": 69,
     "metadata": {},
     "output_type": "execute_result"
    }
   ],
   "source": [
    "print('\\nUnique Values')\n",
    "data_products.nunique()\n"
   ]
  },
  {
   "cell_type": "markdown",
   "id": "7b1562d1",
   "metadata": {},
   "source": [
    "**Observations on data_products**\n",
    "\n",
    "    No missing values → the table is clean.\n",
    "    Only 7 products in total → small and manageable dataset.\n",
    "    series has 3 categories (e.g., GTX, MG…) → likely represent product lines.\n",
    "    sales_price is numeric with 7 unique values → each product has a distinct price.\n",
    "    This table will be useful to join with the sales pipeline (sales_pipeline) to analyze:\n",
    "        -Which products are sold the most?\n",
    "        -Which series generate the highest revenue?\n",
    "        -Does price influence conversion rates?\n"
   ]
  },
  {
   "cell_type": "markdown",
   "id": "346e16d5",
   "metadata": {},
   "source": [
    "### Sales Pipeline"
   ]
  },
  {
   "cell_type": "markdown",
   "id": "316a58c4",
   "metadata": {},
   "source": [
    "The sales_pipeline table records individual sales opportunities from the company's CRM system. Each row represents a unique opportunity and includes details such as the sales agent, product involved, customer account, deal stage (e.g., Won, Lost), engagement and close dates, and the final deal value. This dataset is essential for analyzing sales performance, conversion timelines, and agent effectiveness."
   ]
  },
  {
   "cell_type": "code",
   "execution_count": null,
   "id": "2490a3a0",
   "metadata": {
    "scrolled": true
   },
   "outputs": [
    {
     "data": {
      "text/html": [
       "<div>\n",
       "<style scoped>\n",
       "    .dataframe tbody tr th:only-of-type {\n",
       "        vertical-align: middle;\n",
       "    }\n",
       "\n",
       "    .dataframe tbody tr th {\n",
       "        vertical-align: top;\n",
       "    }\n",
       "\n",
       "    .dataframe thead th {\n",
       "        text-align: right;\n",
       "    }\n",
       "</style>\n",
       "<table border=\"1\" class=\"dataframe\">\n",
       "  <thead>\n",
       "    <tr style=\"text-align: right;\">\n",
       "      <th></th>\n",
       "      <th>opportunity_id</th>\n",
       "      <th>sales_agent</th>\n",
       "      <th>product</th>\n",
       "      <th>account</th>\n",
       "      <th>deal_stage</th>\n",
       "      <th>engage_date</th>\n",
       "      <th>close_date</th>\n",
       "      <th>close_value</th>\n",
       "    </tr>\n",
       "  </thead>\n",
       "  <tbody>\n",
       "    <tr>\n",
       "      <th>0</th>\n",
       "      <td>1C1I7A6R</td>\n",
       "      <td>Moses Frase</td>\n",
       "      <td>GTX Plus Basic</td>\n",
       "      <td>Cancity</td>\n",
       "      <td>Won</td>\n",
       "      <td>2016-10-20</td>\n",
       "      <td>2017-03-01</td>\n",
       "      <td>1054.0</td>\n",
       "    </tr>\n",
       "    <tr>\n",
       "      <th>1</th>\n",
       "      <td>Z063OYW0</td>\n",
       "      <td>Darcel Schlecht</td>\n",
       "      <td>GTXPro</td>\n",
       "      <td>Isdom</td>\n",
       "      <td>Won</td>\n",
       "      <td>2016-10-25</td>\n",
       "      <td>2017-03-11</td>\n",
       "      <td>4514.0</td>\n",
       "    </tr>\n",
       "    <tr>\n",
       "      <th>2</th>\n",
       "      <td>EC4QE1BX</td>\n",
       "      <td>Darcel Schlecht</td>\n",
       "      <td>MG Special</td>\n",
       "      <td>Cancity</td>\n",
       "      <td>Won</td>\n",
       "      <td>2016-10-25</td>\n",
       "      <td>2017-03-07</td>\n",
       "      <td>50.0</td>\n",
       "    </tr>\n",
       "    <tr>\n",
       "      <th>3</th>\n",
       "      <td>MV1LWRNH</td>\n",
       "      <td>Moses Frase</td>\n",
       "      <td>GTX Basic</td>\n",
       "      <td>Codehow</td>\n",
       "      <td>Won</td>\n",
       "      <td>2016-10-25</td>\n",
       "      <td>2017-03-09</td>\n",
       "      <td>588.0</td>\n",
       "    </tr>\n",
       "    <tr>\n",
       "      <th>4</th>\n",
       "      <td>PE84CX4O</td>\n",
       "      <td>Zane Levy</td>\n",
       "      <td>GTX Basic</td>\n",
       "      <td>Hatfan</td>\n",
       "      <td>Won</td>\n",
       "      <td>2016-10-25</td>\n",
       "      <td>2017-03-02</td>\n",
       "      <td>517.0</td>\n",
       "    </tr>\n",
       "  </tbody>\n",
       "</table>\n",
       "</div>"
      ],
      "text/plain": [
       "  opportunity_id      sales_agent         product  account deal_stage  \\\n",
       "0       1C1I7A6R      Moses Frase  GTX Plus Basic  Cancity        Won   \n",
       "1       Z063OYW0  Darcel Schlecht          GTXPro    Isdom        Won   \n",
       "2       EC4QE1BX  Darcel Schlecht      MG Special  Cancity        Won   \n",
       "3       MV1LWRNH      Moses Frase       GTX Basic  Codehow        Won   \n",
       "4       PE84CX4O        Zane Levy       GTX Basic   Hatfan        Won   \n",
       "\n",
       "  engage_date  close_date  close_value  \n",
       "0  2016-10-20  2017-03-01       1054.0  \n",
       "1  2016-10-25  2017-03-11       4514.0  \n",
       "2  2016-10-25  2017-03-07         50.0  \n",
       "3  2016-10-25  2017-03-09        588.0  \n",
       "4  2016-10-25  2017-03-02        517.0  "
      ]
     },
     "execution_count": 70,
     "metadata": {},
     "output_type": "execute_result"
    }
   ],
   "source": [
    "data_sales_pipeline = pd.read_csv('../data/raw/sales_pipeline.csv').copy()\n",
    "data_sales_pipeline.head()\n"
   ]
  },
  {
   "cell_type": "code",
   "execution_count": null,
   "id": "8a16a814",
   "metadata": {},
   "outputs": [
    {
     "name": "stdout",
     "output_type": "stream",
     "text": [
      "INFO\n",
      "<class 'pandas.core.frame.DataFrame'>\n",
      "RangeIndex: 8800 entries, 0 to 8799\n",
      "Data columns (total 8 columns):\n",
      " #   Column          Non-Null Count  Dtype  \n",
      "---  ------          --------------  -----  \n",
      " 0   opportunity_id  8800 non-null   object \n",
      " 1   sales_agent     8800 non-null   object \n",
      " 2   product         8800 non-null   object \n",
      " 3   account         7375 non-null   object \n",
      " 4   deal_stage      8800 non-null   object \n",
      " 5   engage_date     8300 non-null   object \n",
      " 6   close_date      6711 non-null   object \n",
      " 7   close_value     6711 non-null   float64\n",
      "dtypes: float64(1), object(7)\n",
      "memory usage: 550.1+ KB\n"
     ]
    }
   ],
   "source": [
    "print('INFO')\n",
    "data_sales_pipeline.info()\n"
   ]
  },
  {
   "cell_type": "code",
   "execution_count": null,
   "id": "c682b1a7",
   "metadata": {},
   "outputs": [
    {
     "name": "stdout",
     "output_type": "stream",
     "text": [
      "\n",
      "Missing Values\n"
     ]
    },
    {
     "data": {
      "text/plain": [
       "opportunity_id       0\n",
       "sales_agent          0\n",
       "product              0\n",
       "account           1425\n",
       "deal_stage           0\n",
       "engage_date        500\n",
       "close_date        2089\n",
       "close_value       2089\n",
       "dtype: int64"
      ]
     },
     "execution_count": 72,
     "metadata": {},
     "output_type": "execute_result"
    }
   ],
   "source": [
    "print('\\nMissing Values')\n",
    "data_sales_pipeline.isna().sum()\n"
   ]
  },
  {
   "cell_type": "code",
   "execution_count": null,
   "id": "ed3bea44",
   "metadata": {},
   "outputs": [
    {
     "name": "stdout",
     "output_type": "stream",
     "text": [
      "\n",
      "Unique Values\n"
     ]
    },
    {
     "data": {
      "text/plain": [
       "opportunity_id    8800\n",
       "sales_agent         30\n",
       "product              7\n",
       "account             85\n",
       "deal_stage           4\n",
       "engage_date        421\n",
       "close_date         306\n",
       "close_value       2051\n",
       "dtype: int64"
      ]
     },
     "execution_count": 73,
     "metadata": {},
     "output_type": "execute_result"
    }
   ],
   "source": [
    "print('\\nUnique Values')\n",
    "data_sales_pipeline.nunique()\n"
   ]
  },
  {
   "cell_type": "markdown",
   "id": "7a6234c3",
   "metadata": {},
   "source": [
    "**Observations on data_sales_pipeline**\n",
    "\n",
    "    There are important missing values:\n",
    "        account: 1,425 missing → some opportunities may not be assigned to a specific account.\n",
    "        engage_date, close_date, close_value: around 2,000 missing values → may indicate deals still in progress or not yet closed.\n",
    "    Opportunity_id is unique per row → clear identifier for each sales opportunity.\n",
    "    Sales_agent has 30 unique values → could be used to analyze individual performance or grouped by manager (via a join with sales_team).\n",
    "    Product can be joined with data_products → useful for checking price, product line, and linking to outcomes.\n",
    "    Deal_stage has 4 unique values → critical categorical variable to model the sales process (e.g., Won, Lost, etc.).\n",
    "    Engage_date and close_date are still strings (object) and should be converted to datetime for time-based analysis:"
   ]
  },
  {
   "cell_type": "markdown",
   "id": "27b18a2a",
   "metadata": {},
   "source": [
    "### Sales Team"
   ]
  },
  {
   "cell_type": "markdown",
   "id": "9adcd51f",
   "metadata": {},
   "source": [
    "The sales_team table provides organizational information about the company’s sales agents. Each row includes a sales agent’s name, their direct manager, and the regional office they are assigned to. This data can be used to analyze team structures, compare performance across regions, and identify managerial influence on sales outcomes."
   ]
  },
  {
   "cell_type": "code",
   "execution_count": null,
   "id": "e93d7377",
   "metadata": {
    "scrolled": true
   },
   "outputs": [
    {
     "data": {
      "text/html": [
       "<div>\n",
       "<style scoped>\n",
       "    .dataframe tbody tr th:only-of-type {\n",
       "        vertical-align: middle;\n",
       "    }\n",
       "\n",
       "    .dataframe tbody tr th {\n",
       "        vertical-align: top;\n",
       "    }\n",
       "\n",
       "    .dataframe thead th {\n",
       "        text-align: right;\n",
       "    }\n",
       "</style>\n",
       "<table border=\"1\" class=\"dataframe\">\n",
       "  <thead>\n",
       "    <tr style=\"text-align: right;\">\n",
       "      <th></th>\n",
       "      <th>sales_agent</th>\n",
       "      <th>manager</th>\n",
       "      <th>regional_office</th>\n",
       "    </tr>\n",
       "  </thead>\n",
       "  <tbody>\n",
       "    <tr>\n",
       "      <th>0</th>\n",
       "      <td>Anna Snelling</td>\n",
       "      <td>Dustin Brinkmann</td>\n",
       "      <td>Central</td>\n",
       "    </tr>\n",
       "    <tr>\n",
       "      <th>1</th>\n",
       "      <td>Cecily Lampkin</td>\n",
       "      <td>Dustin Brinkmann</td>\n",
       "      <td>Central</td>\n",
       "    </tr>\n",
       "    <tr>\n",
       "      <th>2</th>\n",
       "      <td>Versie Hillebrand</td>\n",
       "      <td>Dustin Brinkmann</td>\n",
       "      <td>Central</td>\n",
       "    </tr>\n",
       "    <tr>\n",
       "      <th>3</th>\n",
       "      <td>Lajuana Vencill</td>\n",
       "      <td>Dustin Brinkmann</td>\n",
       "      <td>Central</td>\n",
       "    </tr>\n",
       "    <tr>\n",
       "      <th>4</th>\n",
       "      <td>Moses Frase</td>\n",
       "      <td>Dustin Brinkmann</td>\n",
       "      <td>Central</td>\n",
       "    </tr>\n",
       "  </tbody>\n",
       "</table>\n",
       "</div>"
      ],
      "text/plain": [
       "         sales_agent           manager regional_office\n",
       "0      Anna Snelling  Dustin Brinkmann         Central\n",
       "1     Cecily Lampkin  Dustin Brinkmann         Central\n",
       "2  Versie Hillebrand  Dustin Brinkmann         Central\n",
       "3    Lajuana Vencill  Dustin Brinkmann         Central\n",
       "4        Moses Frase  Dustin Brinkmann         Central"
      ]
     },
     "execution_count": 74,
     "metadata": {},
     "output_type": "execute_result"
    }
   ],
   "source": [
    "data_sales_team = pd.read_csv('../data/raw/sales_teams.csv').copy()\n",
    "data_sales_team.head()\n"
   ]
  },
  {
   "cell_type": "code",
   "execution_count": null,
   "id": "455490c9",
   "metadata": {},
   "outputs": [
    {
     "name": "stdout",
     "output_type": "stream",
     "text": [
      "INFO\n",
      "<class 'pandas.core.frame.DataFrame'>\n",
      "RangeIndex: 35 entries, 0 to 34\n",
      "Data columns (total 3 columns):\n",
      " #   Column           Non-Null Count  Dtype \n",
      "---  ------           --------------  ----- \n",
      " 0   sales_agent      35 non-null     object\n",
      " 1   manager          35 non-null     object\n",
      " 2   regional_office  35 non-null     object\n",
      "dtypes: object(3)\n",
      "memory usage: 968.0+ bytes\n"
     ]
    }
   ],
   "source": [
    "print('INFO')\n",
    "data_sales_team.info()\n"
   ]
  },
  {
   "cell_type": "code",
   "execution_count": null,
   "id": "908bbe06",
   "metadata": {},
   "outputs": [
    {
     "name": "stdout",
     "output_type": "stream",
     "text": [
      "\n",
      "Missing Values\n"
     ]
    },
    {
     "data": {
      "text/plain": [
       "sales_agent        0\n",
       "manager            0\n",
       "regional_office    0\n",
       "dtype: int64"
      ]
     },
     "execution_count": 76,
     "metadata": {},
     "output_type": "execute_result"
    }
   ],
   "source": [
    "print('\\nMissing Values')\n",
    "data_sales_team.isna().sum()\n"
   ]
  },
  {
   "cell_type": "code",
   "execution_count": null,
   "id": "7418d5e1",
   "metadata": {},
   "outputs": [
    {
     "name": "stdout",
     "output_type": "stream",
     "text": [
      "\n",
      "Unique Values\n"
     ]
    },
    {
     "data": {
      "text/plain": [
       "sales_agent        35\n",
       "manager             6\n",
       "regional_office     3\n",
       "dtype: int64"
      ]
     },
     "execution_count": 77,
     "metadata": {},
     "output_type": "execute_result"
    }
   ],
   "source": [
    "print('\\nUnique Values')\n",
    "data_sales_team.nunique()\n"
   ]
  },
  {
   "cell_type": "markdown",
   "id": "37b91933",
   "metadata": {},
   "source": [
    "**Observations on data_sales_team**\n",
    "\n",
    "    No missing values → perfectly clean table.\n",
    "    35 unique rows, one per sales_agent → matches the expected size of the sales team.\n",
    "    manager has only 6 unique values → clear hierarchical structure, ideal for performance analysis by leader.\n",
    "    regional_office has 3 unique values → enables comparisons across geographic regions.\n",
    "    This table will be useful to join with sales_pipeline via sales_agent in order to:\n",
    "        -Evaluate which manager or region closes more deals.\n",
    "        -Detect potential performance disparities between teams."
   ]
  },
  {
   "cell_type": "markdown",
   "id": "e119dd6e",
   "metadata": {},
   "source": [
    "## Dataset Overview Summary\n"
   ]
  },
  {
   "cell_type": "code",
   "execution_count": null,
   "id": "e5567c18",
   "metadata": {},
   "outputs": [],
   "source": [
    "def summarize_datasets(datasets_dict):\n",
    "    summary = []\n",
    "\n",
    "    for name, df in datasets_dict.items():\n",
    "        summary.append({\n",
    "            'Dataset': name,\n",
    "            'Rows': df.shape[0],\n",
    "            'Columns': df.shape[1],\n",
    "            'Missing Values': df.isna().sum().sum(),\n",
    "            'Duplicated Rows': df.duplicated().sum()\n",
    "        })\n",
    "\n",
    "    return pd.DataFrame(summary)\n"
   ]
  },
  {
   "cell_type": "code",
   "execution_count": null,
   "id": "a3eba7f6",
   "metadata": {},
   "outputs": [
    {
     "data": {
      "text/html": [
       "<div>\n",
       "<style scoped>\n",
       "    .dataframe tbody tr th:only-of-type {\n",
       "        vertical-align: middle;\n",
       "    }\n",
       "\n",
       "    .dataframe tbody tr th {\n",
       "        vertical-align: top;\n",
       "    }\n",
       "\n",
       "    .dataframe thead th {\n",
       "        text-align: right;\n",
       "    }\n",
       "</style>\n",
       "<table border=\"1\" class=\"dataframe\">\n",
       "  <thead>\n",
       "    <tr style=\"text-align: right;\">\n",
       "      <th></th>\n",
       "      <th>Dataset</th>\n",
       "      <th>Rows</th>\n",
       "      <th>Columns</th>\n",
       "      <th>Missing Values</th>\n",
       "      <th>Duplicated Rows</th>\n",
       "    </tr>\n",
       "  </thead>\n",
       "  <tbody>\n",
       "    <tr>\n",
       "      <th>0</th>\n",
       "      <td>Accounts</td>\n",
       "      <td>85</td>\n",
       "      <td>7</td>\n",
       "      <td>70</td>\n",
       "      <td>0</td>\n",
       "    </tr>\n",
       "    <tr>\n",
       "      <th>1</th>\n",
       "      <td>Data Disctionary</td>\n",
       "      <td>21</td>\n",
       "      <td>3</td>\n",
       "      <td>0</td>\n",
       "      <td>0</td>\n",
       "    </tr>\n",
       "    <tr>\n",
       "      <th>2</th>\n",
       "      <td>Products</td>\n",
       "      <td>7</td>\n",
       "      <td>3</td>\n",
       "      <td>0</td>\n",
       "      <td>0</td>\n",
       "    </tr>\n",
       "    <tr>\n",
       "      <th>3</th>\n",
       "      <td>Sales Pipeline</td>\n",
       "      <td>8800</td>\n",
       "      <td>8</td>\n",
       "      <td>6103</td>\n",
       "      <td>0</td>\n",
       "    </tr>\n",
       "    <tr>\n",
       "      <th>4</th>\n",
       "      <td>Sales team</td>\n",
       "      <td>35</td>\n",
       "      <td>3</td>\n",
       "      <td>0</td>\n",
       "      <td>0</td>\n",
       "    </tr>\n",
       "  </tbody>\n",
       "</table>\n",
       "</div>"
      ],
      "text/plain": [
       "            Dataset  Rows  Columns  Missing Values  Duplicated Rows\n",
       "0          Accounts    85        7              70                0\n",
       "1  Data Disctionary    21        3               0                0\n",
       "2          Products     7        3               0                0\n",
       "3    Sales Pipeline  8800        8            6103                0\n",
       "4        Sales team    35        3               0                0"
      ]
     },
     "execution_count": 79,
     "metadata": {},
     "output_type": "execute_result"
    }
   ],
   "source": [
    "datasets = {\n",
    "    'Accounts': data_accounts,\n",
    "    'Data Disctionary': data_dictionary,\n",
    "    'Products': data_products,\n",
    "    'Sales Pipeline': data_sales_pipeline,\n",
    "    'Sales team': data_sales_team\n",
    "}\n",
    "\n",
    "summary_df = summarize_datasets(datasets)\n",
    "summary_df\n"
   ]
  },
  {
   "cell_type": "markdown",
   "id": "0d848f56",
   "metadata": {},
   "source": [
    "# Data Cleaning & Transformation\n"
   ]
  },
  {
   "cell_type": "markdown",
   "id": "9054e69a",
   "metadata": {},
   "source": [
    "## Data Sales_pipeline\n"
   ]
  },
  {
   "cell_type": "code",
   "execution_count": null,
   "id": "ccec20de",
   "metadata": {},
   "outputs": [],
   "source": [
    "# Strip all string columns\n",
    "for col in data_sales_pipeline.select_dtypes(include='object').columns:\n",
    "    data_sales_pipeline[col] = data_sales_pipeline[col].str.strip()\n"
   ]
  },
  {
   "cell_type": "markdown",
   "id": "1cba702a",
   "metadata": {},
   "source": [
    "###  Engage_Date & Close_date\n"
   ]
  },
  {
   "cell_type": "code",
   "execution_count": null,
   "id": "aabd6c93",
   "metadata": {},
   "outputs": [],
   "source": [
    "data_sales_pipeline['engage_date'] = pd.to_datetime(\n",
    "    data_sales_pipeline['engage_date'])\n",
    "data_sales_pipeline['close_date'] = pd.to_datetime(\n",
    "    data_sales_pipeline['close_date'])\n"
   ]
  },
  {
   "cell_type": "code",
   "execution_count": null,
   "id": "6423adbe",
   "metadata": {},
   "outputs": [
    {
     "name": "stdout",
     "output_type": "stream",
     "text": [
      "<class 'pandas.core.frame.DataFrame'>\n",
      "RangeIndex: 8800 entries, 0 to 8799\n",
      "Data columns (total 2 columns):\n",
      " #   Column       Non-Null Count  Dtype         \n",
      "---  ------       --------------  -----         \n",
      " 0   engage_date  8300 non-null   datetime64[ns]\n",
      " 1   close_date   6711 non-null   datetime64[ns]\n",
      "dtypes: datetime64[ns](2)\n",
      "memory usage: 137.6 KB\n"
     ]
    }
   ],
   "source": [
    "data_sales_pipeline[['engage_date', 'close_date']].info()\n"
   ]
  },
  {
   "cell_type": "code",
   "execution_count": null,
   "id": "37447ae3",
   "metadata": {},
   "outputs": [
    {
     "data": {
      "text/html": [
       "<div>\n",
       "<style scoped>\n",
       "    .dataframe tbody tr th:only-of-type {\n",
       "        vertical-align: middle;\n",
       "    }\n",
       "\n",
       "    .dataframe tbody tr th {\n",
       "        vertical-align: top;\n",
       "    }\n",
       "\n",
       "    .dataframe thead th {\n",
       "        text-align: right;\n",
       "    }\n",
       "</style>\n",
       "<table border=\"1\" class=\"dataframe\">\n",
       "  <thead>\n",
       "    <tr style=\"text-align: right;\">\n",
       "      <th></th>\n",
       "      <th>opportunity_id</th>\n",
       "      <th>sales_agent</th>\n",
       "      <th>product</th>\n",
       "      <th>account</th>\n",
       "      <th>deal_stage</th>\n",
       "      <th>engage_date</th>\n",
       "      <th>close_date</th>\n",
       "      <th>close_value</th>\n",
       "    </tr>\n",
       "  </thead>\n",
       "  <tbody>\n",
       "    <tr>\n",
       "      <th>8300</th>\n",
       "      <td>6CWZFOHJ</td>\n",
       "      <td>Anna Snelling</td>\n",
       "      <td>GTX Basic</td>\n",
       "      <td>Green-Plus</td>\n",
       "      <td>Prospecting</td>\n",
       "      <td>NaT</td>\n",
       "      <td>NaT</td>\n",
       "      <td>NaN</td>\n",
       "    </tr>\n",
       "    <tr>\n",
       "      <th>8301</th>\n",
       "      <td>3LCLVRVV</td>\n",
       "      <td>Anna Snelling</td>\n",
       "      <td>GTX Basic</td>\n",
       "      <td>NaN</td>\n",
       "      <td>Prospecting</td>\n",
       "      <td>NaT</td>\n",
       "      <td>NaT</td>\n",
       "      <td>NaN</td>\n",
       "    </tr>\n",
       "    <tr>\n",
       "      <th>8302</th>\n",
       "      <td>YIU1B39V</td>\n",
       "      <td>Anna Snelling</td>\n",
       "      <td>GTX Basic</td>\n",
       "      <td>NaN</td>\n",
       "      <td>Prospecting</td>\n",
       "      <td>NaT</td>\n",
       "      <td>NaT</td>\n",
       "      <td>NaN</td>\n",
       "    </tr>\n",
       "    <tr>\n",
       "      <th>8303</th>\n",
       "      <td>8E0VRCLW</td>\n",
       "      <td>Anna Snelling</td>\n",
       "      <td>GTX Basic</td>\n",
       "      <td>NaN</td>\n",
       "      <td>Prospecting</td>\n",
       "      <td>NaT</td>\n",
       "      <td>NaT</td>\n",
       "      <td>NaN</td>\n",
       "    </tr>\n",
       "    <tr>\n",
       "      <th>8304</th>\n",
       "      <td>G99CS23F</td>\n",
       "      <td>Anna Snelling</td>\n",
       "      <td>GTX Basic</td>\n",
       "      <td>NaN</td>\n",
       "      <td>Prospecting</td>\n",
       "      <td>NaT</td>\n",
       "      <td>NaT</td>\n",
       "      <td>NaN</td>\n",
       "    </tr>\n",
       "  </tbody>\n",
       "</table>\n",
       "</div>"
      ],
      "text/plain": [
       "     opportunity_id    sales_agent    product     account   deal_stage  \\\n",
       "8300       6CWZFOHJ  Anna Snelling  GTX Basic  Green-Plus  Prospecting   \n",
       "8301       3LCLVRVV  Anna Snelling  GTX Basic         NaN  Prospecting   \n",
       "8302       YIU1B39V  Anna Snelling  GTX Basic         NaN  Prospecting   \n",
       "8303       8E0VRCLW  Anna Snelling  GTX Basic         NaN  Prospecting   \n",
       "8304       G99CS23F  Anna Snelling  GTX Basic         NaN  Prospecting   \n",
       "\n",
       "     engage_date close_date  close_value  \n",
       "8300         NaT        NaT          NaN  \n",
       "8301         NaT        NaT          NaN  \n",
       "8302         NaT        NaT          NaN  \n",
       "8303         NaT        NaT          NaN  \n",
       "8304         NaT        NaT          NaN  "
      ]
     },
     "execution_count": 83,
     "metadata": {},
     "output_type": "execute_result"
    }
   ],
   "source": [
    "data_sales_pipeline[data_sales_pipeline['engage_date'].isna()].head()\n"
   ]
  },
  {
   "cell_type": "code",
   "execution_count": null,
   "id": "0c76145a",
   "metadata": {},
   "outputs": [
    {
     "data": {
      "text/plain": [
       "np.int64(500)"
      ]
     },
     "execution_count": 84,
     "metadata": {},
     "output_type": "execute_result"
    }
   ],
   "source": [
    "data_sales_pipeline['engage_date'].isna().sum()\n"
   ]
  },
  {
   "cell_type": "code",
   "execution_count": null,
   "id": "3888d483",
   "metadata": {},
   "outputs": [
    {
     "data": {
      "text/plain": [
       "np.int64(2089)"
      ]
     },
     "execution_count": 85,
     "metadata": {},
     "output_type": "execute_result"
    }
   ],
   "source": [
    "data_sales_pipeline['close_date'].isna().sum()\n"
   ]
  },
  {
   "cell_type": "code",
   "execution_count": null,
   "id": "acdc919c",
   "metadata": {},
   "outputs": [
    {
     "data": {
      "text/html": [
       "<div>\n",
       "<style scoped>\n",
       "    .dataframe tbody tr th:only-of-type {\n",
       "        vertical-align: middle;\n",
       "    }\n",
       "\n",
       "    .dataframe tbody tr th {\n",
       "        vertical-align: top;\n",
       "    }\n",
       "\n",
       "    .dataframe thead th {\n",
       "        text-align: right;\n",
       "    }\n",
       "</style>\n",
       "<table border=\"1\" class=\"dataframe\">\n",
       "  <thead>\n",
       "    <tr style=\"text-align: right;\">\n",
       "      <th></th>\n",
       "      <th>opportunity_id</th>\n",
       "      <th>sales_agent</th>\n",
       "      <th>product</th>\n",
       "      <th>account</th>\n",
       "      <th>deal_stage</th>\n",
       "      <th>engage_date</th>\n",
       "      <th>close_date</th>\n",
       "      <th>close_value</th>\n",
       "      <th>opportunity_status</th>\n",
       "    </tr>\n",
       "  </thead>\n",
       "  <tbody>\n",
       "    <tr>\n",
       "      <th>0</th>\n",
       "      <td>1C1I7A6R</td>\n",
       "      <td>Moses Frase</td>\n",
       "      <td>GTX Plus Basic</td>\n",
       "      <td>Cancity</td>\n",
       "      <td>Won</td>\n",
       "      <td>2016-10-20</td>\n",
       "      <td>2017-03-01</td>\n",
       "      <td>1054.0</td>\n",
       "      <td>completed</td>\n",
       "    </tr>\n",
       "    <tr>\n",
       "      <th>1</th>\n",
       "      <td>Z063OYW0</td>\n",
       "      <td>Darcel Schlecht</td>\n",
       "      <td>GTXPro</td>\n",
       "      <td>Isdom</td>\n",
       "      <td>Won</td>\n",
       "      <td>2016-10-25</td>\n",
       "      <td>2017-03-11</td>\n",
       "      <td>4514.0</td>\n",
       "      <td>completed</td>\n",
       "    </tr>\n",
       "    <tr>\n",
       "      <th>2</th>\n",
       "      <td>EC4QE1BX</td>\n",
       "      <td>Darcel Schlecht</td>\n",
       "      <td>MG Special</td>\n",
       "      <td>Cancity</td>\n",
       "      <td>Won</td>\n",
       "      <td>2016-10-25</td>\n",
       "      <td>2017-03-07</td>\n",
       "      <td>50.0</td>\n",
       "      <td>completed</td>\n",
       "    </tr>\n",
       "    <tr>\n",
       "      <th>3</th>\n",
       "      <td>MV1LWRNH</td>\n",
       "      <td>Moses Frase</td>\n",
       "      <td>GTX Basic</td>\n",
       "      <td>Codehow</td>\n",
       "      <td>Won</td>\n",
       "      <td>2016-10-25</td>\n",
       "      <td>2017-03-09</td>\n",
       "      <td>588.0</td>\n",
       "      <td>completed</td>\n",
       "    </tr>\n",
       "    <tr>\n",
       "      <th>4</th>\n",
       "      <td>PE84CX4O</td>\n",
       "      <td>Zane Levy</td>\n",
       "      <td>GTX Basic</td>\n",
       "      <td>Hatfan</td>\n",
       "      <td>Won</td>\n",
       "      <td>2016-10-25</td>\n",
       "      <td>2017-03-02</td>\n",
       "      <td>517.0</td>\n",
       "      <td>completed</td>\n",
       "    </tr>\n",
       "  </tbody>\n",
       "</table>\n",
       "</div>"
      ],
      "text/plain": [
       "  opportunity_id      sales_agent         product  account deal_stage  \\\n",
       "0       1C1I7A6R      Moses Frase  GTX Plus Basic  Cancity        Won   \n",
       "1       Z063OYW0  Darcel Schlecht          GTXPro    Isdom        Won   \n",
       "2       EC4QE1BX  Darcel Schlecht      MG Special  Cancity        Won   \n",
       "3       MV1LWRNH      Moses Frase       GTX Basic  Codehow        Won   \n",
       "4       PE84CX4O        Zane Levy       GTX Basic   Hatfan        Won   \n",
       "\n",
       "  engage_date close_date  close_value opportunity_status  \n",
       "0  2016-10-20 2017-03-01       1054.0          completed  \n",
       "1  2016-10-25 2017-03-11       4514.0          completed  \n",
       "2  2016-10-25 2017-03-07         50.0          completed  \n",
       "3  2016-10-25 2017-03-09        588.0          completed  \n",
       "4  2016-10-25 2017-03-02        517.0          completed  "
      ]
     },
     "execution_count": 86,
     "metadata": {},
     "output_type": "execute_result"
    }
   ],
   "source": [
    "def classify_opportunity(row):\n",
    "    if pd.isna(row['engage_date']):\n",
    "        return 'initial'\n",
    "    elif pd.isna(row['close_date']):\n",
    "        return 'in_progress'\n",
    "    else:\n",
    "        return 'completed'\n",
    "\n",
    "\n",
    "data_sales_pipeline['opportunity_status'] = data_sales_pipeline.apply(\n",
    "    classify_opportunity, axis=1)\n",
    "data_sales_pipeline.head()\n"
   ]
  },
  {
   "cell_type": "code",
   "execution_count": null,
   "id": "0fb4402b",
   "metadata": {
    "scrolled": true
   },
   "outputs": [
    {
     "data": {
      "text/html": [
       "<div>\n",
       "<style scoped>\n",
       "    .dataframe tbody tr th:only-of-type {\n",
       "        vertical-align: middle;\n",
       "    }\n",
       "\n",
       "    .dataframe tbody tr th {\n",
       "        vertical-align: top;\n",
       "    }\n",
       "\n",
       "    .dataframe thead th {\n",
       "        text-align: right;\n",
       "    }\n",
       "</style>\n",
       "<table border=\"1\" class=\"dataframe\">\n",
       "  <thead>\n",
       "    <tr style=\"text-align: right;\">\n",
       "      <th>opportunity_status</th>\n",
       "      <th>completed</th>\n",
       "      <th>in_progress</th>\n",
       "      <th>initial</th>\n",
       "    </tr>\n",
       "    <tr>\n",
       "      <th>deal_stage</th>\n",
       "      <th></th>\n",
       "      <th></th>\n",
       "      <th></th>\n",
       "    </tr>\n",
       "  </thead>\n",
       "  <tbody>\n",
       "    <tr>\n",
       "      <th>Engaging</th>\n",
       "      <td>0</td>\n",
       "      <td>1589</td>\n",
       "      <td>0</td>\n",
       "    </tr>\n",
       "    <tr>\n",
       "      <th>Lost</th>\n",
       "      <td>2473</td>\n",
       "      <td>0</td>\n",
       "      <td>0</td>\n",
       "    </tr>\n",
       "    <tr>\n",
       "      <th>Prospecting</th>\n",
       "      <td>0</td>\n",
       "      <td>0</td>\n",
       "      <td>500</td>\n",
       "    </tr>\n",
       "    <tr>\n",
       "      <th>Won</th>\n",
       "      <td>4238</td>\n",
       "      <td>0</td>\n",
       "      <td>0</td>\n",
       "    </tr>\n",
       "  </tbody>\n",
       "</table>\n",
       "</div>"
      ],
      "text/plain": [
       "opportunity_status  completed  in_progress  initial\n",
       "deal_stage                                         \n",
       "Engaging                    0         1589        0\n",
       "Lost                     2473            0        0\n",
       "Prospecting                 0            0      500\n",
       "Won                      4238            0        0"
      ]
     },
     "execution_count": 87,
     "metadata": {},
     "output_type": "execute_result"
    }
   ],
   "source": [
    "pd.crosstab(data_sales_pipeline['deal_stage'],\n",
    "            data_sales_pipeline['opportunity_status'])\n"
   ]
  },
  {
   "cell_type": "code",
   "execution_count": null,
   "id": "a2c94ac0",
   "metadata": {},
   "outputs": [
    {
     "data": {
      "image/png": "[encoded data removed]",
      "text/plain": [
       "<Figure size 700x500 with 1 Axes>"
      ]
     },
     "metadata": {},
     "output_type": "display_data"
    }
   ],
   "source": [
    "crosstab_df = pd.crosstab(\n",
    "    data_sales_pipeline['deal_stage'], data_sales_pipeline['opportunity_status'])\n",
    "\n",
    "crosstab_df.plot(kind='bar', stacked=True, figsize=(7, 5))\n",
    "plt.title('Deal Stage vs Opportunity Status')\n",
    "plt.xlabel('Deal Stage')\n",
    "plt.ylabel('Number of Opportunities')\n",
    "plt.legend(title='Opportunity Status')\n",
    "plt.tight_layout()\n",
    "plt.show()\n"
   ]
  },
  {
   "cell_type": "markdown",
   "id": "c3695f89",
   "metadata": {},
   "source": [
    "#### **Deal Stage vs. Opportunity Status – Discussion Notes**\n",
    "\n",
    "The crosstab above reveals a misalignment between the CRM-labeled `deal_stage` and the actual state of the opportunity based on dates.\n",
    "\n",
    "- `Prospecting` matches perfectly with `initial` (500 rows) → as expected.\n",
    "- `Won` and `Lost` align with `completed`, which makes sense because both imply a final outcome.\n",
    "- But `Engaging` is fully labeled as `in_progress`, and **none** are marked as `completed`, even though we would expect some of them to have been closed by now.\n",
    "\n",
    "#### **Implications**\n",
    "- There may be inconsistencies in how sales agents update `deal_stage`. It’s possible that some deals were closed but the stage was never updated from `Engaging` to `Won` or `Lost`.\n",
    "- Our `opportunity_status` column reflects the actual data available (based on `engage_date` and `close_date`), making it more reliable for modeling purposes.\n",
    "\n",
    "#### **Options for the team:**\n",
    "1. **Rely on `opportunity_status`** (date-based) for filtering and training the model, since it reflects actual data.\n",
    "2. Use `deal_stage` as an **additional feature** (not as a filter) to enrich the model, especially in the MVP version.\n",
    "3. **Create a combined or corrected status** field that integrates both sources (e.g., if `close_date` exists but `deal_stage` is still \"Engaging\", flag it as inconsistent).\n",
    "4. Flag and review rows where `deal_stage` seems outdated given the dates, as part of a data quality step.\n",
    "\n",
    "#### **Decision to make**\n",
    "We should agree as a team whether to:\n",
    "- Train models using only `opportunity_status == 'completed'`\n",
    "- Include `in_progress` or `initial` records for some models (like early prediction)\n",
    "- Consider fixing or cleaning `deal_stage` manually if time allows\n",
    "\n",
    "#### **Additional observation: close_date and close_value**\n",
    "\n",
    "It's worth noting that the number of missing values in `close_date` and `close_value` is exactly the same (2089 rows). This suggests a direct link: when a deal hasn't been closed (`close_date` is NaT), its value is also unknown (`close_value` is NaN).\n",
    "\n",
    "This further supports our classification logic:\n",
    "- If both dates are missing → the opportunity is likely still in the initial stage.\n",
    "- If `engage_date` exists but `close_date` and `close_value` are missing → the opportunity is in progress.\n",
    "- If both dates exist → the opportunity is completed, with a known value.\n",
    "\n",
    "This pattern reinforces the reliability of the `opportunity_status` column for modeling.\n"
   ]
  },
  {
   "cell_type": "markdown",
   "id": "7f9c5c2c",
   "metadata": {},
   "source": [
    "### Account"
   ]
  },
  {
   "cell_type": "code",
   "execution_count": null,
   "id": "0ba47139",
   "metadata": {},
   "outputs": [
    {
     "data": {
      "text/plain": [
       "np.int64(1425)"
      ]
     },
     "execution_count": 89,
     "metadata": {},
     "output_type": "execute_result"
    }
   ],
   "source": [
    "data_sales_pipeline['account'].isna().sum()\n"
   ]
  },
  {
   "cell_type": "code",
   "execution_count": null,
   "id": "63040433",
   "metadata": {
    "scrolled": true
   },
   "outputs": [
    {
     "name": "stdout",
     "output_type": "stream",
     "text": [
      "\n",
      "Deal Stage distribution for missing 'account':\n"
     ]
    },
    {
     "data": {
      "text/plain": [
       "deal_stage\n",
       "Engaging       1088\n",
       "Prospecting     337\n",
       "Name: count, dtype: int64"
      ]
     },
     "execution_count": 90,
     "metadata": {},
     "output_type": "execute_result"
    }
   ],
   "source": [
    "# Check what deal_stage those missing accounts belong to\n",
    "print(\"\\nDeal Stage distribution for missing 'account':\")\n",
    "data_sales_pipeline[data_sales_pipeline['account'].isna()\n",
    "                    ]['deal_stage'].value_counts()\n"
   ]
  },
  {
   "cell_type": "code",
   "execution_count": null,
   "id": "a570eed3",
   "metadata": {},
   "outputs": [
    {
     "name": "stdout",
     "output_type": "stream",
     "text": [
      "\n",
      "Opportunity Status distribution for missing 'account':\n"
     ]
    },
    {
     "data": {
      "text/plain": [
       "opportunity_status\n",
       "in_progress    1088\n",
       "initial         337\n",
       "Name: count, dtype: int64"
      ]
     },
     "execution_count": 91,
     "metadata": {},
     "output_type": "execute_result"
    }
   ],
   "source": [
    "# Check what opportunity_status those missing accounts belong to\n",
    "print(\"\\nOpportunity Status distribution for missing 'account':\")\n",
    "data_sales_pipeline[data_sales_pipeline['account'].isna(\n",
    ")]['opportunity_status'].value_counts()\n"
   ]
  },
  {
   "cell_type": "code",
   "execution_count": null,
   "id": "1cee44bd",
   "metadata": {},
   "outputs": [],
   "source": [
    "data_sales_pipeline['has_account'] = data_sales_pipeline['account'].notna()\n"
   ]
  },
  {
   "cell_type": "code",
   "execution_count": null,
   "id": "585fe0c2",
   "metadata": {},
   "outputs": [
    {
     "data": {
      "text/html": [
       "<div>\n",
       "<style scoped>\n",
       "    .dataframe tbody tr th:only-of-type {\n",
       "        vertical-align: middle;\n",
       "    }\n",
       "\n",
       "    .dataframe tbody tr th {\n",
       "        vertical-align: top;\n",
       "    }\n",
       "\n",
       "    .dataframe thead th {\n",
       "        text-align: right;\n",
       "    }\n",
       "</style>\n",
       "<table border=\"1\" class=\"dataframe\">\n",
       "  <thead>\n",
       "    <tr style=\"text-align: right;\">\n",
       "      <th></th>\n",
       "      <th>opportunity_id</th>\n",
       "      <th>sales_agent</th>\n",
       "      <th>product</th>\n",
       "      <th>account</th>\n",
       "      <th>deal_stage</th>\n",
       "      <th>engage_date</th>\n",
       "      <th>close_date</th>\n",
       "      <th>close_value</th>\n",
       "      <th>opportunity_status</th>\n",
       "      <th>has_account</th>\n",
       "    </tr>\n",
       "  </thead>\n",
       "  <tbody>\n",
       "    <tr>\n",
       "      <th>0</th>\n",
       "      <td>1C1I7A6R</td>\n",
       "      <td>Moses Frase</td>\n",
       "      <td>GTX Plus Basic</td>\n",
       "      <td>Cancity</td>\n",
       "      <td>Won</td>\n",
       "      <td>2016-10-20</td>\n",
       "      <td>2017-03-01</td>\n",
       "      <td>1054.0</td>\n",
       "      <td>completed</td>\n",
       "      <td>True</td>\n",
       "    </tr>\n",
       "    <tr>\n",
       "      <th>1</th>\n",
       "      <td>Z063OYW0</td>\n",
       "      <td>Darcel Schlecht</td>\n",
       "      <td>GTXPro</td>\n",
       "      <td>Isdom</td>\n",
       "      <td>Won</td>\n",
       "      <td>2016-10-25</td>\n",
       "      <td>2017-03-11</td>\n",
       "      <td>4514.0</td>\n",
       "      <td>completed</td>\n",
       "      <td>True</td>\n",
       "    </tr>\n",
       "    <tr>\n",
       "      <th>2</th>\n",
       "      <td>EC4QE1BX</td>\n",
       "      <td>Darcel Schlecht</td>\n",
       "      <td>MG Special</td>\n",
       "      <td>Cancity</td>\n",
       "      <td>Won</td>\n",
       "      <td>2016-10-25</td>\n",
       "      <td>2017-03-07</td>\n",
       "      <td>50.0</td>\n",
       "      <td>completed</td>\n",
       "      <td>True</td>\n",
       "    </tr>\n",
       "    <tr>\n",
       "      <th>3</th>\n",
       "      <td>MV1LWRNH</td>\n",
       "      <td>Moses Frase</td>\n",
       "      <td>GTX Basic</td>\n",
       "      <td>Codehow</td>\n",
       "      <td>Won</td>\n",
       "      <td>2016-10-25</td>\n",
       "      <td>2017-03-09</td>\n",
       "      <td>588.0</td>\n",
       "      <td>completed</td>\n",
       "      <td>True</td>\n",
       "    </tr>\n",
       "    <tr>\n",
       "      <th>4</th>\n",
       "      <td>PE84CX4O</td>\n",
       "      <td>Zane Levy</td>\n",
       "      <td>GTX Basic</td>\n",
       "      <td>Hatfan</td>\n",
       "      <td>Won</td>\n",
       "      <td>2016-10-25</td>\n",
       "      <td>2017-03-02</td>\n",
       "      <td>517.0</td>\n",
       "      <td>completed</td>\n",
       "      <td>True</td>\n",
       "    </tr>\n",
       "  </tbody>\n",
       "</table>\n",
       "</div>"
      ],
      "text/plain": [
       "  opportunity_id      sales_agent         product  account deal_stage  \\\n",
       "0       1C1I7A6R      Moses Frase  GTX Plus Basic  Cancity        Won   \n",
       "1       Z063OYW0  Darcel Schlecht          GTXPro    Isdom        Won   \n",
       "2       EC4QE1BX  Darcel Schlecht      MG Special  Cancity        Won   \n",
       "3       MV1LWRNH      Moses Frase       GTX Basic  Codehow        Won   \n",
       "4       PE84CX4O        Zane Levy       GTX Basic   Hatfan        Won   \n",
       "\n",
       "  engage_date close_date  close_value opportunity_status  has_account  \n",
       "0  2016-10-20 2017-03-01       1054.0          completed         True  \n",
       "1  2016-10-25 2017-03-11       4514.0          completed         True  \n",
       "2  2016-10-25 2017-03-07         50.0          completed         True  \n",
       "3  2016-10-25 2017-03-09        588.0          completed         True  \n",
       "4  2016-10-25 2017-03-02        517.0          completed         True  "
      ]
     },
     "execution_count": 93,
     "metadata": {},
     "output_type": "execute_result"
    }
   ],
   "source": [
    "data_sales_pipeline.head()\n"
   ]
  },
  {
   "cell_type": "code",
   "execution_count": null,
   "id": "bd2e145e",
   "metadata": {},
   "outputs": [
    {
     "data": {
      "text/html": [
       "<div>\n",
       "<style scoped>\n",
       "    .dataframe tbody tr th:only-of-type {\n",
       "        vertical-align: middle;\n",
       "    }\n",
       "\n",
       "    .dataframe tbody tr th {\n",
       "        vertical-align: top;\n",
       "    }\n",
       "\n",
       "    .dataframe thead th {\n",
       "        text-align: right;\n",
       "    }\n",
       "</style>\n",
       "<table border=\"1\" class=\"dataframe\">\n",
       "  <thead>\n",
       "    <tr style=\"text-align: right;\">\n",
       "      <th>has_account</th>\n",
       "      <th>False</th>\n",
       "      <th>True</th>\n",
       "    </tr>\n",
       "    <tr>\n",
       "      <th>opportunity_status</th>\n",
       "      <th></th>\n",
       "      <th></th>\n",
       "    </tr>\n",
       "  </thead>\n",
       "  <tbody>\n",
       "    <tr>\n",
       "      <th>completed</th>\n",
       "      <td>0</td>\n",
       "      <td>6711</td>\n",
       "    </tr>\n",
       "    <tr>\n",
       "      <th>in_progress</th>\n",
       "      <td>1088</td>\n",
       "      <td>501</td>\n",
       "    </tr>\n",
       "    <tr>\n",
       "      <th>initial</th>\n",
       "      <td>337</td>\n",
       "      <td>163</td>\n",
       "    </tr>\n",
       "  </tbody>\n",
       "</table>\n",
       "</div>"
      ],
      "text/plain": [
       "has_account         False  True \n",
       "opportunity_status              \n",
       "completed               0   6711\n",
       "in_progress          1088    501\n",
       "initial               337    163"
      ]
     },
     "execution_count": 94,
     "metadata": {},
     "output_type": "execute_result"
    }
   ],
   "source": [
    "pd.crosstab(data_sales_pipeline['opportunity_status'],\n",
    "            data_sales_pipeline['has_account'])\n"
   ]
  },
  {
   "cell_type": "code",
   "execution_count": null,
   "id": "b2569577",
   "metadata": {},
   "outputs": [
    {
     "data": {
      "image/png": "[encoded data removed]",
      "text/plain": [
       "<Figure size 700x500 with 1 Axes>"
      ]
     },
     "metadata": {},
     "output_type": "display_data"
    }
   ],
   "source": [
    "pd.crosstab(data_sales_pipeline['opportunity_status'], data_sales_pipeline['has_account']) \\\n",
    "  .plot(kind='bar', stacked=True, figsize=(7, 5))\n",
    "plt.title('Has Account vs Opportunity Status')\n",
    "plt.ylabel('Number of Opportunities')\n",
    "plt.tight_layout()\n",
    "plt.show()\n"
   ]
  },
  {
   "cell_type": "markdown",
   "id": "b3762d07",
   "metadata": {},
   "source": [
    "#### **Observations and Options – Missing Account**\n",
    "A total of 1,425 opportunities are missing an associated account.\n",
    "All of them fall into early sales stages (Prospecting and Engaging) and are labeled as either initial or in_progress in opportunity_status.\n",
    "    *This means they do not affect completed sales, as all completed deals have an account assigned.\n",
    "\n",
    "**Implications:**\n",
    "\n",
    "These opportunities can be kept in the dataset if we want to build models or analyses involving early-stage predictions.\n",
    "If we plan to enrich the dataset by joining with data_accounts, we should be aware that these rows won't match.\n",
    "\n",
    "**Options for the team:**\n",
    "\n",
    "    -Keep them as-is, especially if early-stage modeling is relevant.\n",
    "    -Create a boolean column like has_account = True/False to capture this signal and use it as a feature.\n",
    "    -Filter them out temporarily using ~data_sales_pipeline['account'].isna() if we need full rows for joins or     feature engineering.\n",
    "    -Optionally, review them separately as a \"pre-qualification\" group that may require follow-up from the business side."
   ]
  },
  {
   "cell_type": "markdown",
   "id": "354f01c5",
   "metadata": {},
   "source": [
    "#### **Consistency Between Deal Stage and Opportunity Status**\n",
    "Interestingly, when we look at the 1,425 opportunities missing an account, we notice a perfect match between deal_stage and our custom opportunity_status:\n",
    "\n",
    "All rows with deal_stage == \"Engaging\" are labeled as in_progress.\n",
    "All rows with deal_stage == \"Prospecting\" are labeled as initial.\n",
    "\n",
    "This confirms the reliability of our opportunity_status column, especially for early-stage opportunities.\n",
    "It also suggests that, at least in these cases, the deal_stage field is consistent with the actual data (dates).\n",
    "\n",
    "However, we previously saw that this alignment breaks for some rows with Engaging that have a close_date, which are still labeled in_progress in deal_stage.\n",
    "\n",
    "This insight supports the idea of relying primarily on opportunity_status for modeling and using deal_stage as a secondary or supporting feature, while also flagging inconsistencies where needed."
   ]
  },
  {
   "cell_type": "markdown",
   "id": "3b2000f0",
   "metadata": {},
   "source": [
    "**Now that we have clarified how account availability aligns with opportunity progress, we can proceed to explore the sales_agent and team-related information to further enrich our modeling dataset**"
   ]
  },
  {
   "cell_type": "code",
   "execution_count": null,
   "id": "2b5fd828",
   "metadata": {},
   "outputs": [],
   "source": []
  },
  {
   "cell_type": "code",
   "execution_count": null,
   "id": "e007e856",
   "metadata": {},
   "outputs": [],
   "source": []
  },
  {
   "cell_type": "code",
   "execution_count": null,
   "id": "a6c12c38",
   "metadata": {},
   "outputs": [],
   "source": []
  }
 ],
 "metadata": {
  "kernelspec": {
   "display_name": "aisrm-env",
   "language": "python",
   "name": "python3"
  },
  "language_info": {
   "codemirror_mode": {
    "name": "ipython",
    "version": 3
   },
   "file_extension": ".py",
   "mimetype": "text/x-python",
   "name": "python",
   "nbconvert_exporter": "python",
   "pygments_lexer": "ipython3",
   "version": "3.10.6"
  },
  "toc": {
   "base_numbering": 1,
   "nav_menu": {},
   "number_sections": true,
   "sideBar": true,
   "skip_h1_title": false,
   "title_cell": "Table of Contents",
   "title_sidebar": "Contents",
   "toc_cell": false,
   "toc_position": {},
   "toc_section_display": true,
   "toc_window_display": false
  }
 },
 "nbformat": 4,
 "nbformat_minor": 5
}
