{
 "cells": [
  {
   "cell_type": "markdown",
   "id": "adeb1a79-3fb0-403a-a69d-cc5b484f4705",
   "metadata": {},
   "source": [
    "# Data Exploration\n"
   ]
  },
  {
   "cell_type": "code",
   "execution_count": null,
   "id": "394e9500-bb83-4944-aad4-b5595666f0e5",
   "metadata": {},
   "outputs": [],
   "source": [
    "import pandas as pd\n",
    "import numpy as np\n",
    "import matplotlib.pyplot as plt\n",
    "import unidecode\n",
    "import seaborn as sns\n"
   ]
  },
  {
   "cell_type": "markdown",
   "id": "ddb926d5-c881-470d-a4bb-13a241af79bc",
   "metadata": {},
   "source": [
    "## Load data and Initial Exploration\n"
   ]
  },
  {
   "cell_type": "code",
   "execution_count": null,
   "id": "7d0bcc6b",
   "metadata": {},
   "outputs": [],
   "source": [
    "from scripts.config import RAW_DATA_PATH\n"
   ]
  },
  {
   "cell_type": "markdown",
   "id": "fe2be6ba",
   "metadata": {},
   "source": [
    "### Accounts\n",
    "\n"
   ]
  },
  {
   "cell_type": "markdown",
   "id": "cb2711a3",
   "metadata": {},
   "source": [
    "The accounts table contains company-level information about potential or existing clients. Each row represents a company, including attributes such as sector, year of establishment, estimated annual revenue, number of employees, office location, and any parent company affiliation. This data provides demographic and firmographic context useful for understanding customer profiles and segmenting the market."
   ]
  },
  {
   "cell_type": "code",
   "execution_count": null,
   "id": "a63e3bb2-f8dc-440d-8a54-0b716eb6b938",
   "metadata": {
    "scrolled": true
   },
   "outputs": [
    {
     "data": {
      "text/html": [
       "<div>\n",
       "<style scoped>\n",
       "    .dataframe tbody tr th:only-of-type {\n",
       "        vertical-align: middle;\n",
       "    }\n",
       "\n",
       "    .dataframe tbody tr th {\n",
       "        vertical-align: top;\n",
       "    }\n",
       "\n",
       "    .dataframe thead th {\n",
       "        text-align: right;\n",
       "    }\n",
       "</style>\n",
       "<table border=\"1\" class=\"dataframe\">\n",
       "  <thead>\n",
       "    <tr style=\"text-align: right;\">\n",
       "      <th></th>\n",
       "      <th>account</th>\n",
       "      <th>sector</th>\n",
       "      <th>year_established</th>\n",
       "      <th>revenue</th>\n",
       "      <th>employees</th>\n",
       "      <th>office_location</th>\n",
       "      <th>subsidiary_of</th>\n",
       "    </tr>\n",
       "  </thead>\n",
       "  <tbody>\n",
       "    <tr>\n",
       "      <th>0</th>\n",
       "      <td>Acme Corporation</td>\n",
       "      <td>technolgy</td>\n",
       "      <td>1996</td>\n",
       "      <td>1100.04</td>\n",
       "      <td>2822</td>\n",
       "      <td>United States</td>\n",
       "      <td>NaN</td>\n",
       "    </tr>\n",
       "    <tr>\n",
       "      <th>1</th>\n",
       "      <td>Betasoloin</td>\n",
       "      <td>medical</td>\n",
       "      <td>1999</td>\n",
       "      <td>251.41</td>\n",
       "      <td>495</td>\n",
       "      <td>United States</td>\n",
       "      <td>NaN</td>\n",
       "    </tr>\n",
       "    <tr>\n",
       "      <th>2</th>\n",
       "      <td>Betatech</td>\n",
       "      <td>medical</td>\n",
       "      <td>1986</td>\n",
       "      <td>647.18</td>\n",
       "      <td>1185</td>\n",
       "      <td>Kenya</td>\n",
       "      <td>NaN</td>\n",
       "    </tr>\n",
       "    <tr>\n",
       "      <th>3</th>\n",
       "      <td>Bioholding</td>\n",
       "      <td>medical</td>\n",
       "      <td>2012</td>\n",
       "      <td>587.34</td>\n",
       "      <td>1356</td>\n",
       "      <td>Philipines</td>\n",
       "      <td>NaN</td>\n",
       "    </tr>\n",
       "    <tr>\n",
       "      <th>4</th>\n",
       "      <td>Bioplex</td>\n",
       "      <td>medical</td>\n",
       "      <td>1991</td>\n",
       "      <td>326.82</td>\n",
       "      <td>1016</td>\n",
       "      <td>United States</td>\n",
       "      <td>NaN</td>\n",
       "    </tr>\n",
       "  </tbody>\n",
       "</table>\n",
       "</div>"
      ],
      "text/plain": [
       "            account     sector  year_established  revenue  employees  \\\n",
       "0  Acme Corporation  technolgy              1996  1100.04       2822   \n",
       "1        Betasoloin    medical              1999   251.41        495   \n",
       "2          Betatech    medical              1986   647.18       1185   \n",
       "3        Bioholding    medical              2012   587.34       1356   \n",
       "4           Bioplex    medical              1991   326.82       1016   \n",
       "\n",
       "  office_location subsidiary_of  \n",
       "0   United States           NaN  \n",
       "1   United States           NaN  \n",
       "2           Kenya           NaN  \n",
       "3      Philipines           NaN  \n",
       "4   United States           NaN  "
      ]
     },
     "execution_count": 3,
     "metadata": {},
     "output_type": "execute_result"
    }
   ],
   "source": [
    "data_accounts = pd.read_csv(RAW_DATA_PATH + \"/accounts.csv\").copy()\n",
    "data_accounts.head()\n"
   ]
  },
  {
   "cell_type": "code",
   "execution_count": null,
   "id": "dfbd1687",
   "metadata": {
    "scrolled": false
   },
   "outputs": [
    {
     "name": "stdout",
     "output_type": "stream",
     "text": [
      "INFO\n",
      "<class 'pandas.core.frame.DataFrame'>\n",
      "RangeIndex: 85 entries, 0 to 84\n",
      "Data columns (total 7 columns):\n",
      " #   Column            Non-Null Count  Dtype  \n",
      "---  ------            --------------  -----  \n",
      " 0   account           85 non-null     object \n",
      " 1   sector            85 non-null     object \n",
      " 2   year_established  85 non-null     int64  \n",
      " 3   revenue           85 non-null     float64\n",
      " 4   employees         85 non-null     int64  \n",
      " 5   office_location   85 non-null     object \n",
      " 6   subsidiary_of     15 non-null     object \n",
      "dtypes: float64(1), int64(2), object(4)\n",
      "memory usage: 4.8+ KB\n"
     ]
    }
   ],
   "source": [
    "print(\"INFO\")\n",
    "data_accounts.info()\n"
   ]
  },
  {
   "cell_type": "code",
   "execution_count": null,
   "id": "4123464c",
   "metadata": {},
   "outputs": [
    {
     "name": "stdout",
     "output_type": "stream",
     "text": [
      "\n",
      "Missing Values\n"
     ]
    },
    {
     "data": {
      "text/plain": [
       "account              0\n",
       "sector               0\n",
       "year_established     0\n",
       "revenue              0\n",
       "employees            0\n",
       "office_location      0\n",
       "subsidiary_of       70\n",
       "dtype: int64"
      ]
     },
     "execution_count": 5,
     "metadata": {},
     "output_type": "execute_result"
    }
   ],
   "source": [
    "print(\"\\nMissing Values\")\n",
    "data_accounts.isna().sum()\n"
   ]
  },
  {
   "cell_type": "code",
   "execution_count": null,
   "id": "7c9b3327",
   "metadata": {},
   "outputs": [
    {
     "name": "stdout",
     "output_type": "stream",
     "text": [
      "\n",
      "Unique Values\n"
     ]
    },
    {
     "data": {
      "text/plain": [
       "account             85\n",
       "sector              10\n",
       "year_established    35\n",
       "revenue             85\n",
       "employees           85\n",
       "office_location     15\n",
       "subsidiary_of        7\n",
       "dtype: int64"
      ]
     },
     "execution_count": 6,
     "metadata": {},
     "output_type": "execute_result"
    }
   ],
   "source": [
    "print(\"\\nUnique Values\")\n",
    "data_accounts.nunique()\n"
   ]
  },
  {
   "cell_type": "markdown",
   "id": "401e797e",
   "metadata": {},
   "source": [
    "**Observations on data_accounts**\n",
    "\n",
    "    No critical missing values: only the subsidiary_of column has 70 missing values → this can be interpreted as \"not a subsidiary of another company.\"\n",
    "\n",
    "    Each account is unique → likely a primary identifier.\n",
    "\n",
    "    sector contains 10 distinct categories → a potentially useful categorical variable for segmentation.\n",
    "\n",
    "    revenue and employees appear to be continuous numerical variables, unique per company.\n",
    "\n",
    "    year_established has 35 unique values → could be grouped into ranges for age-related analysis.\n",
    "\n",
    "    office_location has 15 unique values → could be mapped by region or country if grouping is needed.\n",
    "\n",
    "    subsidiary_of has only 7 unique values → likely names of parent companies. This could be used to identify business groups.\n"
   ]
  },
  {
   "cell_type": "markdown",
   "id": "6aabaea0",
   "metadata": {},
   "source": [
    "### Data Dictionary"
   ]
  },
  {
   "cell_type": "markdown",
   "id": "865b7bd1",
   "metadata": {},
   "source": [
    "The data_dictionary table provides metadata for the entire dataset. It includes the name of each table, the fields within them, and a brief description of each field’s meaning or purpose. This reference is useful to understand the role of each variable and ensure consistent interpretation during data exploration, preprocessing, and modeling."
   ]
  },
  {
   "cell_type": "code",
   "execution_count": null,
   "id": "f921356e",
   "metadata": {},
   "outputs": [
    {
     "ename": "NameError",
     "evalue": "name 'DATA_PATH' is not defined",
     "output_type": "error",
     "traceback": [
      "\u001b[0;31m---------------------------------------------------------------------------\u001b[0m",
      "\u001b[0;31mNameError\u001b[0m                                 Traceback (most recent call last)",
      "Cell \u001b[0;32mIn[7], line 1\u001b[0m\n\u001b[0;32m----> 1\u001b[0m data_dictionary \u001b[38;5;241m=\u001b[39m pd\u001b[38;5;241m.\u001b[39mread_csv(\u001b[43mDATA_PATH\u001b[49m \u001b[38;5;241m+\u001b[39m \u001b[38;5;124m\"\u001b[39m\u001b[38;5;124mdata_dictionary.csv\u001b[39m\u001b[38;5;124m\"\u001b[39m)\u001b[38;5;241m.\u001b[39mcopy()\n\u001b[1;32m      2\u001b[0m data_dictionary\u001b[38;5;241m.\u001b[39mhead()\n",
      "\u001b[0;31mNameError\u001b[0m: name 'DATA_PATH' is not defined"
     ]
    }
   ],
   "source": [
    "data_dictionary = pd.read_csv(DATA_PATH + \"data_dictionary.csv\").copy()\n",
    "data_dictionary.head()\n"
   ]
  },
  {
   "cell_type": "code",
   "execution_count": null,
   "id": "02011f23",
   "metadata": {},
   "outputs": [],
   "source": [
    "print(\"INFO\")\n",
    "data_dictionary.info()\n"
   ]
  },
  {
   "cell_type": "code",
   "execution_count": null,
   "id": "bcbef066",
   "metadata": {},
   "outputs": [],
   "source": [
    "print(\"\\nMissing Values\")\n",
    "data_dictionary.isna().sum()\n"
   ]
  },
  {
   "cell_type": "code",
   "execution_count": null,
   "id": "cb5780f2",
   "metadata": {},
   "outputs": [],
   "source": [
    "print(\"\\nUnique Values\")\n",
    "data_dictionary.nunique()\n"
   ]
  },
  {
   "cell_type": "markdown",
   "id": "70232072",
   "metadata": {},
   "source": [
    "**Observations on data_dictionary**\n",
    "\n",
    "    No missing values → the table is complete.\n",
    "    Contains 21 rows, each describing a field in a table.\n",
    "    Table has 4 unique values → 4 documented tables.\n",
    "    Field has 18 unique values → total number of documented fields.\n",
    "    Description has 19 unique entries → some may be repeated or closely related.\n",
    "    This table is purely for reference, not used directly for modeling, but essential for:\n",
    "       - Understanding the meaning of each dataset column.\n",
    "       - Generating automatic documentation if needed.\n"
   ]
  },
  {
   "cell_type": "markdown",
   "id": "1a8a2285",
   "metadata": {},
   "source": [
    "### Products"
   ]
  },
  {
   "cell_type": "markdown",
   "id": "e3da770a",
   "metadata": {},
   "source": [
    "The products table contains information about the company’s product catalog. Each row represents a unique product, including its name, product series (e.g., GTX, MG), and the corresponding sales price. This data can be used to analyze pricing strategies, evaluate deal values, and link product types to sales performance."
   ]
  },
  {
   "cell_type": "code",
   "execution_count": null,
   "id": "02c9dd1f",
   "metadata": {},
   "outputs": [],
   "source": [
    "data_products = pd.read_csv(DATA_PATH + \"products.csv\").copy()\n",
    "data_products.head()\n"
   ]
  },
  {
   "cell_type": "code",
   "execution_count": null,
   "id": "c8ef37ec",
   "metadata": {},
   "outputs": [],
   "source": [
    "print(\"INFO\")\n",
    "data_products.info()\n"
   ]
  },
  {
   "cell_type": "code",
   "execution_count": null,
   "id": "36618ffd",
   "metadata": {},
   "outputs": [],
   "source": [
    "print(\"\\nMissing Values\")\n",
    "data_products.isna().sum()\n"
   ]
  },
  {
   "cell_type": "code",
   "execution_count": null,
   "id": "423944a7",
   "metadata": {},
   "outputs": [],
   "source": [
    "print(\"\\nUnique Values\")\n",
    "data_products.nunique()\n"
   ]
  },
  {
   "cell_type": "markdown",
   "id": "7b1562d1",
   "metadata": {},
   "source": [
    "**Observations on data_products**\n",
    "\n",
    "    No missing values → the table is clean.\n",
    "    Only 7 products in total → small and manageable dataset.\n",
    "    series has 3 categories (e.g., GTX, MG…) → likely represent product lines.\n",
    "    sales_price is numeric with 7 unique values → each product has a distinct price.\n",
    "    This table will be useful to join with the sales pipeline (sales_pipeline) to analyze:\n",
    "        -Which products are sold the most?\n",
    "        -Which series generate the highest revenue?\n",
    "        -Does price influence conversion rates?\n"
   ]
  },
  {
   "cell_type": "markdown",
   "id": "346e16d5",
   "metadata": {},
   "source": [
    "### Sales Pipeline"
   ]
  },
  {
   "cell_type": "markdown",
   "id": "316a58c4",
   "metadata": {},
   "source": [
    "The sales_pipeline table records individual sales opportunities from the company's CRM system. Each row represents a unique opportunity and includes details such as the sales agent, product involved, customer account, deal stage (e.g., Won, Lost), engagement and close dates, and the final deal value. This dataset is essential for analyzing sales performance, conversion timelines, and agent effectiveness."
   ]
  },
  {
   "cell_type": "code",
   "execution_count": null,
   "id": "2490a3a0",
   "metadata": {
    "scrolled": true
   },
   "outputs": [],
   "source": [
    "data_sales_pipeline = pd.read_csv(DATA_PATH + \"sales_pipeline.csv\").copy()\n",
    "data_sales_pipeline.head()\n"
   ]
  },
  {
   "cell_type": "code",
   "execution_count": null,
   "id": "8a16a814",
   "metadata": {},
   "outputs": [],
   "source": [
    "print(\"INFO\")\n",
    "data_sales_pipeline.info()\n"
   ]
  },
  {
   "cell_type": "code",
   "execution_count": null,
   "id": "c682b1a7",
   "metadata": {},
   "outputs": [],
   "source": [
    "print(\"\\nMissing Values\")\n",
    "data_sales_pipeline.isna().sum()\n"
   ]
  },
  {
   "cell_type": "code",
   "execution_count": null,
   "id": "ed3bea44",
   "metadata": {},
   "outputs": [],
   "source": [
    "print(\"\\nUnique Values\")\n",
    "data_sales_pipeline.nunique()\n"
   ]
  },
  {
   "cell_type": "markdown",
   "id": "7a6234c3",
   "metadata": {},
   "source": [
    "**Observations on data_sales_pipeline**\n",
    "\n",
    "    There are important missing values:\n",
    "        account: 1,425 missing → some opportunities may not be assigned to a specific account.\n",
    "        engage_date, close_date, close_value: around 2,000 missing values → may indicate deals still in progress or not yet closed.\n",
    "    Opportunity_id is unique per row → clear identifier for each sales opportunity.\n",
    "    Sales_agent has 30 unique values → could be used to analyze individual performance or grouped by manager (via a join with sales_team).\n",
    "    Product can be joined with data_products → useful for checking price, product line, and linking to outcomes.\n",
    "    Deal_stage has 4 unique values → critical categorical variable to model the sales process (e.g., Won, Lost, etc.).\n",
    "    Engage_date and close_date are still strings (object) and should be converted to datetime for time-based analysis:"
   ]
  },
  {
   "cell_type": "markdown",
   "id": "27b18a2a",
   "metadata": {},
   "source": [
    "### Sales Team"
   ]
  },
  {
   "cell_type": "markdown",
   "id": "9adcd51f",
   "metadata": {},
   "source": [
    "The sales_team table provides organizational information about the company’s sales agents. Each row includes a sales agent’s name, their direct manager, and the regional office they are assigned to. This data can be used to analyze team structures, compare performance across regions, and identify managerial influence on sales outcomes."
   ]
  },
  {
   "cell_type": "code",
   "execution_count": null,
   "id": "e93d7377",
   "metadata": {
    "scrolled": true
   },
   "outputs": [],
   "source": [
    "data_sales_team = pd.read_csv(DATA_PATH + \"sales_teams.csv\").copy()\n",
    "data_sales_team.head()\n"
   ]
  },
  {
   "cell_type": "code",
   "execution_count": null,
   "id": "455490c9",
   "metadata": {},
   "outputs": [],
   "source": [
    "print(\"INFO\")\n",
    "data_sales_team.info()\n"
   ]
  },
  {
   "cell_type": "code",
   "execution_count": null,
   "id": "908bbe06",
   "metadata": {},
   "outputs": [],
   "source": [
    "print(\"\\nMissing Values\")\n",
    "data_sales_team.isna().sum()\n"
   ]
  },
  {
   "cell_type": "code",
   "execution_count": null,
   "id": "7418d5e1",
   "metadata": {},
   "outputs": [],
   "source": [
    "print(\"\\nUnique Values\")\n",
    "data_sales_team.nunique()\n"
   ]
  },
  {
   "cell_type": "markdown",
   "id": "37b91933",
   "metadata": {},
   "source": [
    "**Observations on data_sales_team**\n",
    "\n",
    "    No missing values → perfectly clean table.\n",
    "    35 unique rows, one per sales_agent → matches the expected size of the sales team.\n",
    "    manager has only 6 unique values → clear hierarchical structure, ideal for performance analysis by leader.\n",
    "    regional_office has 3 unique values → enables comparisons across geographic regions.\n",
    "    This table will be useful to join with sales_pipeline via sales_agent in order to:\n",
    "        -Evaluate which manager or region closes more deals.\n",
    "        -Detect potential performance disparities between teams."
   ]
  },
  {
   "cell_type": "markdown",
   "id": "e119dd6e",
   "metadata": {},
   "source": [
    "## Dataset Overview Summary\n"
   ]
  },
  {
   "cell_type": "code",
   "execution_count": null,
   "id": "e5567c18",
   "metadata": {},
   "outputs": [],
   "source": [
    "def summarize_datasets(datasets_dict):\n",
    "    summary = []\n",
    "\n",
    "    for name, df in datasets_dict.items():\n",
    "        summary.append(\n",
    "            {\n",
    "                \"Dataset\": name,\n",
    "                \"Rows\": df.shape[0],\n",
    "                \"Columns\": df.shape[1],\n",
    "                \"Missing Values\": df.isna().sum().sum(),\n",
    "                \"Duplicated Rows\": df.duplicated().sum(),\n",
    "            }\n",
    "        )\n",
    "\n",
    "    return pd.DataFrame(summary)\n"
   ]
  },
  {
   "cell_type": "code",
   "execution_count": null,
   "id": "a3eba7f6",
   "metadata": {},
   "outputs": [],
   "source": [
    "datasets = {\n",
    "    \"Accounts\": data_accounts,\n",
    "    \"Data Disctionary\": data_dictionary,\n",
    "    \"Products\": data_products,\n",
    "    \"Sales Pipeline\": data_sales_pipeline,\n",
    "    \"Sales team\": data_sales_team,\n",
    "}\n",
    "\n",
    "summary_df = summarize_datasets(datasets)\n",
    "summary_df\n"
   ]
  },
  {
   "cell_type": "markdown",
   "id": "0d848f56",
   "metadata": {},
   "source": [
    "# Data Cleaning & Transformation\n"
   ]
  },
  {
   "cell_type": "code",
   "execution_count": null,
   "id": "69b3b954",
   "metadata": {},
   "outputs": [],
   "source": [
    "def clean_string_columns(df, exclude_columns=None):\n",
    "    \"\"\"\n",
    "    Clean string columns in a DataFrame:\n",
    "    - Strip whitespace\n",
    "    - Convert to lowercase\n",
    "    - Remove accents/special characters\n",
    "    - Skip columns in exclude_columns\n",
    "    \"\"\"\n",
    "    if exclude_columns is None:\n",
    "        exclude_columns = []\n",
    "\n",
    "    for col in df.select_dtypes(include=\"object\").columns:\n",
    "        if col not in exclude_columns:\n",
    "            df[col] = df[col].apply(\n",
    "                lambda x: (\n",
    "                    unidecode.unidecode(\n",
    "                        x.strip().lower()) if isinstance(x, str) else x\n",
    "                )\n",
    "            )\n",
    "\n",
    "    return df\n"
   ]
  },
  {
   "cell_type": "markdown",
   "id": "9054e69a",
   "metadata": {},
   "source": [
    "## Data Sales_pipeline\n"
   ]
  },
  {
   "cell_type": "code",
   "execution_count": null,
   "id": "ccec20de",
   "metadata": {},
   "outputs": [],
   "source": [
    "# Clean string columns in data_sales_pipeline, excluding the ID\n",
    "data_sales_pipeline = clean_string_columns(\n",
    "    data_sales_pipeline, exclude_columns=[\"opportunity_id\"]\n",
    ")\n"
   ]
  },
  {
   "cell_type": "markdown",
   "id": "1cba702a",
   "metadata": {},
   "source": [
    "###  Engage_Date & Close_date\n"
   ]
  },
  {
   "cell_type": "code",
   "execution_count": null,
   "id": "aabd6c93",
   "metadata": {},
   "outputs": [],
   "source": [
    "data_sales_pipeline[\"engage_date\"] = pd.to_datetime(\n",
    "    data_sales_pipeline[\"engage_date\"])\n",
    "data_sales_pipeline[\"close_date\"] = pd.to_datetime(\n",
    "    data_sales_pipeline[\"close_date\"])\n"
   ]
  },
  {
   "cell_type": "code",
   "execution_count": null,
   "id": "6423adbe",
   "metadata": {},
   "outputs": [],
   "source": [
    "data_sales_pipeline[[\"engage_date\", \"close_date\"]].info()\n"
   ]
  },
  {
   "cell_type": "code",
   "execution_count": null,
   "id": "37447ae3",
   "metadata": {},
   "outputs": [],
   "source": [
    "data_sales_pipeline[data_sales_pipeline[\"engage_date\"].isna()].head()\n"
   ]
  },
  {
   "cell_type": "code",
   "execution_count": null,
   "id": "0c76145a",
   "metadata": {},
   "outputs": [],
   "source": [
    "data_sales_pipeline[\"engage_date\"].isna().sum()\n"
   ]
  },
  {
   "cell_type": "code",
   "execution_count": null,
   "id": "3888d483",
   "metadata": {},
   "outputs": [],
   "source": [
    "data_sales_pipeline[\"close_date\"].isna().sum()\n"
   ]
  },
  {
   "cell_type": "code",
   "execution_count": null,
   "id": "acdc919c",
   "metadata": {},
   "outputs": [],
   "source": [
    "def classify_opportunity(row):\n",
    "    if pd.isna(row[\"engage_date\"]):\n",
    "        return \"initial\"\n",
    "    elif pd.isna(row[\"close_date\"]):\n",
    "        return \"in_progress\"\n",
    "    else:\n",
    "        return \"completed\"\n",
    "\n",
    "\n",
    "data_sales_pipeline[\"opportunity_status\"] = data_sales_pipeline.apply(\n",
    "    classify_opportunity, axis=1\n",
    ")\n",
    "data_sales_pipeline.head()\n"
   ]
  },
  {
   "cell_type": "code",
   "execution_count": null,
   "id": "0fb4402b",
   "metadata": {
    "scrolled": true
   },
   "outputs": [],
   "source": [
    "pd.crosstab(\n",
    "    data_sales_pipeline[\"deal_stage\"], data_sales_pipeline[\"opportunity_status\"]\n",
    ")\n"
   ]
  },
  {
   "cell_type": "code",
   "execution_count": null,
   "id": "a2c94ac0",
   "metadata": {},
   "outputs": [],
   "source": [
    "crosstab_df = pd.crosstab(\n",
    "    data_sales_pipeline[\"deal_stage\"], data_sales_pipeline[\"opportunity_status\"]\n",
    ")\n",
    "\n",
    "crosstab_df.plot(kind=\"bar\", stacked=True, figsize=(7, 5))\n",
    "plt.title(\"Deal Stage vs Opportunity Status\")\n",
    "plt.xlabel(\"Deal Stage\")\n",
    "plt.ylabel(\"Number of Opportunities\")\n",
    "plt.legend(title=\"Opportunity Status\")\n",
    "plt.tight_layout()\n",
    "plt.show()\n"
   ]
  },
  {
   "cell_type": "markdown",
   "id": "c3695f89",
   "metadata": {},
   "source": [
    "#### **Deal Stage vs. Opportunity Status – Discussion Notes**\n",
    "\n",
    "The crosstab above reveals a misalignment between the CRM-labeled `deal_stage` and the actual state of the opportunity based on dates.\n",
    "\n",
    "- `Prospecting` matches perfectly with `initial` (500 rows) → as expected.\n",
    "- `Won` and `Lost` align with `completed`, which makes sense because both imply a final outcome.\n",
    "- But `Engaging` is fully labeled as `in_progress`, and **none** are marked as `completed`, even though we would expect some of them to have been closed by now.\n",
    "\n",
    "#### **Implications**\n",
    "- There may be inconsistencies in how sales agents update `deal_stage`. It’s possible that some deals were closed but the stage was never updated from `Engaging` to `Won` or `Lost`.\n",
    "- Our `opportunity_status` column reflects the actual data available (based on `engage_date` and `close_date`), making it more reliable for modeling purposes.\n",
    "\n",
    "#### **Options for the team:**\n",
    "1. **Rely on `opportunity_status`** (date-based) for filtering and training the model, since it reflects actual data.\n",
    "2. Use `deal_stage` as an **additional feature** (not as a filter) to enrich the model, especially in the MVP version.\n",
    "3. **Create a combined or corrected status** field that integrates both sources (e.g., if `close_date` exists but `deal_stage` is still \"Engaging\", flag it as inconsistent).\n",
    "4. Flag and review rows where `deal_stage` seems outdated given the dates, as part of a data quality step.\n",
    "\n",
    "#### **Decision to make**\n",
    "We should agree as a team whether to:\n",
    "- Train models using only `opportunity_status == 'completed'`\n",
    "- Include `in_progress` or `initial` records for some models (like early prediction)\n",
    "- Consider fixing or cleaning `deal_stage` manually if time allows\n",
    "\n",
    "#### **Additional observation: close_date and close_value**\n",
    "\n",
    "It's worth noting that the number of missing values in `close_date` and `close_value` is exactly the same (2089 rows). This suggests a direct link: when a deal hasn't been closed (`close_date` is NaT), its value is also unknown (`close_value` is NaN).\n",
    "\n",
    "This further supports our classification logic:\n",
    "- If both dates are missing → the opportunity is likely still in the initial stage.\n",
    "- If `engage_date` exists but `close_date` and `close_value` are missing → the opportunity is in progress.\n",
    "- If both dates exist → the opportunity is completed, with a known value.\n",
    "\n",
    "This pattern reinforces the reliability of the `opportunity_status` column for modeling.\n"
   ]
  },
  {
   "cell_type": "markdown",
   "id": "7f9c5c2c",
   "metadata": {},
   "source": [
    "## Data Account\n"
   ]
  },
  {
   "cell_type": "code",
   "execution_count": null,
   "id": "2761f645",
   "metadata": {},
   "outputs": [],
   "source": [
    "data_accounts = clean_string_columns(data_accounts)\n"
   ]
  },
  {
   "cell_type": "code",
   "execution_count": null,
   "id": "0ba47139",
   "metadata": {},
   "outputs": [],
   "source": [
    "data_sales_pipeline[\"account\"].isna().sum()\n"
   ]
  },
  {
   "cell_type": "code",
   "execution_count": null,
   "id": "63040433",
   "metadata": {
    "scrolled": true
   },
   "outputs": [],
   "source": [
    "# Check what deal_stage those missing accounts belong to\n",
    "print(\"\\nDeal Stage distribution for missing 'account':\")\n",
    "data_sales_pipeline[data_sales_pipeline[\"account\"].isna()\n",
    "                    ][\"deal_stage\"].value_counts()\n"
   ]
  },
  {
   "cell_type": "code",
   "execution_count": null,
   "id": "a570eed3",
   "metadata": {
    "scrolled": true
   },
   "outputs": [],
   "source": [
    "# Check what opportunity_status those missing accounts belong to\n",
    "print(\"\\nOpportunity Status distribution for missing 'account':\")\n",
    "data_sales_pipeline[data_sales_pipeline[\"account\"].isna()][\n",
    "    \"opportunity_status\"\n",
    "].value_counts()\n"
   ]
  },
  {
   "cell_type": "code",
   "execution_count": null,
   "id": "1cee44bd",
   "metadata": {},
   "outputs": [],
   "source": [
    "data_sales_pipeline[\"has_account\"] = data_sales_pipeline[\"account\"].notna()\n"
   ]
  },
  {
   "cell_type": "code",
   "execution_count": null,
   "id": "585fe0c2",
   "metadata": {},
   "outputs": [],
   "source": [
    "data_sales_pipeline.head()\n"
   ]
  },
  {
   "cell_type": "code",
   "execution_count": null,
   "id": "bd2e145e",
   "metadata": {},
   "outputs": [],
   "source": [
    "pd.crosstab(\n",
    "    data_sales_pipeline[\"opportunity_status\"], data_sales_pipeline[\"has_account\"]\n",
    ")\n"
   ]
  },
  {
   "cell_type": "code",
   "execution_count": null,
   "id": "b2569577",
   "metadata": {},
   "outputs": [],
   "source": [
    "pd.crosstab(\n",
    "    data_sales_pipeline[\"opportunity_status\"], data_sales_pipeline[\"has_account\"]\n",
    ").plot(kind=\"bar\", stacked=True, figsize=(7, 5))\n",
    "plt.title(\"Has Account vs Opportunity Status\")\n",
    "plt.ylabel(\"Number of Opportunities\")\n",
    "plt.tight_layout()\n",
    "plt.show()\n"
   ]
  },
  {
   "cell_type": "markdown",
   "id": "b3762d07",
   "metadata": {},
   "source": [
    "#### **Observations and Options – Missing Account**\n",
    "A total of 1,425 opportunities are missing an associated account.\n",
    "All of them fall into early sales stages (Prospecting and Engaging) and are labeled as either initial or in_progress in opportunity_status.\n",
    "    *This means they do not affect completed sales, as all completed deals have an account assigned.\n",
    "\n",
    "**Implications:**\n",
    "\n",
    "These opportunities can be kept in the dataset if we want to build models or analyses involving early-stage predictions.\n",
    "If we plan to enrich the dataset by joining with data_accounts, we should be aware that these rows won't match.\n",
    "\n",
    "**Options for the team:**\n",
    "\n",
    "    -Keep them as-is, especially if early-stage modeling is relevant.\n",
    "    -Create a boolean column like has_account = True/False to capture this signal and use it as a feature.\n",
    "    -Filter them out temporarily using ~data_sales_pipeline['account'].isna() if we need full rows for joins or     feature engineering.\n",
    "    -Optionally, review them separately as a \"pre-qualification\" group that may require follow-up from the business side."
   ]
  },
  {
   "cell_type": "markdown",
   "id": "354f01c5",
   "metadata": {},
   "source": [
    "#### **Consistency Between Deal Stage and Opportunity Status**\n",
    "Interestingly, when we look at the 1,425 opportunities missing an account, we notice a perfect match between deal_stage and our custom opportunity_status:\n",
    "\n",
    "All rows with deal_stage == \"Engaging\" are labeled as in_progress.\n",
    "All rows with deal_stage == \"Prospecting\" are labeled as initial.\n",
    "\n",
    "This confirms the reliability of our opportunity_status column, especially for early-stage opportunities.\n",
    "It also suggests that, at least in these cases, the deal_stage field is consistent with the actual data (dates).\n",
    "\n",
    "However, we previously saw that this alignment breaks for some rows with Engaging that have a close_date, which are still labeled in_progress in deal_stage.\n",
    "\n",
    "This insight supports the idea of relying primarily on opportunity_status for modeling and using deal_stage as a secondary or supporting feature, while also flagging inconsistencies where needed."
   ]
  },
  {
   "cell_type": "markdown",
   "id": "3b2000f0",
   "metadata": {},
   "source": [
    "**Now that we have clarified how account availability aligns with opportunity progress, we can proceed to explore the sales_agent and team-related information to further enrich our modeling dataset**"
   ]
  },
  {
   "cell_type": "markdown",
   "id": "be2917cc",
   "metadata": {},
   "source": [
    "## Data Sales_team"
   ]
  },
  {
   "cell_type": "code",
   "execution_count": null,
   "id": "e007e856",
   "metadata": {},
   "outputs": [],
   "source": [
    "data_sales_team = clean_string_columns(data_sales_team)\n",
    "data_sales_team.head()\n"
   ]
  },
  {
   "cell_type": "code",
   "execution_count": null,
   "id": "a6c12c38",
   "metadata": {},
   "outputs": [],
   "source": [
    "data_sales_team.shape\n"
   ]
  },
  {
   "cell_type": "markdown",
   "id": "87562c24",
   "metadata": {},
   "source": [
    "### Merge data_sales_team with data_sales_pipeline"
   ]
  },
  {
   "cell_type": "code",
   "execution_count": null,
   "id": "5ad1de11",
   "metadata": {},
   "outputs": [],
   "source": [
    "data_sales_pipeline_and_team = data_sales_pipeline.merge(\n",
    "    data_sales_team, on=\"sales_agent\", how=\"left\"\n",
    ")\n",
    "data_sales_pipeline_and_team.head()\n"
   ]
  },
  {
   "cell_type": "code",
   "execution_count": null,
   "id": "4b3260e7",
   "metadata": {},
   "outputs": [],
   "source": [
    "data_sales_pipeline_and_team[[\"manager\", \"regional_office\"]].isna().sum()\n"
   ]
  },
  {
   "cell_type": "code",
   "execution_count": null,
   "id": "dc13e115",
   "metadata": {
    "scrolled": false
   },
   "outputs": [],
   "source": [
    "# Number of opportunities per manager\n",
    "data_sales_pipeline_and_team[\"manager\"].value_counts().plot(\n",
    "    kind=\"bar\", title=\"Opportunities per Manager\"\n",
    ")\n",
    "plt.xlabel(\"Manager\")\n",
    "plt.ylabel(\"Number of Opportunities\")\n",
    "plt.tight_layout()\n",
    "plt.show()\n",
    "\n",
    "# Number of opportunities per regional office\n",
    "data_sales_pipeline_and_team[\"regional_office\"].value_counts().plot(\n",
    "    kind=\"bar\", title=\"Opportunities per Regional Office\"\n",
    ")\n",
    "plt.xlabel(\"Regional Office\")\n",
    "plt.ylabel(\"Number of Opportunities\")\n",
    "plt.tight_layout()\n",
    "plt.show()\n"
   ]
  },
  {
   "cell_type": "markdown",
   "id": "d305830e",
   "metadata": {},
   "source": [
    "**Opportunities per Manager**\n",
    "\n",
    "Objective:\n",
    "Visualize how sales opportunities are distributed across managers.\n",
    "\n",
    "Key Observations:\n",
    "\n",
    "    -Some managers (e.g., Marxen, Sewald) manage significantly more opportunities.\n",
    "    -The distribution is uneven — potential indicator of team size, performance, or assignment strategy.\n",
    "\n",
    "Why it matters:\n",
    "\n",
    "    -Use as a baseline to assess performance and fairness.\n",
    "    -Could inspire engineered features:\n",
    "        manager_workload\n",
    "        opportunities_per_manager\n",
    "\n",
    "**Opportunities per Regional Office**\n",
    "\n",
    "Objective:\n",
    "Understand workload distribution across geographic regions.\n",
    "\n",
    "Key Observations:\n",
    "\n",
    "    -The Central office dominates in opportunity volume, followed by West and South.\n",
    "    -Imbalance may reflect client density, office size, or market strategy.\n",
    "Why it matters:\n",
    "\n",
    "    -Consider feature engineering:\n",
    "        regional_opportunity_density\n",
    "    -Use this to control for geographic bias in performance metrics or modeling.\n"
   ]
  },
  {
   "cell_type": "code",
   "execution_count": null,
   "id": "9f3d30a1",
   "metadata": {},
   "outputs": [],
   "source": [
    "data_sales_pipeline_and_team[\"sales_agent\"].value_counts().plot(\n",
    "    kind=\"bar\", figsize=(12, 5), title=\"Opportunities per Sales Agent\"\n",
    ")\n",
    "plt.xlabel(\"Sales Agent\")\n",
    "plt.ylabel(\"Number of Opportunities\")\n",
    "plt.tight_layout()\n",
    "plt.show()\n"
   ]
  },
  {
   "cell_type": "markdown",
   "id": "26dc68eb",
   "metadata": {},
   "source": [
    "**Target Distribution – Sales Agent**\n",
    "\n",
    "Objective:\n",
    "\n",
    "Assess how evenly opportunities are distributed among individual sales agents.\n",
    "\n",
    "Key Observations:\n",
    "\n",
    "    -Strong class imbalance:\n",
    "        Schlecht handles the most, Farren the least.\n",
    "    -Skewed distribution could bias predictive models.\n",
    "\n",
    "Implications for Modeling:\n",
    "\n",
    "    -Classification models might learn to favor high-frequency agents.\n",
    "    -Consider techniques to handle imbalance:\n",
    "        → Use class_weight='balanced' (e.g., in logistic regression or random forest)\n",
    "        → Try oversampling (e.g., SMOTE) or undersampling\n",
    "        → Group rare agents if they’re not essential as individual classes\n",
    "        \n",
    "\n"
   ]
  },
  {
   "cell_type": "code",
   "execution_count": null,
   "id": "7090974e",
   "metadata": {},
   "outputs": [],
   "source": [
    "pivot_table = pd.crosstab(\n",
    "    data_sales_pipeline_and_team[\"sales_agent\"], data_sales_pipeline_and_team[\"product\"]\n",
    ")\n",
    "\n",
    "plt.figure(figsize=(14, 10))\n",
    "sns.heatmap(pivot_table, cmap=\"Blues\", linewidths=0.5)\n",
    "plt.title(\"Sales Agent Activity by Product\")\n",
    "plt.xlabel(\"Product\")\n",
    "plt.ylabel(\"Sales Agent\")\n",
    "plt.tight_layout()\n",
    "plt.show()\n"
   ]
  },
  {
   "cell_type": "markdown",
   "id": "e87544b2",
   "metadata": {},
   "source": [
    "**Sales Agent Activity by Product – Heatmap**\n",
    "\n",
    "Objective:\n",
    "\n",
    "Explore specialization patterns between agents and products.\n",
    "\n",
    "Key Observations:\n",
    "\n",
    "    -Product is a strong predictor of the assigned sales agent.\n",
    "    -Clear specialization patterns:\n",
    "        → Darcel Schlecht dominates in gtx plus pro\n",
    "        → Versie Hillebrand in mg special\n",
    "    -Some agents are product specialists, while others handle a wider variety of products.\n",
    "    -Products like gtx basic are managed by many agents → less informative.\n",
    "    -Products with focused handling are more predictive and may strengthen the model.\n",
    "\n",
    "Implications for Modeling:\n",
    "\n",
    "    -Product should be included as a key feature in the MVP classification model.\n",
    "    -Consider engineering a new feature like is_specialist to improve predictions.\n",
    "    -This analysis may also guide segmentation or territory assignment strategies.\n"
   ]
  },
  {
   "cell_type": "markdown",
   "id": "14e45b46",
   "metadata": {},
   "source": [
    "## Data Products"
   ]
  },
  {
   "cell_type": "code",
   "execution_count": null,
   "id": "57c838fd",
   "metadata": {},
   "outputs": [],
   "source": [
    "data_products = clean_string_columns(data_products)\n",
    "data_products.head()\n"
   ]
  },
  {
   "cell_type": "code",
   "execution_count": null,
   "id": "53bf52c7",
   "metadata": {},
   "outputs": [],
   "source": [
    "# Merge product info into sales_pipeline\n",
    "pipeline_with_products = data_sales_pipeline_and_team.merge(\n",
    "    data_products, on=\"product\", how=\"left\"\n",
    ")\n",
    "pipeline_with_products.head()\n"
   ]
  },
  {
   "cell_type": "markdown",
   "id": "d492ee29",
   "metadata": {},
   "source": [
    "### Which products are sold the most?"
   ]
  },
  {
   "cell_type": "code",
   "execution_count": null,
   "id": "dac280ee",
   "metadata": {},
   "outputs": [],
   "source": [
    "pipeline_with_products[\"product\"].value_counts().plot(\n",
    "    kind=\"bar\", title=\"Most Sold Products\", figsize=(10, 5)\n",
    ")\n",
    "plt.xlabel(\"Product\")\n",
    "plt.ylabel(\"Number of Deals\")\n",
    "plt.tight_layout()\n",
    "plt.show()\n"
   ]
  },
  {
   "cell_type": "markdown",
   "id": "8123ecfe",
   "metadata": {},
   "source": [
    "**Most Sold Products**\n",
    "\n",
    "Objective:\n",
    "\n",
    "Identify which products are the most frequently sold in the sales pipeline.\n",
    "\n",
    "Key Observations:\n",
    "\n",
    "    -GTX Basic is the top-selling product by volume, followed by MG Special and GTX Pro.\n",
    "    -GTK 500 has the lowest number of sales — potentially a niche or underperforming product.\n",
    "    -The product portfolio shows a mix of balanced and highly skewed sales volumes.\n",
    "Implications for Modeling:\n",
    "\n",
    "    -High-volume products may dominate predictions if the model isn’t properly regularized or balanced.\n",
    "    -Including product as a categorical feature is likely useful, but we should monitor for overfitting to the top products.\n",
    "    -Could consider grouping low-frequency products or applying smoothing techniques.\n",
    "    -Product popularity may correlate with sales agent specialization (already seen in the heatmap), supporting feature interactions."
   ]
  },
  {
   "cell_type": "markdown",
   "id": "5236a3e4",
   "metadata": {},
   "source": [
    "### Which series generate the highest revenue?"
   ]
  },
  {
   "cell_type": "code",
   "execution_count": null,
   "id": "80bd4d18",
   "metadata": {},
   "outputs": [],
   "source": [
    "revenue_by_series = (\n",
    "    pipeline_with_products.groupby(\"series\")[\"close_value\"]\n",
    "    .sum()\n",
    "    .sort_values(ascending=False)\n",
    ")\n",
    "\n",
    "revenue_by_series.plot(\n",
    "    kind=\"bar\", title=\"Total Revenue by Product Series\", figsize=(8, 4)\n",
    ")\n",
    "plt.xlabel(\"Product Series\")\n",
    "plt.ylabel(\"Total Revenue\")\n",
    "plt.tight_layout()\n",
    "plt.show()\n"
   ]
  },
  {
   "cell_type": "markdown",
   "id": "edb04209",
   "metadata": {},
   "source": [
    "**Total Revenue by Product Series**\n",
    "Objective:\n",
    "\n",
    "Understand which product series generate the most revenue overall.\n",
    "\n",
    "Key Observations:\n",
    "\n",
    "    -The GTX series generates the highest total revenue by far.\n",
    "    -MG follows with substantial revenue but notably lower than GTX.\n",
    "    -GTK contributes very little to overall revenue.\n",
    "Implications for Modeling:\n",
    "\n",
    "    -Series could be a useful input feature, especially in scenarios where budget or revenue prediction is relevant (e.g., your multi-output version).\n",
    "    -High-revenue series may correlate with priority assignments to specific agents or regions.\n",
    "    -Could be used to engineer a feature like high_value_series.\n",
    "    -Beware of overfitting if model learns to associate success only with GTX."
   ]
  },
  {
   "cell_type": "markdown",
   "id": "9beee847",
   "metadata": {},
   "source": [
    "## Data Dictionary"
   ]
  },
  {
   "cell_type": "code",
   "execution_count": null,
   "id": "6ea8eb3f",
   "metadata": {},
   "outputs": [],
   "source": [
    "data_dictionary = clean_string_columns(data_dictionary)\n"
   ]
  },
  {
   "cell_type": "code",
   "execution_count": null,
   "id": "2e71ec0a",
   "metadata": {},
   "outputs": [],
   "source": [
    "for i, row in data_dictionary.iterrows():\n",
    "    print(f\"- **{row['Field']}** ({row['Table']}): {row['Description']}\")\n"
   ]
  },
  {
   "cell_type": "markdown",
   "id": "13b6547d",
   "metadata": {},
   "source": [
    "# Decision Science Insights"
   ]
  },
  {
   "cell_type": "markdown",
   "id": "f144c7c0",
   "metadata": {},
   "source": [
    "**Business Question:**  \n",
    "Which sales agent generates the highest average revenue per product?\n",
    "\n",
    "**Goal:**  \n",
    "Identify patterns between specific products and sales agents that consistently lead to higher closed revenue. This helps guide the Machine Learning model by reinforcing the importance of agent-product pairing.\n",
    "\n",
    "**KPIs:**\n",
    "- Mean closed revenue per product/series/manager\n",
    "- Agent specialization\n",
    "- Distribution of revenue across segments"
   ]
  },
  {
   "cell_type": "markdown",
   "id": "ebc817b7",
   "metadata": {},
   "source": [
    "## Agent-Product Revenue Patterns"
   ]
  },
  {
   "cell_type": "markdown",
   "id": "8aa076c5",
   "metadata": {},
   "source": [
    "### Which agent generates the most revenue per product?"
   ]
  },
  {
   "cell_type": "code",
   "execution_count": null,
   "id": "970a85e5",
   "metadata": {},
   "outputs": [],
   "source": [
    "# Mean close_value by product and sales agent\n",
    "product_agent_revenue = (\n",
    "    pipeline_with_products.groupby([\"product\", \"sales_agent\"])[\"close_value\"]\n",
    "    .mean()\n",
    "    .unstack()\n",
    "    .fillna(0)\n",
    ")\n",
    "product_agent_revenue = product_agent_revenue.sort_index()\n",
    "product_agent_revenue\n"
   ]
  },
  {
   "cell_type": "code",
   "execution_count": null,
   "id": "2d3b9222",
   "metadata": {},
   "outputs": [],
   "source": [
    "# heatmap\n",
    "plt.figure(figsize=(14, 8))\n",
    "sns.heatmap(product_agent_revenue, cmap=\"YlGnBu\", linewidths=0.5)\n",
    "plt.title(\"Average Revenue by Product and Sales Agent\")\n",
    "plt.xlabel(\"Sales Agent\")\n",
    "plt.ylabel(\"Product\")\n",
    "plt.tight_layout()\n",
    "plt.show()\n"
   ]
  },
  {
   "cell_type": "markdown",
   "id": "fd0640be",
   "metadata": {},
   "source": [
    "**Conclusion**\n",
    "From the heatmap and pivot table, we observed that a few agents such as Red Clapper and Moses Frase consistently achieve higher average revenue for certain products like `gtk 500` and `gtx plus basic`. Some products are highly dependent on specific agents, suggesting specialization or stronger client-agent fit. These patterns highlight the potential value of agent-product matching in optimizing revenue.\n"
   ]
  },
  {
   "cell_type": "markdown",
   "id": "f6b644d6",
   "metadata": {},
   "source": [
    "###  Which agent generates the most revenue per product?"
   ]
  },
  {
   "cell_type": "code",
   "execution_count": null,
   "id": "16edb4cd",
   "metadata": {
    "scrolled": true
   },
   "outputs": [],
   "source": [
    "product_agent_revenue.idxmax()\n"
   ]
  },
  {
   "cell_type": "markdown",
   "id": "edf8f6d8",
   "metadata": {},
   "source": [
    "### Are some products consistently underperforming regardless of agent?"
   ]
  },
  {
   "cell_type": "code",
   "execution_count": null,
   "id": "2da0a0f9",
   "metadata": {},
   "outputs": [],
   "source": [
    "# Mean revenue per product across all agents\n",
    "avg_revenue_per_product = product_agent_revenue.mean(axis=1).sort_values()\n",
    "\n",
    "# Show lowest performing products\n",
    "avg_revenue_per_product.head(5)\n"
   ]
  },
  {
   "cell_type": "markdown",
   "id": "21b7662a",
   "metadata": {},
   "source": [
    "### Which products are sold by only a few agents?\n",
    "\n",
    "\n"
   ]
  },
  {
   "cell_type": "code",
   "execution_count": null,
   "id": "34bdefc6",
   "metadata": {},
   "outputs": [],
   "source": [
    "# Count how many agents generated revenue > 0 for each product\n",
    "agent_count_per_product = (product_agent_revenue > 0).sum(axis=1).sort_values()\n",
    "\n",
    "# Show products that were sold by the fewest agents\n",
    "agent_count_per_product.head(5)\n"
   ]
  },
  {
   "cell_type": "markdown",
   "id": "2c7ed52c",
   "metadata": {},
   "source": [
    "###  Do some agents specialize in specific products?"
   ]
  },
  {
   "cell_type": "code",
   "execution_count": null,
   "id": "08aea8fb",
   "metadata": {},
   "outputs": [],
   "source": [
    "# Count how many products each agent has sold (i.e., revenue > 0)\n",
    "product_count_per_agent = (product_agent_revenue > 0).sum(axis=0).sort_values()\n",
    "\n",
    "# Show agents with the narrowest product range\n",
    "product_count_per_agent.head(5)\n"
   ]
  },
  {
   "cell_type": "markdown",
   "id": "deee7257",
   "metadata": {},
   "source": [
    "### New feature: agent_product_strength"
   ]
  },
  {
   "cell_type": "code",
   "execution_count": null,
   "id": "2a0a5132",
   "metadata": {},
   "outputs": [],
   "source": [
    "# Create a mapping dictionary from the pivot table\n",
    "agent_product_strength = product_agent_revenue.stack()\n",
    "\n",
    "# Convert to a lookup dictionary\n",
    "agent_product_dict = agent_product_strength.to_dict()\n",
    "\n",
    "# Create the new feature in the original DataFrame\n",
    "pipeline_with_products[\"agent_product_strength\"] = pipeline_with_products.apply(\n",
    "    lambda row: agent_product_dict.get((row[\"product\"], row[\"sales_agent\"]), 0), axis=1\n",
    ")\n",
    "pipeline_with_products.head(1)\n"
   ]
  },
  {
   "cell_type": "markdown",
   "id": "1605e6dd",
   "metadata": {},
   "source": [
    "### Revenue patterns by **series**"
   ]
  },
  {
   "cell_type": "code",
   "execution_count": null,
   "id": "6a178612",
   "metadata": {
    "scrolled": true
   },
   "outputs": [],
   "source": [
    "# Mean close_value by series and sales agent\n",
    "series_agent_revenue = (\n",
    "    pipeline_with_products.groupby([\"series\", \"sales_agent\"])[\"close_value\"]\n",
    "    .mean()\n",
    "    .unstack()\n",
    "    .fillna(0)\n",
    ")\n",
    "series_agent_revenue = series_agent_revenue.sort_index()\n",
    "series_agent_revenue.head(1)\n"
   ]
  },
  {
   "cell_type": "code",
   "execution_count": null,
   "id": "e8a38e53",
   "metadata": {},
   "outputs": [],
   "source": [
    "plt.figure(figsize=(14, 8))\n",
    "sns.heatmap(series_agent_revenue, cmap=\"Greens\", linewidths=0.5)\n",
    "plt.title(\"Average Revenue by Series and Sales Agent\")\n",
    "plt.xlabel(\"Sales Agent\")\n",
    "plt.ylabel(\"Series\")\n",
    "plt.tight_layout()\n",
    "plt.show()\n"
   ]
  },
  {
   "cell_type": "markdown",
   "id": "debc9675",
   "metadata": {},
   "source": [
    "**Conclusion**\n",
    "From the heatmap, we observe that a few sales agents (notably Elease Gluck, Markita Hansen, and Rosalina Dieter) generate significantly higher average revenue for the gtk series. Meanwhile, the gtx and mg series show more evenly distributed average revenue across agents, with less pronounced peaks.\n",
    "This suggests that gtk deals are highly dependent on specific agents, while other series are handled more broadly. These patterns highlight the importance of matching gtk opportunities to high-performing agents."
   ]
  },
  {
   "cell_type": "markdown",
   "id": "feaded7e",
   "metadata": {},
   "source": [
    "### New feature Series_agent_revenue"
   ]
  },
  {
   "cell_type": "code",
   "execution_count": null,
   "id": "53464842",
   "metadata": {},
   "outputs": [],
   "source": [
    "series_agent_revenue = (\n",
    "    pipeline_with_products.groupby([\"series\", \"sales_agent\"])[\"close_value\"]\n",
    "    .mean()\n",
    "    .unstack()\n",
    "    .fillna(0)\n",
    ")\n",
    "\n",
    "\n",
    "series_agent_strength = series_agent_revenue.stack().to_dict()\n",
    "\n",
    "\n",
    "pipeline_with_products[\"series_agent_strength\"] = pipeline_with_products.apply(\n",
    "    lambda row: series_agent_strength.get(\n",
    "        (row[\"series\"], row[\"sales_agent\"]), 0),\n",
    "    axis=1,\n",
    ")\n",
    "pipeline_with_products.head(3)\n"
   ]
  },
  {
   "cell_type": "markdown",
   "id": "4728cb09",
   "metadata": {},
   "source": [
    "### Revenue patterns by **manager** "
   ]
  },
  {
   "cell_type": "code",
   "execution_count": null,
   "id": "add0f916",
   "metadata": {},
   "outputs": [],
   "source": [
    "# Mean close_value by manager and sales agent\n",
    "manager_agent_revenue = (\n",
    "    pipeline_with_products.groupby([\"manager\", \"sales_agent\"])[\"close_value\"]\n",
    "    .mean()\n",
    "    .unstack()\n",
    "    .fillna(0)\n",
    ")\n",
    "manager_agent_revenue = manager_agent_revenue.sort_index()\n",
    "manager_agent_revenue.head(1)\n"
   ]
  },
  {
   "cell_type": "code",
   "execution_count": null,
   "id": "8f99c3b6",
   "metadata": {},
   "outputs": [],
   "source": [
    "plt.figure(figsize=(14, 8))\n",
    "sns.heatmap(manager_agent_revenue, cmap=\"Purples\", linewidths=0.5)\n",
    "plt.title(\"Average Revenue by Manager and Sales Agent\")\n",
    "plt.xlabel(\"Sales Agent\")\n",
    "plt.ylabel(\"Manager\")\n",
    "plt.tight_layout()\n",
    "plt.show()\n"
   ]
  },
  {
   "cell_type": "markdown",
   "id": "ab051185",
   "metadata": {},
   "source": [
    "**Conclusion**\n",
    "The heatmap reveals clear performance patterns by manager. For example, agents under Celia Rouche, Melvin Marxen, and Rocco Neubert consistently achieve higher average revenue across multiple agents. Meanwhile, some managers (like Summer Sewald or Dustin Brinkmann) show more moderate or inconsistent performance.\n",
    "\n",
    "These differences suggest that managerial leadership may influence agent success, either by training quality, resource allocation, or deal assignment. Incorporating manager-related features may improve predictions of revenue or success rate.\n",
    "\n"
   ]
  },
  {
   "cell_type": "markdown",
   "id": "ea7c7257",
   "metadata": {},
   "source": [
    "### New feature: `manager_agent_strength`"
   ]
  },
  {
   "cell_type": "code",
   "execution_count": null,
   "id": "ca41ef32",
   "metadata": {
    "scrolled": true
   },
   "outputs": [],
   "source": [
    "manager_agent_revenue = (\n",
    "    pipeline_with_products.groupby([\"manager\", \"sales_agent\"])[\"close_value\"]\n",
    "    .mean()\n",
    "    .unstack()\n",
    "    .fillna(0)\n",
    ")\n",
    "\n",
    "\n",
    "manager_agent_strength = manager_agent_revenue.stack().to_dict()\n",
    "\n",
    "\n",
    "pipeline_with_products[\"manager_agent_strength\"] = pipeline_with_products.apply(\n",
    "    lambda row: manager_agent_strength.get(\n",
    "        (row[\"manager\"], row[\"sales_agent\"]), 0),\n",
    "    axis=1,\n",
    ")\n",
    "pipeline_with_products.head(3)\n"
   ]
  },
  {
   "cell_type": "markdown",
   "id": "5745a977",
   "metadata": {},
   "source": [
    "### Final Conclusion – Agent-Product Insights\n",
    "The analysis reveals that certain sales agents consistently generate higher average revenue for specific products, product series, and under certain managers. This specialization is evident in patterns such as:\n",
    "\n",
    "Strong agent-product pairs (e.g. Reed Clapper with gtx plus basic).\n",
    "Product lines like gtk 500 that depend heavily on a few top-performing agents.\n",
    "Sales agents with narrow but high-performing product ranges.\n",
    "Managers who consistently lead high-performing agents.\n",
    "These insights justify the creation of engineered features like agent_product_strength, series_agent_strength, and manager_agent_strength, which quantify historical success at different levels.\n",
    "\n",
    "These features will serve as predictors in our Machine Learning models, helping to match future opportunities with the most effective sales agent and increase the likelihood of winning deals and maximizing revenue.\n",
    "\n"
   ]
  },
  {
   "cell_type": "markdown",
   "id": "dcd667f6",
   "metadata": {},
   "source": [
    "## Deal Segmentation Strategy"
   ]
  },
  {
   "cell_type": "markdown",
   "id": "07d3fee8",
   "metadata": {},
   "source": [
    "**Business Question:**  \n",
    "Should we assign large deals to high-performing agents and smaller ones to less busy agents?\n",
    "\n",
    "**Goal:**  \n",
    "Identify whether deal size affects closing performance depending on the agent, and define data-driven thresholds to better allocate opportunities.\n",
    "\n",
    "**KPIs:**\n",
    "- Close rate by deal size and agent performance  \n",
    "- Revenue distribution across deal segments  \n",
    "- Agent specialization by deal size"
   ]
  },
  {
   "cell_type": "markdown",
   "id": "9d4dab78",
   "metadata": {},
   "source": [
    "### Create a Deal Size Category Feature"
   ]
  },
  {
   "cell_type": "code",
   "execution_count": null,
   "id": "53102927",
   "metadata": {},
   "outputs": [],
   "source": [
    "positive_values = pipeline_with_products[pipeline_with_products[\"close_value\"] > 0][\n",
    "    \"close_value\"\n",
    "]\n",
    "\n",
    "q33 = positive_values.quantile(0.33)\n",
    "q66 = positive_values.quantile(0.66)\n",
    "\n",
    "bins = [0, q33, q66, positive_values.max()]\n",
    "labels = [\"small\", \"medium\", \"large\"]\n",
    "\n",
    "pipeline_with_products[\"deal_size\"] = pd.cut(\n",
    "    pipeline_with_products[\"close_value\"], bins=bins, labels=labels, include_lowest=True\n",
    ")\n",
    "\n",
    "\n",
    "pipeline_with_products[\"deal_size\"] = pipeline_with_products[\n",
    "    \"deal_size\"\n",
    "].cat.add_categories(\"zero\")\n",
    "pipeline_with_products[\"deal_size\"] = pipeline_with_products[\"deal_size\"].fillna(\n",
    "    \"zero\")\n",
    "\n",
    "\n",
    "pipeline_with_products[\"deal_size\"].value_counts()\n"
   ]
  },
  {
   "cell_type": "code",
   "execution_count": null,
   "id": "7f10411c",
   "metadata": {},
   "outputs": [],
   "source": [
    "agent_deal_revenue = (\n",
    "    pipeline_with_products.groupby([\"sales_agent\", \"deal_size\"])[\"close_value\"]\n",
    "    .mean()\n",
    "    .unstack()\n",
    "    .fillna(0)\n",
    ")\n",
    "\n",
    "display(agent_deal_revenue.sort_index())\n",
    "\n",
    "plt.figure(figsize=(12, 8))\n",
    "sns.heatmap(agent_deal_revenue, cmap=\"YlOrBr\",\n",
    "            linewidths=0.5, annot=True, fmt=\".0f\")\n",
    "plt.title(\"Average Revenue per Deal Size and Sales Agent\")\n",
    "plt.xlabel(\"Deal Size\")\n",
    "plt.ylabel(\"Sales Agent\")\n",
    "plt.tight_layout()\n",
    "plt.show()\n"
   ]
  },
  {
   "cell_type": "markdown",
   "id": "c7764247",
   "metadata": {},
   "source": [
    "**Conclusion – Agent Performance per Deal Size**\n",
    "\n",
    "•Top performers in large deals:\n",
    "\n",
    "    Elease Gluck and Rosalina Dieter stand out with average revenues exceeding €11,000 and €12,000 respectively in the large deal segment, suggesting a strong specialization in high-value opportunities.\n",
    "    Markita Hansen and Niesha Huffines also show solid performance in this segment, exceeding €5,300 and €6,300 on average.\n",
    "    \n",
    "•Versatile agents:\n",
    "\n",
    "    Reed Clapper, Garret Kinder, Marty Freudenburg, and Rosie Papadopoulos maintain consistently high revenue across all deal sizes, positioning them as adaptable and well-rounded performers.\n",
    "    \n",
    "•Untapped potential in small deals:\n",
    "\n",
    "    Agents like Kami Bicknell, Daniell Hammack, and Jonathan Berthelot show lower performance levels, which could indicate a better fit for lower-value opportunities or a need for further training."
   ]
  },
  {
   "cell_type": "markdown",
   "id": "6443c19c",
   "metadata": {},
   "source": [
    "### Create the agent_deal_size_strength Feature"
   ]
  },
  {
   "cell_type": "code",
   "execution_count": null,
   "id": "1df6f60c",
   "metadata": {},
   "outputs": [],
   "source": [
    "agent_deal_strength = (\n",
    "    pipeline_with_products.groupby([\"sales_agent\", \"deal_size\"])[\"close_value\"]\n",
    "    .mean()\n",
    "    .unstack()\n",
    "    .fillna(0)\n",
    ")\n",
    "\n",
    "agent_deal_strength_dict = agent_deal_strength.stack().to_dict()\n",
    "\n",
    "pipeline_with_products[\"agent_deal_size_strength\"] = pipeline_with_products.apply(\n",
    "    lambda row: agent_deal_strength_dict.get(\n",
    "        (row[\"sales_agent\"], row[\"deal_size\"]), 0),\n",
    "    axis=1,\n",
    ")\n"
   ]
  },
  {
   "cell_type": "code",
   "execution_count": null,
   "id": "b7676957",
   "metadata": {},
   "outputs": [],
   "source": [
    "plt.figure(figsize=(7, 5))\n",
    "sns.histplot(\n",
    "    pipeline_with_products[\"agent_deal_size_strength\"], bins=30, kde=True)\n",
    "plt.title(\"Distribution of Agent Deal Size Strength\")\n",
    "plt.xlabel(\"Agent Deal Size Strength (Avg Revenue)\")\n",
    "plt.ylabel(\"Frequency\")\n",
    "plt.tight_layout()\n",
    "plt.show()\n"
   ]
  },
  {
   "cell_type": "code",
   "execution_count": null,
   "id": "52b91ce7",
   "metadata": {},
   "outputs": [],
   "source": [
    "sns.boxplot(x=\"deal_size\", y=\"agent_deal_size_strength\",\n",
    "            data=pipeline_with_products)\n"
   ]
  },
  {
   "cell_type": "markdown",
   "id": "044fbe24",
   "metadata": {},
   "source": [
    "**Final Conclusion: Deal Segmentation Strategy**\n",
    "\n",
    "Interpretation:\n",
    "\n",
    "The feature agent_deal_size_strength reveals clear performance patterns across different deal sizes. Most agents show modest average revenues, but a few—such as Elease Gluck and Rosalina Dieter—stand out significantly in large deals, with average revenues exceeding €12,000. This creates a strongly right-skewed distribution, indicating a high concentration of lower values and a long tail of top performers.\n",
    "\n",
    "Boxplots by deal size confirm that performance scales with deal value, but also highlight the presence of strong outliers in the 'large' segment. These agents might represent highly specialized profiles suited for high-stakes opportunities.\n",
    "\n",
    "Modeling Implications:\n",
    "\n",
    "•agent_deal_size_strength is a powerful compound feature, encoding both agent identity and deal characteristics.\n",
    "\n",
    "•Due to its skewed distribution, consider applying log transformation or robust scaling to normalize the input for models sensitive to variance.\n",
    "\n",
    "•Outliers should be carefully assessed: if they reflect real performance, they are valuable signals; otherwise, consider capping or imputing extreme values.\n",
    "\n",
    "•This feature could play a crucial role in optimizing agent-deal matching within your ML model, especially in combination with deal_size and product."
   ]
  },
  {
   "cell_type": "markdown",
   "id": "279caab1",
   "metadata": {},
   "source": [
    "### Agent Close Rate per Segment"
   ]
  },
  {
   "cell_type": "code",
   "execution_count": null,
   "id": "61693f5d",
   "metadata": {},
   "outputs": [],
   "source": [
    "valid_deals = pipeline_with_products[\n",
    "    pipeline_with_products[\"opportunity_status\"].isin([\"completed\", \"lost\"])\n",
    "]\n",
    "\n",
    "valid_deals[\"won\"] = (valid_deals[\"opportunity_status\"]\n",
    "                      == \"completed\").astype(int)\n",
    "\n",
    "close_rate = (\n",
    "    valid_deals.groupby([\"sales_agent\", \"deal_size\"])[\n",
    "        \"won\"].mean().unstack().fillna(0)\n",
    ")\n"
   ]
  },
  {
   "cell_type": "code",
   "execution_count": null,
   "id": "871b03e8",
   "metadata": {},
   "outputs": [],
   "source": [
    "plt.figure(figsize=(14, 8))\n",
    "sns.heatmap(close_rate, annot=True, fmt=\".2f\", cmap=\"Blues\")\n",
    "plt.title(\"Close Rate by Deal Size and Sales Agent\")\n",
    "plt.xlabel(\"Deal Size\")\n",
    "plt.ylabel(\"Sales Agent\")\n",
    "plt.show()\n"
   ]
  },
  {
   "cell_type": "code",
   "execution_count": null,
   "id": "d59278cd",
   "metadata": {},
   "outputs": [],
   "source": [
    "close_rate_long = close_rate.reset_index().melt(\n",
    "    id_vars=\"sales_agent\", var_name=\"deal_size\", value_name=\"close_rate\"\n",
    ")\n",
    "\n",
    "plt.figure(figsize=(16, 6))\n",
    "sns.barplot(data=close_rate_long, x=\"sales_agent\",\n",
    "            y=\"close_rate\", hue=\"deal_size\")\n",
    "plt.xticks(rotation=90)\n",
    "plt.title(\"Agent Close Rate by Deal Size\")\n",
    "plt.ylabel(\"Close Rate\")\n",
    "plt.xlabel(\"Sales Agent\")\n",
    "plt.tight_layout()\n",
    "plt.show()\n"
   ]
  },
  {
   "cell_type": "markdown",
   "id": "af2b7cfe",
   "metadata": {},
   "source": [
    "Despite our intention to compare deal close rates across deal sizes and sales agents, the data reveals a uniform 100% close rate for all agents in valid deals. This lack of variability suggests either a limitation in the dataset (e.g., absence of failed opportunities) or overly simplified sales dynamics. As such, this metric does not provide meaningful segmentation for our decision science framework or ML model guidance."
   ]
  },
  {
   "cell_type": "markdown",
   "id": "9e58c03b",
   "metadata": {},
   "source": [
    "**Deal Size Segment Analysis – Summary & Insights**\n",
    "\n",
    "**Segment Definition**\n",
    "\n",
    "We successfully created a new feature, deal_size, by segmenting deals into four quantile-based categories: small, medium, large, and zero, based on the close_value amount. This variable captures the economic weight of each opportunity and enables performance benchmarking.\n",
    "\n",
    "**Revenue Patterns by Agent and Deal Size**\n",
    "\n",
    "Our analysis revealed clear differences in revenue performance across agents and deal sizes:\n",
    "\n",
    "•Top performers in large deals:\n",
    "\n",
    "    Elease Gluck and Rosalina Dieter stood out with average revenues above €12,000 and €11,000 respectively in the large segment, indicating strong specialization in high-value opportunities.\n",
    "Markita Hansen and Niesha Huffines also showed solid performance, with averages over €6,300 and €5,300 respectively.\n",
    "\n",
    "•Versatile performers:\n",
    "    Agents like Reed Clapper, Garret Kinder, Marty Freudenburg, and Rosie Papadopoulos maintained high and stable performance across all deal sizes, suggesting adaptability to a wide range of client profiles.\n",
    "\n",
    "•Underperformance in small deals:\n",
    "\n",
    "    Agents such as Kami Bicknell, Daniell Hammack, or Jonathan Berthelot reported lower revenues in the small segment, potentially signaling a weaker fit with low-value opportunities or the need for additional training/coaching.\n",
    "\n",
    "**Feature Distribution & Insights**\n",
    "\n",
    "The new variable agent_deal_size_strength—representing the average revenue by agent per deal size—showed a right-skewed distribution with clear outliers in the large segment.\n",
    "This confirms its high potential as a discriminative feature, especially for matching clients with agents who excel in specific deal types.\n",
    "\n",
    "**Close Rate Limitation**\n",
    "Our attempt to analyze the close_rate by deal size and sales agent returned 100% success rates across all segments. This uniformity is likely due to a dataset limitation (e.g., missing or incomplete lost opportunities), and renders the metric non-informative for this analysis."
   ]
  },
  {
   "cell_type": "code",
   "execution_count": null,
   "id": "5e4d9a03",
   "metadata": {},
   "outputs": [],
   "source": []
  }
 ],
 "metadata": {
  "kernelspec": {
   "display_name": "aisrm-env",
   "language": "python",
   "name": "python3"
  },
  "language_info": {
   "codemirror_mode": {
    "name": "ipython",
    "version": 3
   },
   "file_extension": ".py",
   "mimetype": "text/x-python",
   "name": "python",
   "nbconvert_exporter": "python",
   "pygments_lexer": "ipython3",
   "version": "3.10.6"
  },
  "toc": {
   "base_numbering": 1,
   "nav_menu": {},
   "number_sections": true,
   "sideBar": true,
   "skip_h1_title": false,
   "title_cell": "Table of Contents",
   "title_sidebar": "Contents",
   "toc_cell": false,
   "toc_position": {},
   "toc_section_display": true,
   "toc_window_display": false
  }
 },
 "nbformat": 4,
 "nbformat_minor": 5
}
