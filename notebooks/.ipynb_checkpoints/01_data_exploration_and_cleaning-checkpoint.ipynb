{
 "cells": [
  {
   "cell_type": "markdown",
   "id": "adeb1a79-3fb0-403a-a69d-cc5b484f4705",
   "metadata": {},
   "source": [
    "# Data Exploration\n"
   ]
  },
  {
   "cell_type": "code",
   "execution_count": 2,
   "id": "394e9500-bb83-4944-aad4-b5595666f0e5",
   "metadata": {},
   "outputs": [],
   "source": [
    "import pandas as pd\n",
    "import numpy as np"
   ]
  },
  {
   "cell_type": "markdown",
   "id": "ddb926d5-c881-470d-a4bb-13a241af79bc",
   "metadata": {},
   "source": [
    "## Load data and Initial Exploration\n"
   ]
  },
  {
   "cell_type": "markdown",
   "id": "fe2be6ba",
   "metadata": {},
   "source": [
    "### Accounts\n",
    "\n"
   ]
  },
  {
   "cell_type": "markdown",
   "id": "cb2711a3",
   "metadata": {},
   "source": [
    "The accounts table contains company-level information about potential or existing clients. Each row represents a company, including attributes such as sector, year of establishment, estimated annual revenue, number of employees, office location, and any parent company affiliation. This data provides demographic and firmographic context useful for understanding customer profiles and segmenting the market."
   ]
  },
  {
   "cell_type": "code",
   "execution_count": 3,
   "id": "a63e3bb2-f8dc-440d-8a54-0b716eb6b938",
   "metadata": {
    "scrolled": true
   },
   "outputs": [
    {
     "data": {
      "text/html": [
       "<div>\n",
       "<style scoped>\n",
       "    .dataframe tbody tr th:only-of-type {\n",
       "        vertical-align: middle;\n",
       "    }\n",
       "\n",
       "    .dataframe tbody tr th {\n",
       "        vertical-align: top;\n",
       "    }\n",
       "\n",
       "    .dataframe thead th {\n",
       "        text-align: right;\n",
       "    }\n",
       "</style>\n",
       "<table border=\"1\" class=\"dataframe\">\n",
       "  <thead>\n",
       "    <tr style=\"text-align: right;\">\n",
       "      <th></th>\n",
       "      <th>account</th>\n",
       "      <th>sector</th>\n",
       "      <th>year_established</th>\n",
       "      <th>revenue</th>\n",
       "      <th>employees</th>\n",
       "      <th>office_location</th>\n",
       "      <th>subsidiary_of</th>\n",
       "    </tr>\n",
       "  </thead>\n",
       "  <tbody>\n",
       "    <tr>\n",
       "      <th>0</th>\n",
       "      <td>Acme Corporation</td>\n",
       "      <td>technolgy</td>\n",
       "      <td>1996</td>\n",
       "      <td>1100.04</td>\n",
       "      <td>2822</td>\n",
       "      <td>United States</td>\n",
       "      <td>NaN</td>\n",
       "    </tr>\n",
       "    <tr>\n",
       "      <th>1</th>\n",
       "      <td>Betasoloin</td>\n",
       "      <td>medical</td>\n",
       "      <td>1999</td>\n",
       "      <td>251.41</td>\n",
       "      <td>495</td>\n",
       "      <td>United States</td>\n",
       "      <td>NaN</td>\n",
       "    </tr>\n",
       "    <tr>\n",
       "      <th>2</th>\n",
       "      <td>Betatech</td>\n",
       "      <td>medical</td>\n",
       "      <td>1986</td>\n",
       "      <td>647.18</td>\n",
       "      <td>1185</td>\n",
       "      <td>Kenya</td>\n",
       "      <td>NaN</td>\n",
       "    </tr>\n",
       "    <tr>\n",
       "      <th>3</th>\n",
       "      <td>Bioholding</td>\n",
       "      <td>medical</td>\n",
       "      <td>2012</td>\n",
       "      <td>587.34</td>\n",
       "      <td>1356</td>\n",
       "      <td>Philipines</td>\n",
       "      <td>NaN</td>\n",
       "    </tr>\n",
       "    <tr>\n",
       "      <th>4</th>\n",
       "      <td>Bioplex</td>\n",
       "      <td>medical</td>\n",
       "      <td>1991</td>\n",
       "      <td>326.82</td>\n",
       "      <td>1016</td>\n",
       "      <td>United States</td>\n",
       "      <td>NaN</td>\n",
       "    </tr>\n",
       "  </tbody>\n",
       "</table>\n",
       "</div>"
      ],
      "text/plain": [
       "            account     sector  year_established  revenue  employees  \\\n",
       "0  Acme Corporation  technolgy              1996  1100.04       2822   \n",
       "1        Betasoloin    medical              1999   251.41        495   \n",
       "2          Betatech    medical              1986   647.18       1185   \n",
       "3        Bioholding    medical              2012   587.34       1356   \n",
       "4           Bioplex    medical              1991   326.82       1016   \n",
       "\n",
       "  office_location subsidiary_of  \n",
       "0   United States           NaN  \n",
       "1   United States           NaN  \n",
       "2           Kenya           NaN  \n",
       "3      Philipines           NaN  \n",
       "4   United States           NaN  "
      ]
     },
     "execution_count": 3,
     "metadata": {},
     "output_type": "execute_result"
    }
   ],
   "source": [
    "data_accounts = pd.read_csv('/Users/anadetorresjurado/code/MatthieuScarset/aisrm/raw_data/accounts.csv').copy()\n",
    "data_accounts.head()"
   ]
  },
  {
   "cell_type": "code",
   "execution_count": 23,
   "id": "dfbd1687",
   "metadata": {
    "scrolled": false
   },
   "outputs": [
    {
     "name": "stdout",
     "output_type": "stream",
     "text": [
      "INFO\n",
      "<class 'pandas.core.frame.DataFrame'>\n",
      "RangeIndex: 85 entries, 0 to 84\n",
      "Data columns (total 7 columns):\n",
      " #   Column            Non-Null Count  Dtype  \n",
      "---  ------            --------------  -----  \n",
      " 0   account           85 non-null     object \n",
      " 1   sector            85 non-null     object \n",
      " 2   year_established  85 non-null     int64  \n",
      " 3   revenue           85 non-null     float64\n",
      " 4   employees         85 non-null     int64  \n",
      " 5   office_location   85 non-null     object \n",
      " 6   subsidiary_of     15 non-null     object \n",
      "dtypes: float64(1), int64(2), object(4)\n",
      "memory usage: 4.8+ KB\n"
     ]
    }
   ],
   "source": [
    "print('INFO')\n",
    "data_accounts.info()"
   ]
  },
  {
   "cell_type": "code",
   "execution_count": 26,
   "id": "4123464c",
   "metadata": {},
   "outputs": [
    {
     "name": "stdout",
     "output_type": "stream",
     "text": [
      "\n",
      "Missing Values\n"
     ]
    },
    {
     "data": {
      "text/plain": [
       "account              0\n",
       "sector               0\n",
       "year_established     0\n",
       "revenue              0\n",
       "employees            0\n",
       "office_location      0\n",
       "subsidiary_of       70\n",
       "dtype: int64"
      ]
     },
     "execution_count": 26,
     "metadata": {},
     "output_type": "execute_result"
    }
   ],
   "source": [
    "print('\\nMissing Values')\n",
    "data_accounts.isna().sum()"
   ]
  },
  {
   "cell_type": "code",
   "execution_count": 28,
   "id": "7c9b3327",
   "metadata": {},
   "outputs": [
    {
     "name": "stdout",
     "output_type": "stream",
     "text": [
      "\n",
      "Unique Values\n"
     ]
    },
    {
     "data": {
      "text/plain": [
       "account             85\n",
       "sector              10\n",
       "year_established    35\n",
       "revenue             85\n",
       "employees           85\n",
       "office_location     15\n",
       "subsidiary_of        7\n",
       "dtype: int64"
      ]
     },
     "execution_count": 28,
     "metadata": {},
     "output_type": "execute_result"
    }
   ],
   "source": [
    "print('\\nUnique Values')\n",
    "data_accounts.nunique()"
   ]
  },
  {
   "cell_type": "markdown",
   "id": "401e797e",
   "metadata": {},
   "source": [
    "**🔍 Observaciones sobre `data_accounts`**\n",
    "\n",
    "- ✅ **No hay valores nulos críticos**: solo la columna `subsidiary_of` tiene 70 valores nulos → puede interpretarse como “no es subsidiaria de otra empresa”.\n",
    "- 🆔 **Cada `account` es único** → posible identificador primario.\n",
    "- 🧠 **`sector` tiene 10 categorías distintas** → potencial variable categórica útil para segmentación.\n",
    "- 📈 **`revenue` y `employees`** parecen ser variables numéricas continuas y únicas por empresa.\n",
    "- 🕰️ `year_established` tiene 35 valores únicos → podrías agruparlo en rangos si hicieras análisis por antigüedad.\n",
    "- 🌍 `office_location` tiene 15 valores únicos → se podría mapear por región o país si se desea agrupar.\n",
    "- 🧬 `subsidiary_of` tiene solo 7 valores únicos → probablemente nombres de empresas matrices. Podría usarse para identificar grupos empresariales.\n"
   ]
  },
  {
   "cell_type": "markdown",
   "id": "6aabaea0",
   "metadata": {},
   "source": [
    "### Data Dictionary"
   ]
  },
  {
   "cell_type": "markdown",
   "id": "865b7bd1",
   "metadata": {},
   "source": [
    "The data_dictionary table provides metadata for the entire dataset. It includes the name of each table, the fields within them, and a brief description of each field’s meaning or purpose. This reference is useful to understand the role of each variable and ensure consistent interpretation during data exploration, preprocessing, and modeling."
   ]
  },
  {
   "cell_type": "code",
   "execution_count": 6,
   "id": "f921356e",
   "metadata": {},
   "outputs": [
    {
     "data": {
      "text/html": [
       "<div>\n",
       "<style scoped>\n",
       "    .dataframe tbody tr th:only-of-type {\n",
       "        vertical-align: middle;\n",
       "    }\n",
       "\n",
       "    .dataframe tbody tr th {\n",
       "        vertical-align: top;\n",
       "    }\n",
       "\n",
       "    .dataframe thead th {\n",
       "        text-align: right;\n",
       "    }\n",
       "</style>\n",
       "<table border=\"1\" class=\"dataframe\">\n",
       "  <thead>\n",
       "    <tr style=\"text-align: right;\">\n",
       "      <th></th>\n",
       "      <th>Table</th>\n",
       "      <th>Field</th>\n",
       "      <th>Description</th>\n",
       "    </tr>\n",
       "  </thead>\n",
       "  <tbody>\n",
       "    <tr>\n",
       "      <th>0</th>\n",
       "      <td>accounts</td>\n",
       "      <td>account</td>\n",
       "      <td>Company name</td>\n",
       "    </tr>\n",
       "    <tr>\n",
       "      <th>1</th>\n",
       "      <td>accounts</td>\n",
       "      <td>sector</td>\n",
       "      <td>Industry</td>\n",
       "    </tr>\n",
       "    <tr>\n",
       "      <th>2</th>\n",
       "      <td>accounts</td>\n",
       "      <td>year_established</td>\n",
       "      <td>Year Established</td>\n",
       "    </tr>\n",
       "    <tr>\n",
       "      <th>3</th>\n",
       "      <td>accounts</td>\n",
       "      <td>revenue</td>\n",
       "      <td>Annual revenue (in millions of USD)</td>\n",
       "    </tr>\n",
       "    <tr>\n",
       "      <th>4</th>\n",
       "      <td>accounts</td>\n",
       "      <td>employees</td>\n",
       "      <td>Number of employees</td>\n",
       "    </tr>\n",
       "  </tbody>\n",
       "</table>\n",
       "</div>"
      ],
      "text/plain": [
       "      Table             Field                          Description\n",
       "0  accounts           account                         Company name\n",
       "1  accounts            sector                             Industry\n",
       "2  accounts  year_established                     Year Established\n",
       "3  accounts           revenue  Annual revenue (in millions of USD)\n",
       "4  accounts         employees                  Number of employees"
      ]
     },
     "execution_count": 6,
     "metadata": {},
     "output_type": "execute_result"
    }
   ],
   "source": [
    "data_dictionary = pd.read_csv('/Users/anadetorresjurado/code/MatthieuScarset/aisrm/raw_data/data_dictionary.csv').copy()\n",
    "data_dictionary.head()"
   ]
  },
  {
   "cell_type": "code",
   "execution_count": 29,
   "id": "02011f23",
   "metadata": {},
   "outputs": [
    {
     "name": "stdout",
     "output_type": "stream",
     "text": [
      "INFO\n",
      "<class 'pandas.core.frame.DataFrame'>\n",
      "RangeIndex: 21 entries, 0 to 20\n",
      "Data columns (total 3 columns):\n",
      " #   Column       Non-Null Count  Dtype \n",
      "---  ------       --------------  ----- \n",
      " 0   Table        21 non-null     object\n",
      " 1   Field        21 non-null     object\n",
      " 2   Description  21 non-null     object\n",
      "dtypes: object(3)\n",
      "memory usage: 632.0+ bytes\n"
     ]
    }
   ],
   "source": [
    "print('INFO')\n",
    "data_dictionary.info()"
   ]
  },
  {
   "cell_type": "code",
   "execution_count": 30,
   "id": "bcbef066",
   "metadata": {},
   "outputs": [
    {
     "name": "stdout",
     "output_type": "stream",
     "text": [
      "\n",
      "Missing Values\n"
     ]
    },
    {
     "data": {
      "text/plain": [
       "Table          0\n",
       "Field          0\n",
       "Description    0\n",
       "dtype: int64"
      ]
     },
     "execution_count": 30,
     "metadata": {},
     "output_type": "execute_result"
    }
   ],
   "source": [
    "print('\\nMissing Values')\n",
    "data_dictionary.isna().sum()"
   ]
  },
  {
   "cell_type": "code",
   "execution_count": 31,
   "id": "cb5780f2",
   "metadata": {},
   "outputs": [
    {
     "name": "stdout",
     "output_type": "stream",
     "text": [
      "\n",
      "Unique Values\n"
     ]
    },
    {
     "data": {
      "text/plain": [
       "Table           4\n",
       "Field          18\n",
       "Description    19\n",
       "dtype: int64"
      ]
     },
     "execution_count": 31,
     "metadata": {},
     "output_type": "execute_result"
    }
   ],
   "source": [
    "print('\\nUnique Values')\n",
    "data_dictionary.nunique()"
   ]
  },
  {
   "cell_type": "markdown",
   "id": "70232072",
   "metadata": {},
   "source": [
    " **🔍 Observaciones sobre `data_dictionary`**\n",
    "\n",
    "- ✅ No hay valores nulos → la tabla está completa.\n",
    "- 📄 Contiene 21 filas, cada una describiendo un campo de una tabla.\n",
    "- 📊 `Table` tiene 4 valores únicos → hay 4 tablas documentadas.\n",
    "- 🏷️ `Field` tiene 18 valores únicos → es el número total de campos documentados.\n",
    "- 📘 `Description` tiene 19 descripciones únicas → algunas pueden repetirse o estar muy relacionadas.\n",
    "- 🧭 Esta tabla es puramente de referencia, no se usa para modelar directamente, pero es clave para:\n",
    "  - Entender cada columna del dataset.\n",
    "  - Generar documentación automática si fuera necesario.\n"
   ]
  },
  {
   "cell_type": "markdown",
   "id": "1a8a2285",
   "metadata": {},
   "source": [
    "### Products"
   ]
  },
  {
   "cell_type": "markdown",
   "id": "e3da770a",
   "metadata": {},
   "source": [
    "The products table contains information about the company’s product catalog. Each row represents a unique product, including its name, product series (e.g., GTX, MG), and the corresponding sales price. This data can be used to analyze pricing strategies, evaluate deal values, and link product types to sales performance."
   ]
  },
  {
   "cell_type": "code",
   "execution_count": 7,
   "id": "02c9dd1f",
   "metadata": {},
   "outputs": [
    {
     "data": {
      "text/html": [
       "<div>\n",
       "<style scoped>\n",
       "    .dataframe tbody tr th:only-of-type {\n",
       "        vertical-align: middle;\n",
       "    }\n",
       "\n",
       "    .dataframe tbody tr th {\n",
       "        vertical-align: top;\n",
       "    }\n",
       "\n",
       "    .dataframe thead th {\n",
       "        text-align: right;\n",
       "    }\n",
       "</style>\n",
       "<table border=\"1\" class=\"dataframe\">\n",
       "  <thead>\n",
       "    <tr style=\"text-align: right;\">\n",
       "      <th></th>\n",
       "      <th>product</th>\n",
       "      <th>series</th>\n",
       "      <th>sales_price</th>\n",
       "    </tr>\n",
       "  </thead>\n",
       "  <tbody>\n",
       "    <tr>\n",
       "      <th>0</th>\n",
       "      <td>GTX Basic</td>\n",
       "      <td>GTX</td>\n",
       "      <td>550</td>\n",
       "    </tr>\n",
       "    <tr>\n",
       "      <th>1</th>\n",
       "      <td>GTX Pro</td>\n",
       "      <td>GTX</td>\n",
       "      <td>4821</td>\n",
       "    </tr>\n",
       "    <tr>\n",
       "      <th>2</th>\n",
       "      <td>MG Special</td>\n",
       "      <td>MG</td>\n",
       "      <td>55</td>\n",
       "    </tr>\n",
       "    <tr>\n",
       "      <th>3</th>\n",
       "      <td>MG Advanced</td>\n",
       "      <td>MG</td>\n",
       "      <td>3393</td>\n",
       "    </tr>\n",
       "    <tr>\n",
       "      <th>4</th>\n",
       "      <td>GTX Plus Pro</td>\n",
       "      <td>GTX</td>\n",
       "      <td>5482</td>\n",
       "    </tr>\n",
       "  </tbody>\n",
       "</table>\n",
       "</div>"
      ],
      "text/plain": [
       "        product series  sales_price\n",
       "0     GTX Basic    GTX          550\n",
       "1       GTX Pro    GTX         4821\n",
       "2    MG Special     MG           55\n",
       "3   MG Advanced     MG         3393\n",
       "4  GTX Plus Pro    GTX         5482"
      ]
     },
     "execution_count": 7,
     "metadata": {},
     "output_type": "execute_result"
    }
   ],
   "source": [
    "data_products = pd.read_csv('/Users/anadetorresjurado/code/MatthieuScarset/aisrm/raw_data/products.csv').copy()\n",
    "data_products.head()"
   ]
  },
  {
   "cell_type": "code",
   "execution_count": 35,
   "id": "c8ef37ec",
   "metadata": {},
   "outputs": [
    {
     "name": "stdout",
     "output_type": "stream",
     "text": [
      "INFO\n",
      "<class 'pandas.core.frame.DataFrame'>\n",
      "RangeIndex: 7 entries, 0 to 6\n",
      "Data columns (total 3 columns):\n",
      " #   Column       Non-Null Count  Dtype \n",
      "---  ------       --------------  ----- \n",
      " 0   product      7 non-null      object\n",
      " 1   series       7 non-null      object\n",
      " 2   sales_price  7 non-null      int64 \n",
      "dtypes: int64(1), object(2)\n",
      "memory usage: 296.0+ bytes\n"
     ]
    }
   ],
   "source": [
    "print('INFO')\n",
    "data_products.info()"
   ]
  },
  {
   "cell_type": "code",
   "execution_count": 38,
   "id": "36618ffd",
   "metadata": {},
   "outputs": [
    {
     "name": "stdout",
     "output_type": "stream",
     "text": [
      "\n",
      "Missing Values\n"
     ]
    },
    {
     "data": {
      "text/plain": [
       "product        0\n",
       "series         0\n",
       "sales_price    0\n",
       "dtype: int64"
      ]
     },
     "execution_count": 38,
     "metadata": {},
     "output_type": "execute_result"
    }
   ],
   "source": [
    "print('\\nMissing Values')\n",
    "data_products.isna().sum()"
   ]
  },
  {
   "cell_type": "code",
   "execution_count": 32,
   "id": "423944a7",
   "metadata": {},
   "outputs": [
    {
     "name": "stdout",
     "output_type": "stream",
     "text": [
      "\n",
      "Unique Values\n"
     ]
    },
    {
     "data": {
      "text/plain": [
       "product        7\n",
       "series         3\n",
       "sales_price    7\n",
       "dtype: int64"
      ]
     },
     "execution_count": 32,
     "metadata": {},
     "output_type": "execute_result"
    }
   ],
   "source": [
    "print('\\nUnique Values')\n",
    "data_products.nunique()"
   ]
  },
  {
   "cell_type": "markdown",
   "id": "7b1562d1",
   "metadata": {},
   "source": [
    "**🔍 Observaciones sobre `data_products`**\n",
    "\n",
    "- ✅ No hay valores nulos → la tabla está limpia.\n",
    "- 🧪 Solo 7 productos en total → conjunto pequeño pero manejable.\n",
    "- 🧬 `series` tiene 3 categorías (por ejemplo, GTX, MG…) → podrían representar líneas de producto.\n",
    "- 💰 `sales_price` es numérico y tiene 7 valores únicos → cada producto tiene un precio distinto.\n",
    "- 🔗 Esta tabla será útil para unir con el pipeline de ventas (`sales_pipeline`) y analizar:\n",
    "  - ¿Qué productos se venden más?\n",
    "  - ¿Qué series tienen más ingresos?\n",
    "  - ¿El precio afecta la tasa de conversión?\n"
   ]
  },
  {
   "cell_type": "markdown",
   "id": "346e16d5",
   "metadata": {},
   "source": [
    "### Sales Pipeline"
   ]
  },
  {
   "cell_type": "markdown",
   "id": "316a58c4",
   "metadata": {},
   "source": [
    "The sales_pipeline table records individual sales opportunities from the company's CRM system. Each row represents a unique opportunity and includes details such as the sales agent, product involved, customer account, deal stage (e.g., Won, Lost), engagement and close dates, and the final deal value. This dataset is essential for analyzing sales performance, conversion timelines, and agent effectiveness."
   ]
  },
  {
   "cell_type": "code",
   "execution_count": 10,
   "id": "2490a3a0",
   "metadata": {
    "scrolled": true
   },
   "outputs": [
    {
     "data": {
      "text/html": [
       "<div>\n",
       "<style scoped>\n",
       "    .dataframe tbody tr th:only-of-type {\n",
       "        vertical-align: middle;\n",
       "    }\n",
       "\n",
       "    .dataframe tbody tr th {\n",
       "        vertical-align: top;\n",
       "    }\n",
       "\n",
       "    .dataframe thead th {\n",
       "        text-align: right;\n",
       "    }\n",
       "</style>\n",
       "<table border=\"1\" class=\"dataframe\">\n",
       "  <thead>\n",
       "    <tr style=\"text-align: right;\">\n",
       "      <th></th>\n",
       "      <th>opportunity_id</th>\n",
       "      <th>sales_agent</th>\n",
       "      <th>product</th>\n",
       "      <th>account</th>\n",
       "      <th>deal_stage</th>\n",
       "      <th>engage_date</th>\n",
       "      <th>close_date</th>\n",
       "      <th>close_value</th>\n",
       "    </tr>\n",
       "  </thead>\n",
       "  <tbody>\n",
       "    <tr>\n",
       "      <th>0</th>\n",
       "      <td>1C1I7A6R</td>\n",
       "      <td>Moses Frase</td>\n",
       "      <td>GTX Plus Basic</td>\n",
       "      <td>Cancity</td>\n",
       "      <td>Won</td>\n",
       "      <td>2016-10-20</td>\n",
       "      <td>2017-03-01</td>\n",
       "      <td>1054.0</td>\n",
       "    </tr>\n",
       "    <tr>\n",
       "      <th>1</th>\n",
       "      <td>Z063OYW0</td>\n",
       "      <td>Darcel Schlecht</td>\n",
       "      <td>GTXPro</td>\n",
       "      <td>Isdom</td>\n",
       "      <td>Won</td>\n",
       "      <td>2016-10-25</td>\n",
       "      <td>2017-03-11</td>\n",
       "      <td>4514.0</td>\n",
       "    </tr>\n",
       "    <tr>\n",
       "      <th>2</th>\n",
       "      <td>EC4QE1BX</td>\n",
       "      <td>Darcel Schlecht</td>\n",
       "      <td>MG Special</td>\n",
       "      <td>Cancity</td>\n",
       "      <td>Won</td>\n",
       "      <td>2016-10-25</td>\n",
       "      <td>2017-03-07</td>\n",
       "      <td>50.0</td>\n",
       "    </tr>\n",
       "    <tr>\n",
       "      <th>3</th>\n",
       "      <td>MV1LWRNH</td>\n",
       "      <td>Moses Frase</td>\n",
       "      <td>GTX Basic</td>\n",
       "      <td>Codehow</td>\n",
       "      <td>Won</td>\n",
       "      <td>2016-10-25</td>\n",
       "      <td>2017-03-09</td>\n",
       "      <td>588.0</td>\n",
       "    </tr>\n",
       "    <tr>\n",
       "      <th>4</th>\n",
       "      <td>PE84CX4O</td>\n",
       "      <td>Zane Levy</td>\n",
       "      <td>GTX Basic</td>\n",
       "      <td>Hatfan</td>\n",
       "      <td>Won</td>\n",
       "      <td>2016-10-25</td>\n",
       "      <td>2017-03-02</td>\n",
       "      <td>517.0</td>\n",
       "    </tr>\n",
       "  </tbody>\n",
       "</table>\n",
       "</div>"
      ],
      "text/plain": [
       "  opportunity_id      sales_agent         product  account deal_stage  \\\n",
       "0       1C1I7A6R      Moses Frase  GTX Plus Basic  Cancity        Won   \n",
       "1       Z063OYW0  Darcel Schlecht          GTXPro    Isdom        Won   \n",
       "2       EC4QE1BX  Darcel Schlecht      MG Special  Cancity        Won   \n",
       "3       MV1LWRNH      Moses Frase       GTX Basic  Codehow        Won   \n",
       "4       PE84CX4O        Zane Levy       GTX Basic   Hatfan        Won   \n",
       "\n",
       "  engage_date  close_date  close_value  \n",
       "0  2016-10-20  2017-03-01       1054.0  \n",
       "1  2016-10-25  2017-03-11       4514.0  \n",
       "2  2016-10-25  2017-03-07         50.0  \n",
       "3  2016-10-25  2017-03-09        588.0  \n",
       "4  2016-10-25  2017-03-02        517.0  "
      ]
     },
     "execution_count": 10,
     "metadata": {},
     "output_type": "execute_result"
    }
   ],
   "source": [
    "data_sales_pipeline = pd.read_csv('/Users/anadetorresjurado/code/MatthieuScarset/aisrm/raw_data/sales_pipeline.csv').copy()\n",
    "data_sales_pipeline.head()"
   ]
  },
  {
   "cell_type": "code",
   "execution_count": 36,
   "id": "8a16a814",
   "metadata": {},
   "outputs": [
    {
     "name": "stdout",
     "output_type": "stream",
     "text": [
      "INFO\n",
      "<class 'pandas.core.frame.DataFrame'>\n",
      "RangeIndex: 8800 entries, 0 to 8799\n",
      "Data columns (total 8 columns):\n",
      " #   Column          Non-Null Count  Dtype  \n",
      "---  ------          --------------  -----  \n",
      " 0   opportunity_id  8800 non-null   object \n",
      " 1   sales_agent     8800 non-null   object \n",
      " 2   product         8800 non-null   object \n",
      " 3   account         7375 non-null   object \n",
      " 4   deal_stage      8800 non-null   object \n",
      " 5   engage_date     8300 non-null   object \n",
      " 6   close_date      6711 non-null   object \n",
      " 7   close_value     6711 non-null   float64\n",
      "dtypes: float64(1), object(7)\n",
      "memory usage: 550.1+ KB\n"
     ]
    }
   ],
   "source": [
    "print('INFO')\n",
    "data_sales_pipeline.info()"
   ]
  },
  {
   "cell_type": "code",
   "execution_count": 39,
   "id": "c682b1a7",
   "metadata": {},
   "outputs": [
    {
     "name": "stdout",
     "output_type": "stream",
     "text": [
      "\n",
      "Missing Values\n"
     ]
    },
    {
     "data": {
      "text/plain": [
       "opportunity_id       0\n",
       "sales_agent          0\n",
       "product              0\n",
       "account           1425\n",
       "deal_stage           0\n",
       "engage_date        500\n",
       "close_date        2089\n",
       "close_value       2089\n",
       "dtype: int64"
      ]
     },
     "execution_count": 39,
     "metadata": {},
     "output_type": "execute_result"
    }
   ],
   "source": [
    "print('\\nMissing Values')\n",
    "data_sales_pipeline.isna().sum()"
   ]
  },
  {
   "cell_type": "code",
   "execution_count": 33,
   "id": "ed3bea44",
   "metadata": {},
   "outputs": [
    {
     "name": "stdout",
     "output_type": "stream",
     "text": [
      "\n",
      "Unique Values\n"
     ]
    },
    {
     "data": {
      "text/plain": [
       "opportunity_id    8800\n",
       "sales_agent         30\n",
       "product              7\n",
       "account             85\n",
       "deal_stage           4\n",
       "engage_date        421\n",
       "close_date         306\n",
       "close_value       2051\n",
       "dtype: int64"
      ]
     },
     "execution_count": 33,
     "metadata": {},
     "output_type": "execute_result"
    }
   ],
   "source": [
    "print('\\nUnique Values')\n",
    "data_sales_pipeline.nunique()"
   ]
  },
  {
   "cell_type": "markdown",
   "id": "7a6234c3",
   "metadata": {},
   "source": [
    "**🔍 Observaciones sobre `data_sales_pipeline`**\n",
    "\n",
    "- ⚠️ **Hay valores nulos importantes**:\n",
    "  - `account`: 1425 nulos → puede que algunas oportunidades no estén asignadas a una cuenta específica.\n",
    "  - `engage_date`, `close_date`, `close_value`: alrededor de 2.000 nulos → puede indicar oportunidades en curso o incompletas (por ejemplo, no cerradas aún).\n",
    "\n",
    "- 🆔 `opportunity_id` es único por fila → identificador claro de cada oportunidad de venta.\n",
    "\n",
    "- 🧑‍💼 `sales_agent` tiene 30 valores → podrías analizar rendimiento individual o por manager (via unión con `sales_team`).\n",
    "\n",
    "- 📦 `product` se puede unir con `data_products` → útil para ver precio, serie y relacionarlo con resultados.\n",
    "\n",
    "- 🔄 `deal_stage` tiene 4 valores → variable categórica crítica para modelar el proceso comercial (`Won`, `Lost`, etc.).\n",
    "\n",
    "- 📅 `engage_date` y `close_date` aún son strings (object), pero deben convertirse a `datetime` para análisis temporal:\n",
    "  ```python\n",
    "  data_sales_pipeline['engage_date'] = pd.to_datetime(data_sales_pipeline['engage_date'])\n",
    "  data_sales_pipeline['close_date'] = pd.to_datetime(data_sales_pipeline['close_date'])\n"
   ]
  },
  {
   "cell_type": "markdown",
   "id": "55a978fc",
   "metadata": {},
   "source": [
    "🧠 Ideas futuras:\n",
    "\n",
    "Calcular duración de los ciclos de venta (close_date - engage_date)\n",
    "Analizar tasa de conversión por agente, producto, serie, región…\n",
    "Filtrar oportunidades incompletas si se quiere modelar solo ventas finalizadas"
   ]
  },
  {
   "cell_type": "markdown",
   "id": "27b18a2a",
   "metadata": {},
   "source": [
    "### Sales Team"
   ]
  },
  {
   "cell_type": "markdown",
   "id": "9adcd51f",
   "metadata": {},
   "source": [
    "The sales_team table provides organizational information about the company’s sales agents. Each row includes a sales agent’s name, their direct manager, and the regional office they are assigned to. This data can be used to analyze team structures, compare performance across regions, and identify managerial influence on sales outcomes."
   ]
  },
  {
   "cell_type": "code",
   "execution_count": 11,
   "id": "e93d7377",
   "metadata": {
    "scrolled": true
   },
   "outputs": [
    {
     "data": {
      "text/html": [
       "<div>\n",
       "<style scoped>\n",
       "    .dataframe tbody tr th:only-of-type {\n",
       "        vertical-align: middle;\n",
       "    }\n",
       "\n",
       "    .dataframe tbody tr th {\n",
       "        vertical-align: top;\n",
       "    }\n",
       "\n",
       "    .dataframe thead th {\n",
       "        text-align: right;\n",
       "    }\n",
       "</style>\n",
       "<table border=\"1\" class=\"dataframe\">\n",
       "  <thead>\n",
       "    <tr style=\"text-align: right;\">\n",
       "      <th></th>\n",
       "      <th>sales_agent</th>\n",
       "      <th>manager</th>\n",
       "      <th>regional_office</th>\n",
       "    </tr>\n",
       "  </thead>\n",
       "  <tbody>\n",
       "    <tr>\n",
       "      <th>0</th>\n",
       "      <td>Anna Snelling</td>\n",
       "      <td>Dustin Brinkmann</td>\n",
       "      <td>Central</td>\n",
       "    </tr>\n",
       "    <tr>\n",
       "      <th>1</th>\n",
       "      <td>Cecily Lampkin</td>\n",
       "      <td>Dustin Brinkmann</td>\n",
       "      <td>Central</td>\n",
       "    </tr>\n",
       "    <tr>\n",
       "      <th>2</th>\n",
       "      <td>Versie Hillebrand</td>\n",
       "      <td>Dustin Brinkmann</td>\n",
       "      <td>Central</td>\n",
       "    </tr>\n",
       "    <tr>\n",
       "      <th>3</th>\n",
       "      <td>Lajuana Vencill</td>\n",
       "      <td>Dustin Brinkmann</td>\n",
       "      <td>Central</td>\n",
       "    </tr>\n",
       "    <tr>\n",
       "      <th>4</th>\n",
       "      <td>Moses Frase</td>\n",
       "      <td>Dustin Brinkmann</td>\n",
       "      <td>Central</td>\n",
       "    </tr>\n",
       "  </tbody>\n",
       "</table>\n",
       "</div>"
      ],
      "text/plain": [
       "         sales_agent           manager regional_office\n",
       "0      Anna Snelling  Dustin Brinkmann         Central\n",
       "1     Cecily Lampkin  Dustin Brinkmann         Central\n",
       "2  Versie Hillebrand  Dustin Brinkmann         Central\n",
       "3    Lajuana Vencill  Dustin Brinkmann         Central\n",
       "4        Moses Frase  Dustin Brinkmann         Central"
      ]
     },
     "execution_count": 11,
     "metadata": {},
     "output_type": "execute_result"
    }
   ],
   "source": [
    "data_sales_team = pd.read_csv('/Users/anadetorresjurado/code/MatthieuScarset/aisrm/raw_data/sales_teams.csv').copy()\n",
    "data_sales_team.head()"
   ]
  },
  {
   "cell_type": "code",
   "execution_count": 37,
   "id": "455490c9",
   "metadata": {},
   "outputs": [
    {
     "name": "stdout",
     "output_type": "stream",
     "text": [
      "INFO\n",
      "<class 'pandas.core.frame.DataFrame'>\n",
      "RangeIndex: 35 entries, 0 to 34\n",
      "Data columns (total 3 columns):\n",
      " #   Column           Non-Null Count  Dtype \n",
      "---  ------           --------------  ----- \n",
      " 0   sales_agent      35 non-null     object\n",
      " 1   manager          35 non-null     object\n",
      " 2   regional_office  35 non-null     object\n",
      "dtypes: object(3)\n",
      "memory usage: 968.0+ bytes\n"
     ]
    }
   ],
   "source": [
    "print('INFO')\n",
    "data_sales_team.info()"
   ]
  },
  {
   "cell_type": "code",
   "execution_count": 40,
   "id": "908bbe06",
   "metadata": {},
   "outputs": [
    {
     "name": "stdout",
     "output_type": "stream",
     "text": [
      "\n",
      "Missing Values\n"
     ]
    },
    {
     "data": {
      "text/plain": [
       "sales_agent        0\n",
       "manager            0\n",
       "regional_office    0\n",
       "dtype: int64"
      ]
     },
     "execution_count": 40,
     "metadata": {},
     "output_type": "execute_result"
    }
   ],
   "source": [
    "print('\\nMissing Values')\n",
    "data_sales_team.isna().sum()"
   ]
  },
  {
   "cell_type": "code",
   "execution_count": 34,
   "id": "7418d5e1",
   "metadata": {},
   "outputs": [
    {
     "name": "stdout",
     "output_type": "stream",
     "text": [
      "\n",
      "Unique Values\n"
     ]
    },
    {
     "data": {
      "text/plain": [
       "sales_agent        35\n",
       "manager             6\n",
       "regional_office     3\n",
       "dtype: int64"
      ]
     },
     "execution_count": 34,
     "metadata": {},
     "output_type": "execute_result"
    }
   ],
   "source": [
    "print('\\nUnique Values')\n",
    "data_sales_team.nunique()"
   ]
  },
  {
   "cell_type": "markdown",
   "id": "37b91933",
   "metadata": {},
   "source": [
    "**🔍 Observaciones sobre `data_sales_team`**\n",
    "\n",
    "- ✅ No hay valores nulos → tabla perfectamente limpia.\n",
    "- 👩‍💼 35 filas únicas, una por `sales_agent` → coincide con la dimensión esperada del equipo de ventas.\n",
    "- 🧑‍💼 `manager` tiene solo 6 valores únicos → estructura jerárquica clara, ideal para analizar rendimiento por líder.\n",
    "- 🌍 `regional_office` tiene 3 valores únicos → posibilidad de comparar por zona geográfica.\n",
    "- 🔗 Esta tabla será útil para unirse con `sales_pipeline` vía `sales_agent` y así:\n",
    "  - Evaluar qué manager o región cierra más tratos.\n",
    "  - Detectar si hay disparidades de rendimiento entre equipos.\n"
   ]
  },
  {
   "cell_type": "markdown",
   "id": "e119dd6e",
   "metadata": {},
   "source": [
    "## Dataset Overview Summary\n"
   ]
  },
  {
   "cell_type": "code",
   "execution_count": 13,
   "id": "e5567c18",
   "metadata": {},
   "outputs": [],
   "source": [
    "def summarize_datasets(datasets_dict):\n",
    "    summary = []\n",
    "    \n",
    "    for name, df in datasets_dict.items():\n",
    "        summary.append({\n",
    "            'Dataset': name,\n",
    "            'Rows' : df.shape[0],\n",
    "            'Columns' : df.shape[1],\n",
    "            'Missing Values' : df.isna().sum().sum(),\n",
    "            'Duplicated Rows' : df.duplicated().sum()\n",
    "        })\n",
    "        \n",
    "    return pd.DataFrame(summary)"
   ]
  },
  {
   "cell_type": "code",
   "execution_count": 15,
   "id": "a3eba7f6",
   "metadata": {},
   "outputs": [
    {
     "data": {
      "text/html": [
       "<div>\n",
       "<style scoped>\n",
       "    .dataframe tbody tr th:only-of-type {\n",
       "        vertical-align: middle;\n",
       "    }\n",
       "\n",
       "    .dataframe tbody tr th {\n",
       "        vertical-align: top;\n",
       "    }\n",
       "\n",
       "    .dataframe thead th {\n",
       "        text-align: right;\n",
       "    }\n",
       "</style>\n",
       "<table border=\"1\" class=\"dataframe\">\n",
       "  <thead>\n",
       "    <tr style=\"text-align: right;\">\n",
       "      <th></th>\n",
       "      <th>Dataset</th>\n",
       "      <th>Rows</th>\n",
       "      <th>Columns</th>\n",
       "      <th>Missing Values</th>\n",
       "      <th>Duplicated Rows</th>\n",
       "    </tr>\n",
       "  </thead>\n",
       "  <tbody>\n",
       "    <tr>\n",
       "      <th>0</th>\n",
       "      <td>Accounts</td>\n",
       "      <td>85</td>\n",
       "      <td>7</td>\n",
       "      <td>70</td>\n",
       "      <td>0</td>\n",
       "    </tr>\n",
       "    <tr>\n",
       "      <th>1</th>\n",
       "      <td>Data Disctionary</td>\n",
       "      <td>21</td>\n",
       "      <td>3</td>\n",
       "      <td>0</td>\n",
       "      <td>0</td>\n",
       "    </tr>\n",
       "    <tr>\n",
       "      <th>2</th>\n",
       "      <td>Products</td>\n",
       "      <td>7</td>\n",
       "      <td>3</td>\n",
       "      <td>0</td>\n",
       "      <td>0</td>\n",
       "    </tr>\n",
       "    <tr>\n",
       "      <th>3</th>\n",
       "      <td>Sales Pipeline</td>\n",
       "      <td>8800</td>\n",
       "      <td>8</td>\n",
       "      <td>6103</td>\n",
       "      <td>0</td>\n",
       "    </tr>\n",
       "    <tr>\n",
       "      <th>4</th>\n",
       "      <td>Sales team</td>\n",
       "      <td>35</td>\n",
       "      <td>3</td>\n",
       "      <td>0</td>\n",
       "      <td>0</td>\n",
       "    </tr>\n",
       "  </tbody>\n",
       "</table>\n",
       "</div>"
      ],
      "text/plain": [
       "            Dataset  Rows  Columns  Missing Values  Duplicated Rows\n",
       "0          Accounts    85        7              70                0\n",
       "1  Data Disctionary    21        3               0                0\n",
       "2          Products     7        3               0                0\n",
       "3    Sales Pipeline  8800        8            6103                0\n",
       "4        Sales team    35        3               0                0"
      ]
     },
     "execution_count": 15,
     "metadata": {},
     "output_type": "execute_result"
    }
   ],
   "source": [
    "datasets = {\n",
    "    'Accounts': data_accounts,\n",
    "    'Data Disctionary' : data_dictionary,\n",
    "    'Products' : data_products,\n",
    "    'Sales Pipeline' : data_sales_pipeline,\n",
    "    'Sales team' : data_sales_team\n",
    "}\n",
    "\n",
    "summary_df = summarize_datasets(datasets)\n",
    "summary_df"
   ]
  },
  {
   "cell_type": "code",
   "execution_count": null,
   "id": "866ec298",
   "metadata": {},
   "outputs": [],
   "source": []
  },
  {
   "cell_type": "code",
   "execution_count": null,
   "id": "7b3f3246",
   "metadata": {},
   "outputs": [],
   "source": []
  }
 ],
 "metadata": {
  "kernelspec": {
   "display_name": "Python 3 (ipykernel)",
   "language": "python",
   "name": "python3"
  },
  "language_info": {
   "codemirror_mode": {
    "name": "ipython",
    "version": 3
   },
   "file_extension": ".py",
   "mimetype": "text/x-python",
   "name": "python",
   "nbconvert_exporter": "python",
   "pygments_lexer": "ipython3",
   "version": "3.10.6"
  },
  "toc": {
   "base_numbering": 1,
   "nav_menu": {},
   "number_sections": true,
   "sideBar": true,
   "skip_h1_title": false,
   "title_cell": "Table of Contents",
   "title_sidebar": "Contents",
   "toc_cell": false,
   "toc_position": {},
   "toc_section_display": true,
   "toc_window_display": false
  }
 },
 "nbformat": 4,
 "nbformat_minor": 5
}
